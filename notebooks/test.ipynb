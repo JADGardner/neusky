{
 "cells": [
  {
   "cell_type": "code",
   "execution_count": 1,
   "metadata": {},
   "outputs": [
    {
     "data": {
      "text/html": [
       "<pre style=\"white-space:pre;overflow-x:auto;line-height:normal;font-family:Menlo,'DejaVu Sans Mono',consolas,'Courier New',monospace\">Setting up training dataset<span style=\"color: #808000; text-decoration-color: #808000\">...</span>\n",
       "</pre>\n"
      ],
      "text/plain": [
       "Setting up training dataset\u001b[33m...\u001b[0m\n"
      ]
     },
     "metadata": {},
     "output_type": "display_data"
    },
    {
     "data": {
      "text/html": [
       "<pre style=\"white-space:pre;overflow-x:auto;line-height:normal;font-family:Menlo,'DejaVu Sans Mono',consolas,'Courier New',monospace\">Caching all <span style=\"color: #008080; text-decoration-color: #008080; font-weight: bold\">160</span> images.\n",
       "</pre>\n"
      ],
      "text/plain": [
       "Caching all \u001b[1;36m160\u001b[0m images.\n"
      ]
     },
     "metadata": {},
     "output_type": "display_data"
    },
    {
     "data": {
      "application/vnd.jupyter.widget-view+json": {
       "model_id": "9757b639076441c080384a8141890638",
       "version_major": 2,
       "version_minor": 0
      },
      "text/plain": [
       "Output()"
      ]
     },
     "metadata": {},
     "output_type": "display_data"
    },
    {
     "data": {
      "text/html": [
       "<pre style=\"white-space:pre;overflow-x:auto;line-height:normal;font-family:Menlo,'DejaVu Sans Mono',consolas,'Courier New',monospace\"></pre>\n"
      ],
      "text/plain": []
     },
     "metadata": {},
     "output_type": "display_data"
    },
    {
     "data": {
      "text/html": [
       "<pre style=\"white-space:pre;overflow-x:auto;line-height:normal;font-family:Menlo,'DejaVu Sans Mono',consolas,'Courier New',monospace\">\n",
       "</pre>\n"
      ],
      "text/plain": [
       "\n"
      ]
     },
     "metadata": {},
     "output_type": "display_data"
    },
    {
     "data": {
      "text/html": [
       "<pre style=\"white-space:pre;overflow-x:auto;line-height:normal;font-family:Menlo,'DejaVu Sans Mono',consolas,'Courier New',monospace\">Setting up evaluation dataset<span style=\"color: #808000; text-decoration-color: #808000\">...</span>\n",
       "</pre>\n"
      ],
      "text/plain": [
       "Setting up evaluation dataset\u001b[33m...\u001b[0m\n"
      ]
     },
     "metadata": {},
     "output_type": "display_data"
    },
    {
     "data": {
      "text/html": [
       "<pre style=\"white-space:pre;overflow-x:auto;line-height:normal;font-family:Menlo,'DejaVu Sans Mono',consolas,'Courier New',monospace\">Caching all <span style=\"color: #008080; text-decoration-color: #008080; font-weight: bold\">5</span> images.\n",
       "</pre>\n"
      ],
      "text/plain": [
       "Caching all \u001b[1;36m5\u001b[0m images.\n"
      ]
     },
     "metadata": {},
     "output_type": "display_data"
    },
    {
     "data": {
      "application/vnd.jupyter.widget-view+json": {
       "model_id": "e71954fcb563441dbc3153cee7c16f76",
       "version_major": 2,
       "version_minor": 0
      },
      "text/plain": [
       "Output()"
      ]
     },
     "metadata": {},
     "output_type": "display_data"
    },
    {
     "data": {
      "text/html": [
       "<pre style=\"white-space:pre;overflow-x:auto;line-height:normal;font-family:Menlo,'DejaVu Sans Mono',consolas,'Courier New',monospace\"></pre>\n"
      ],
      "text/plain": []
     },
     "metadata": {},
     "output_type": "display_data"
    },
    {
     "data": {
      "text/html": [
       "<pre style=\"white-space:pre;overflow-x:auto;line-height:normal;font-family:Menlo,'DejaVu Sans Mono',consolas,'Courier New',monospace\">\n",
       "</pre>\n"
      ],
      "text/plain": [
       "\n"
      ]
     },
     "metadata": {},
     "output_type": "display_data"
    },
    {
     "data": {
      "text/html": [
       "<pre style=\"white-space:pre;overflow-x:auto;line-height:normal;font-family:Menlo,'DejaVu Sans Mono',consolas,'Courier New',monospace\">Caching all <span style=\"color: #008080; text-decoration-color: #008080; font-weight: bold\">5</span> images.\n",
       "</pre>\n"
      ],
      "text/plain": [
       "Caching all \u001b[1;36m5\u001b[0m images.\n"
      ]
     },
     "metadata": {},
     "output_type": "display_data"
    },
    {
     "data": {
      "application/vnd.jupyter.widget-view+json": {
       "model_id": "2e45279c054f471594f8875cb4e7aeea",
       "version_major": 2,
       "version_minor": 0
      },
      "text/plain": [
       "Output()"
      ]
     },
     "metadata": {},
     "output_type": "display_data"
    },
    {
     "data": {
      "text/html": [
       "<pre style=\"white-space:pre;overflow-x:auto;line-height:normal;font-family:Menlo,'DejaVu Sans Mono',consolas,'Courier New',monospace\"></pre>\n"
      ],
      "text/plain": []
     },
     "metadata": {},
     "output_type": "display_data"
    },
    {
     "data": {
      "text/html": [
       "<pre style=\"white-space:pre;overflow-x:auto;line-height:normal;font-family:Menlo,'DejaVu Sans Mono',consolas,'Courier New',monospace\">\n",
       "</pre>\n"
      ],
      "text/plain": [
       "\n"
      ]
     },
     "metadata": {},
     "output_type": "display_data"
    },
    {
     "data": {
      "text/html": [
       "<pre style=\"white-space:pre;overflow-x:auto;line-height:normal;font-family:Menlo,'DejaVu Sans Mono',consolas,'Courier New',monospace\">Caching all <span style=\"color: #008080; text-decoration-color: #008080; font-weight: bold\">5</span> images.\n",
       "</pre>\n"
      ],
      "text/plain": [
       "Caching all \u001b[1;36m5\u001b[0m images.\n"
      ]
     },
     "metadata": {},
     "output_type": "display_data"
    },
    {
     "data": {
      "application/vnd.jupyter.widget-view+json": {
       "model_id": "799859866a1a45e1bb3504601f935ba3",
       "version_major": 2,
       "version_minor": 0
      },
      "text/plain": [
       "Output()"
      ]
     },
     "metadata": {},
     "output_type": "display_data"
    },
    {
     "data": {
      "text/html": [
       "<pre style=\"white-space:pre;overflow-x:auto;line-height:normal;font-family:Menlo,'DejaVu Sans Mono',consolas,'Courier New',monospace\"></pre>\n"
      ],
      "text/plain": []
     },
     "metadata": {},
     "output_type": "display_data"
    },
    {
     "data": {
      "text/html": [
       "<pre style=\"white-space:pre;overflow-x:auto;line-height:normal;font-family:Menlo,'DejaVu Sans Mono',consolas,'Courier New',monospace\">\n",
       "</pre>\n"
      ],
      "text/plain": [
       "\n"
      ]
     },
     "metadata": {},
     "output_type": "display_data"
    }
   ],
   "source": [
    "import os\n",
    "import torch\n",
    "import yaml\n",
    "from pathlib import Path\n",
    "import random\n",
    "import matplotlib.pyplot as plt\n",
    "import numpy as np\n",
    "import tqdm\n",
    "import plotly.graph_objects as go\n",
    "from torch.utils.data import Dataset\n",
    "\n",
    "from nerfstudio.configs import base_config as cfg\n",
    "from nerfstudio.configs.method_configs import method_configs\n",
    "from nerfstudio.data.dataparsers.nerfosr_dataparser import NeRFOSR, NeRFOSRDataParserConfig\n",
    "from nerfstudio.pipelines.base_pipeline import VanillaDataManager\n",
    "from nerfstudio.field_components.field_heads import FieldHeadNames\n",
    "from nerfstudio.cameras.rays import RayBundle, RaySamples, Frustums\n",
    "from nerfstudio.utils.colormaps import apply_depth_colormap\n",
    "from nerfstudio.field_components.encodings import SHEncoding, NeRFEncoding\n",
    "import tinycudann as tcnn\n",
    "\n",
    "from reni_neus.models.reni_neus_model import RENINeuSFactoModelConfig, RENINeuSFactoModel\n",
    "from reni_neus.utils.utils import look_at_target, random_points_on_unit_sphere\n",
    "from reni_neus.data.datamanagers.reni_neus_datamanager import RENINeuSDataManagerConfig, RENINeuSDataManager\n",
    "from reni_neus.configs.ddf_config import DirectionalDistanceField\n",
    "from reni_neus.configs.reni_neus_config import RENINeuS\n",
    "from reni_neus.utils.utils import find_nerfstudio_project_root, rot_z\n",
    "\n",
    "project_root = find_nerfstudio_project_root(Path(os.getcwd()))\n",
    "# set current working directory to nerfstudio project root\n",
    "os.chdir(project_root)\n",
    "\n",
    "# setup config\n",
    "test_mode = 'val'\n",
    "world_size = 1\n",
    "local_rank = 0\n",
    "device = 'cuda:0'\n",
    "\n",
    "reni_neus_config = RENINeuS\n",
    "reni_neus_config.config.pipeline.visibility_ckpt_path = Path('outputs/ddf/ddf/2023-08-31_101658/')\n",
    "reni_neus_config.config.pipeline.visibility_ckpt_step = 20000\n",
    "reni_neus_config.config.pipeline.reni_neus_ckpt_path = Path('outputs/reni-neus/reni-neus/2023-08-30_111340/')\n",
    "reni_neus_config.config.pipeline.reni_neus_ckpt_step = 100000\n",
    "reni_neus_config.config.pipeline.model.use_visibility = True\n",
    "reni_neus_config.config.pipeline.model.visibility_threshold = 0.1\n",
    "reni_neus_config.config.pipeline.model.fit_visibility_field = False\n",
    "\n",
    "\n",
    "pipeline = reni_neus_config.config.pipeline.setup(device=device, test_mode=test_mode, world_size=world_size, local_rank=local_rank)\n",
    "datamanager = pipeline.datamanager\n",
    "model = pipeline.model\n",
    "model = model.eval()"
   ]
  },
  {
   "cell_type": "code",
   "execution_count": 2,
   "metadata": {},
   "outputs": [],
   "source": [
    "batch = next(iter(datamanager.eval_session_holdout_dataloader))"
   ]
  },
  {
   "cell_type": "code",
   "execution_count": 4,
   "metadata": {},
   "outputs": [],
   "source": [
    "session_image_idxs = datamanager.eval_dataset.metadata[\"session_eval_indices\"]\n",
    "# currently session_image_idxs is the image idxs relative to session\n",
    "# but we want it to be relative to the whole dataset\n",
    "image_idxs_holdout = []\n",
    "for session_relative_idx, session in zip(session_image_idxs, datamanager.eval_dataset.metadata[\"session_to_indices\"]):\n",
    "  image_idxs_holdout.append(int(session[session_relative_idx]))"
   ]
  },
  {
   "cell_type": "code",
   "execution_count": 6,
   "metadata": {},
   "outputs": [
    {
     "data": {
      "text/plain": [
       "{'01-08_07_30': [0],\n",
       " '08-08_16_00': [1],\n",
       " '28-07_10_00': [2],\n",
       " '29-07_12_00': [3],\n",
       " '29-07_20_30': [4]}"
      ]
     },
     "execution_count": 6,
     "metadata": {},
     "output_type": "execute_result"
    }
   ],
   "source": [
    "datamanager.eval_dataset.metadata[\"session_to_indices\"]"
   ]
  },
  {
   "cell_type": "code",
   "execution_count": 15,
   "metadata": {},
   "outputs": [],
   "source": [
    "subset = torch.utils.data.Subset(datamanager.eval_dataset, [0, 1, 2])"
   ]
  },
  {
   "cell_type": "code",
   "execution_count": 20,
   "metadata": {},
   "outputs": [
    {
     "data": {
      "text/plain": [
       "{'semantics': Semantics(filenames=['data/NeRF-OSR/Data/lk2/final/validation/cityscapes_mask/01-08_07_30_IMG_6660.png', 'data/NeRF-OSR/Data/lk2/final/validation/cityscapes_mask/08-08_16_00_IMG_7850.png', 'data/NeRF-OSR/Data/lk2/final/validation/cityscapes_mask/28-07_10_00_IMG_5262.png', 'data/NeRF-OSR/Data/lk2/final/validation/cityscapes_mask/29-07_12_00_IMG_5512.png', 'data/NeRF-OSR/Data/lk2/final/validation/cityscapes_mask/29-07_20_30_IMG_5592.png'], classes=['road', 'sidewalk', 'building', 'wall', 'fence', 'pole', 'traffic light', 'traffic sign', 'vegetation', 'terrain', 'sky', 'person', 'rider', 'car', 'truck', 'bus', 'train', 'motorcycle', 'bicycle'], colors=tensor([[128,  64, 128],\n",
       "         [244,  35, 232],\n",
       "         [ 70,  70,  70],\n",
       "         [102, 102, 156],\n",
       "         [190, 153, 153],\n",
       "         [153, 153, 153],\n",
       "         [250, 170,  30],\n",
       "         [220, 220,   0],\n",
       "         [107, 142,  35],\n",
       "         [152, 251, 152],\n",
       "         [ 70, 130, 180],\n",
       "         [220,  20,  60],\n",
       "         [255,   0,   0],\n",
       "         [  0,   0, 142],\n",
       "         [  0,   0,  70],\n",
       "         [  0,  60, 100],\n",
       "         [  0,  80, 100],\n",
       "         [  0,   0, 230],\n",
       "         [119,  11,  32]], dtype=torch.uint8), mask_classes=[]),\n",
       " 'session_to_indices': {'01-08_07_30': [0],\n",
       "  '08-08_16_00': [1],\n",
       "  '28-07_10_00': [2],\n",
       "  '29-07_12_00': [3],\n",
       "  '29-07_20_30': [4]},\n",
       " 'session_eval_indices': [0, 0, 0, 0, 0],\n",
       " 'depth_filenames': None,\n",
       " 'normal_filenames': None,\n",
       " 'include_mono_prior': False,\n",
       " 'c2w_colmap': None,\n",
       " 'crop_to_equal_size': True,\n",
       " 'pad_to_equal_size': False,\n",
       " 'width_height': [1280, 823],\n",
       " 'mask_vegetation': False,\n",
       " 'c2w': tensor([[[ 8.5613e-01, -1.3188e-01, -4.9965e-01, -3.5923e-01],\n",
       "          [-5.1674e-01, -2.2742e-01, -8.2539e-01, -4.5829e-01],\n",
       "          [-4.7752e-03,  9.6483e-01, -2.6285e-01, -1.9752e-03]],\n",
       " \n",
       "         [[ 9.9174e-01, -1.7487e-02, -1.2707e-01, -7.3774e-02],\n",
       "          [-1.2714e-01, -2.6496e-01, -9.5584e-01, -5.0940e-01],\n",
       "          [-1.6954e-02,  9.6410e-01, -2.6500e-01, -2.8177e-05]],\n",
       " \n",
       "         [[ 9.1275e-01,  1.5086e-01,  3.7965e-01,  3.1483e-01],\n",
       "          [ 4.0781e-01, -2.8140e-01, -8.6862e-01, -4.2466e-01],\n",
       "          [-2.4205e-02,  9.4766e-01, -3.1837e-01,  1.1129e-03]],\n",
       " \n",
       "         [[ 9.1500e-01, -8.0022e-02, -3.9543e-01, -3.0342e-01],\n",
       "          [-4.0341e-01, -1.6700e-01, -8.9965e-01, -5.2006e-01],\n",
       "          [ 5.9531e-03,  9.8270e-01, -1.8509e-01, -2.4598e-03]],\n",
       " \n",
       "         [[ 8.5507e-01,  1.2769e-01,  5.0255e-01,  3.1603e-01],\n",
       "          [ 5.1837e-01, -1.8701e-01, -8.3446e-01, -4.2637e-01],\n",
       "          [-1.2574e-02,  9.7402e-01, -2.2610e-01,  1.5574e-03]]])}"
      ]
     },
     "execution_count": 20,
     "metadata": {},
     "output_type": "execute_result"
    }
   ],
   "source": [
    "datamanager.eval_dataset.metadata"
   ]
  },
  {
   "cell_type": "code",
   "execution_count": 17,
   "metadata": {},
   "outputs": [
    {
     "data": {
      "text/plain": [
       "{'image_idx': 0,\n",
       " 'image': tensor([[[0.8941, 0.8980, 0.9176],\n",
       "          [0.8980, 0.9020, 0.9216],\n",
       "          [0.8941, 0.8980, 0.9176],\n",
       "          ...,\n",
       "          [0.9255, 0.9216, 0.9529],\n",
       "          [0.9255, 0.9216, 0.9529],\n",
       "          [0.9255, 0.9216, 0.9529]],\n",
       " \n",
       "         [[0.8980, 0.8941, 0.9137],\n",
       "          [0.8980, 0.8941, 0.9137],\n",
       "          [0.8941, 0.8980, 0.9176],\n",
       "          ...,\n",
       "          [0.9255, 0.9216, 0.9529],\n",
       "          [0.9255, 0.9216, 0.9529],\n",
       "          [0.9294, 0.9255, 0.9569]],\n",
       " \n",
       "         [[0.8941, 0.8902, 0.9098],\n",
       "          [0.8941, 0.8902, 0.9098],\n",
       "          [0.8941, 0.8980, 0.9176],\n",
       "          ...,\n",
       "          [0.9294, 0.9255, 0.9569],\n",
       "          [0.9294, 0.9255, 0.9569],\n",
       "          [0.9294, 0.9255, 0.9569]],\n",
       " \n",
       "         ...,\n",
       " \n",
       "         [[0.5020, 0.4745, 0.4510],\n",
       "          [0.4549, 0.4275, 0.4039],\n",
       "          [0.4588, 0.4314, 0.4078],\n",
       "          ...,\n",
       "          [0.4745, 0.4667, 0.4196],\n",
       "          [0.4784, 0.4627, 0.4157],\n",
       "          [0.4941, 0.4824, 0.4235]],\n",
       " \n",
       "         [[0.5255, 0.4980, 0.4667],\n",
       "          [0.5529, 0.5255, 0.4941],\n",
       "          [0.5843, 0.5569, 0.5333],\n",
       "          ...,\n",
       "          [0.4667, 0.4314, 0.3961],\n",
       "          [0.4863, 0.4510, 0.4235],\n",
       "          [0.4941, 0.4588, 0.4314]],\n",
       " \n",
       "         [[0.4824, 0.4549, 0.4235],\n",
       "          [0.4902, 0.4627, 0.4314],\n",
       "          [0.5216, 0.4941, 0.4706],\n",
       "          ...,\n",
       "          [0.4353, 0.3961, 0.3569],\n",
       "          [0.4510, 0.4118, 0.3765],\n",
       "          [0.4627, 0.4235, 0.3882]]]),\n",
       " 'mask': tensor([[[1., 0., 0., 1.],\n",
       "          [1., 0., 0., 1.],\n",
       "          [1., 0., 0., 1.],\n",
       "          ...,\n",
       "          [1., 0., 0., 1.],\n",
       "          [1., 0., 0., 1.],\n",
       "          [1., 0., 0., 1.]],\n",
       " \n",
       "         [[1., 0., 0., 1.],\n",
       "          [1., 0., 0., 1.],\n",
       "          [1., 0., 0., 1.],\n",
       "          ...,\n",
       "          [1., 0., 0., 1.],\n",
       "          [1., 0., 0., 1.],\n",
       "          [1., 0., 0., 1.]],\n",
       " \n",
       "         [[1., 0., 0., 1.],\n",
       "          [1., 0., 0., 1.],\n",
       "          [1., 0., 0., 1.],\n",
       "          ...,\n",
       "          [1., 0., 0., 1.],\n",
       "          [1., 0., 0., 1.],\n",
       "          [1., 0., 0., 1.]],\n",
       " \n",
       "         ...,\n",
       " \n",
       "         [[1., 1., 1., 0.],\n",
       "          [1., 1., 1., 0.],\n",
       "          [1., 1., 1., 0.],\n",
       "          ...,\n",
       "          [1., 1., 1., 0.],\n",
       "          [1., 1., 1., 0.],\n",
       "          [1., 1., 1., 0.]],\n",
       " \n",
       "         [[1., 1., 1., 0.],\n",
       "          [1., 1., 1., 0.],\n",
       "          [1., 1., 1., 0.],\n",
       "          ...,\n",
       "          [1., 1., 1., 0.],\n",
       "          [1., 1., 1., 0.],\n",
       "          [1., 1., 1., 0.]],\n",
       " \n",
       "         [[1., 1., 1., 0.],\n",
       "          [1., 1., 1., 0.],\n",
       "          [1., 1., 1., 0.],\n",
       "          ...,\n",
       "          [1., 1., 1., 0.],\n",
       "          [1., 1., 1., 0.],\n",
       "          [1., 1., 1., 0.]]])}"
      ]
     },
     "execution_count": 17,
     "metadata": {},
     "output_type": "execute_result"
    }
   ],
   "source": [
    "batch"
   ]
  }
 ],
 "metadata": {
  "kernelspec": {
   "display_name": "Python 3",
   "language": "python",
   "name": "python3"
  },
  "language_info": {
   "codemirror_mode": {
    "name": "ipython",
    "version": 3
   },
   "file_extension": ".py",
   "mimetype": "text/x-python",
   "name": "python",
   "nbconvert_exporter": "python",
   "pygments_lexer": "ipython3",
   "version": "3.10.6"
  },
  "orig_nbformat": 4
 },
 "nbformat": 4,
 "nbformat_minor": 2
}
