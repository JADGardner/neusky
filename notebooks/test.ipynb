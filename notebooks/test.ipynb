{
 "cells": [
  {
   "cell_type": "code",
   "execution_count": 1,
   "metadata": {},
   "outputs": [
    {
     "data": {
      "text/html": [
       "<pre style=\"white-space:pre;overflow-x:auto;line-height:normal;font-family:Menlo,'DejaVu Sans Mono',consolas,'Courier New',monospace\">Setting up training dataset<span style=\"color: #808000; text-decoration-color: #808000\">...</span>\n",
       "</pre>\n"
      ],
      "text/plain": [
       "Setting up training dataset\u001b[33m...\u001b[0m\n"
      ]
     },
     "metadata": {},
     "output_type": "display_data"
    },
    {
     "data": {
      "text/html": [
       "<pre style=\"white-space:pre;overflow-x:auto;line-height:normal;font-family:Menlo,'DejaVu Sans Mono',consolas,'Courier New',monospace\">Caching all <span style=\"color: #008080; text-decoration-color: #008080; font-weight: bold\">160</span> images.\n",
       "</pre>\n"
      ],
      "text/plain": [
       "Caching all \u001b[1;36m160\u001b[0m images.\n"
      ]
     },
     "metadata": {},
     "output_type": "display_data"
    },
    {
     "data": {
      "application/vnd.jupyter.widget-view+json": {
       "model_id": "a5ba4ce7dda54a0eb7d8ad37acd98e23",
       "version_major": 2,
       "version_minor": 0
      },
      "text/plain": [
       "Output()"
      ]
     },
     "metadata": {},
     "output_type": "display_data"
    },
    {
     "data": {
      "text/html": [
       "<pre style=\"white-space:pre;overflow-x:auto;line-height:normal;font-family:Menlo,'DejaVu Sans Mono',consolas,'Courier New',monospace\"></pre>\n"
      ],
      "text/plain": []
     },
     "metadata": {},
     "output_type": "display_data"
    },
    {
     "data": {
      "text/html": [
       "<pre style=\"white-space:pre;overflow-x:auto;line-height:normal;font-family:Menlo,'DejaVu Sans Mono',consolas,'Courier New',monospace\">\n",
       "</pre>\n"
      ],
      "text/plain": [
       "\n"
      ]
     },
     "metadata": {},
     "output_type": "display_data"
    },
    {
     "data": {
      "text/html": [
       "<pre style=\"white-space:pre;overflow-x:auto;line-height:normal;font-family:Menlo,'DejaVu Sans Mono',consolas,'Courier New',monospace\">Setting up evaluation dataset<span style=\"color: #808000; text-decoration-color: #808000\">...</span>\n",
       "</pre>\n"
      ],
      "text/plain": [
       "Setting up evaluation dataset\u001b[33m...\u001b[0m\n"
      ]
     },
     "metadata": {},
     "output_type": "display_data"
    },
    {
     "data": {
      "text/html": [
       "<pre style=\"white-space:pre;overflow-x:auto;line-height:normal;font-family:Menlo,'DejaVu Sans Mono',consolas,'Courier New',monospace\">Caching all <span style=\"color: #008080; text-decoration-color: #008080; font-weight: bold\">95</span> images.\n",
       "</pre>\n"
      ],
      "text/plain": [
       "Caching all \u001b[1;36m95\u001b[0m images.\n"
      ]
     },
     "metadata": {},
     "output_type": "display_data"
    },
    {
     "data": {
      "application/vnd.jupyter.widget-view+json": {
       "model_id": "1ce063cd150044ae8bf4ed6e69bc32cf",
       "version_major": 2,
       "version_minor": 0
      },
      "text/plain": [
       "Output()"
      ]
     },
     "metadata": {},
     "output_type": "display_data"
    },
    {
     "data": {
      "text/html": [
       "<pre style=\"white-space:pre;overflow-x:auto;line-height:normal;font-family:Menlo,'DejaVu Sans Mono',consolas,'Courier New',monospace\"></pre>\n"
      ],
      "text/plain": []
     },
     "metadata": {},
     "output_type": "display_data"
    },
    {
     "data": {
      "text/html": [
       "<pre style=\"white-space:pre;overflow-x:auto;line-height:normal;font-family:Menlo,'DejaVu Sans Mono',consolas,'Courier New',monospace\">\n",
       "</pre>\n"
      ],
      "text/plain": [
       "\n"
      ]
     },
     "metadata": {},
     "output_type": "display_data"
    },
    {
     "data": {
      "text/html": [
       "<pre style=\"white-space:pre;overflow-x:auto;line-height:normal;font-family:Menlo,'DejaVu Sans Mono',consolas,'Courier New',monospace\">Caching all <span style=\"color: #008080; text-decoration-color: #008080; font-weight: bold\">95</span> images.\n",
       "</pre>\n"
      ],
      "text/plain": [
       "Caching all \u001b[1;36m95\u001b[0m images.\n"
      ]
     },
     "metadata": {},
     "output_type": "display_data"
    },
    {
     "data": {
      "application/vnd.jupyter.widget-view+json": {
       "model_id": "4c0e53718b5140478c471e9b5c69f5f6",
       "version_major": 2,
       "version_minor": 0
      },
      "text/plain": [
       "Output()"
      ]
     },
     "metadata": {},
     "output_type": "display_data"
    },
    {
     "data": {
      "text/html": [
       "<pre style=\"white-space:pre;overflow-x:auto;line-height:normal;font-family:Menlo,'DejaVu Sans Mono',consolas,'Courier New',monospace\"></pre>\n"
      ],
      "text/plain": []
     },
     "metadata": {},
     "output_type": "display_data"
    },
    {
     "data": {
      "text/html": [
       "<pre style=\"white-space:pre;overflow-x:auto;line-height:normal;font-family:Menlo,'DejaVu Sans Mono',consolas,'Courier New',monospace\">\n",
       "</pre>\n"
      ],
      "text/plain": [
       "\n"
      ]
     },
     "metadata": {},
     "output_type": "display_data"
    },
    {
     "data": {
      "text/html": [
       "<pre style=\"white-space:pre;overflow-x:auto;line-height:normal;font-family:Menlo,'DejaVu Sans Mono',consolas,'Courier New',monospace\">Caching all <span style=\"color: #008080; text-decoration-color: #008080; font-weight: bold\">95</span> images.\n",
       "</pre>\n"
      ],
      "text/plain": [
       "Caching all \u001b[1;36m95\u001b[0m images.\n"
      ]
     },
     "metadata": {},
     "output_type": "display_data"
    },
    {
     "data": {
      "application/vnd.jupyter.widget-view+json": {
       "model_id": "e3f3d0a63dfa48a0a2ef7cd91ed0e8c5",
       "version_major": 2,
       "version_minor": 0
      },
      "text/plain": [
       "Output()"
      ]
     },
     "metadata": {},
     "output_type": "display_data"
    },
    {
     "data": {
      "text/html": [
       "<pre style=\"white-space:pre;overflow-x:auto;line-height:normal;font-family:Menlo,'DejaVu Sans Mono',consolas,'Courier New',monospace\"></pre>\n"
      ],
      "text/plain": []
     },
     "metadata": {},
     "output_type": "display_data"
    },
    {
     "data": {
      "text/html": [
       "<pre style=\"white-space:pre;overflow-x:auto;line-height:normal;font-family:Menlo,'DejaVu Sans Mono',consolas,'Courier New',monospace\">\n",
       "</pre>\n"
      ],
      "text/plain": [
       "\n"
      ]
     },
     "metadata": {},
     "output_type": "display_data"
    }
   ],
   "source": [
    "import os\n",
    "import torch\n",
    "import yaml\n",
    "from pathlib import Path\n",
    "import random\n",
    "import matplotlib.pyplot as plt\n",
    "import numpy as np\n",
    "import tqdm\n",
    "import plotly.graph_objects as go\n",
    "from torch.utils.data import Dataset\n",
    "\n",
    "from nerfstudio.configs import base_config as cfg\n",
    "from nerfstudio.configs.method_configs import method_configs\n",
    "from nerfstudio.data.dataparsers.nerfosr_dataparser import NeRFOSR, NeRFOSRDataParserConfig\n",
    "from nerfstudio.pipelines.base_pipeline import VanillaDataManager\n",
    "from nerfstudio.field_components.field_heads import FieldHeadNames\n",
    "from nerfstudio.cameras.rays import RayBundle, RaySamples, Frustums\n",
    "from nerfstudio.utils.colormaps import apply_depth_colormap\n",
    "from nerfstudio.field_components.encodings import SHEncoding, NeRFEncoding\n",
    "import tinycudann as tcnn\n",
    "\n",
    "from reni_neus.models.reni_neus_model import RENINeuSFactoModelConfig, RENINeuSFactoModel\n",
    "from reni_neus.utils.utils import look_at_target, random_points_on_unit_sphere\n",
    "from reni_neus.data.datamanagers.reni_neus_datamanager import RENINeuSDataManagerConfig, RENINeuSDataManager\n",
    "from reni_neus.configs.ddf_config import DirectionalDistanceField\n",
    "from reni_neus.configs.reni_neus_config import RENINeuS\n",
    "from reni_neus.utils.utils import find_nerfstudio_project_root, rot_z\n",
    "\n",
    "project_root = find_nerfstudio_project_root(Path(os.getcwd()))\n",
    "# set current working directory to nerfstudio project root\n",
    "os.chdir(project_root)\n",
    "\n",
    "# setup config\n",
    "test_mode = 'test'\n",
    "world_size = 1\n",
    "local_rank = 0\n",
    "device = 'cuda:0'\n",
    "\n",
    "reni_neus_config = RENINeuS\n",
    "# reni_neus_config.config.pipeline.visibility_ckpt_path = Path('outputs/ddf/ddf/2023-08-31_101658/')\n",
    "# reni_neus_config.config.pipeline.visibility_ckpt_step = 20000\n",
    "# reni_neus_config.config.pipeline.reni_neus_ckpt_path = Path('outputs/reni-neus/reni-neus/2023-08-30_111340/')\n",
    "# reni_neus_config.config.pipeline.reni_neus_ckpt_step = 100000\n",
    "reni_neus_config.config.pipeline.model.use_visibility = True\n",
    "reni_neus_config.config.pipeline.model.visibility_threshold = 0.1\n",
    "reni_neus_config.config.pipeline.model.fit_visibility_field = False\n",
    "\n",
    "\n",
    "pipeline = reni_neus_config.config.pipeline.setup(device=device, test_mode=test_mode, world_size=world_size, local_rank=local_rank)\n",
    "datamanager = pipeline.datamanager\n",
    "model = pipeline.model\n",
    "model = model.eval()"
   ]
  },
  {
   "cell_type": "code",
   "execution_count": 2,
   "metadata": {},
   "outputs": [],
   "source": [
    "ray_bundle, batch = datamanager.next_train(0)\n",
    "# # need to update batch['indices'][:, 0] using indices_to_session which is a dict of keys: indices (ints) and values: session (ints)\n",
    "# batch['indices'][:, 0] = torch.tensor([indices_to_session[i.item()] for i in batch['indices'][:, 0]]).type_as(batch['indices'][:, 0])"
   ]
  },
  {
   "cell_type": "code",
   "execution_count": 37,
   "metadata": {},
   "outputs": [],
   "source": [
    "image_idx, camera_ray_bundle, batch = datamanager.next_eval_image(1)"
   ]
  },
  {
   "cell_type": "code",
   "execution_count": 38,
   "metadata": {},
   "outputs": [
    {
     "data": {
      "text/plain": [
       "tensor([[2, 2, 2,  ..., 2, 2, 2],\n",
       "        [2, 2, 2,  ..., 2, 2, 2],\n",
       "        [2, 2, 2,  ..., 2, 2, 2],\n",
       "        ...,\n",
       "        [2, 2, 2,  ..., 2, 2, 2],\n",
       "        [2, 2, 2,  ..., 2, 2, 2],\n",
       "        [2, 2, 2,  ..., 2, 2, 2]], device='cuda:0')"
      ]
     },
     "execution_count": 38,
     "metadata": {},
     "output_type": "execute_result"
    }
   ],
   "source": [
    "camera_ray_bundle.camera_indices[:, :, 0]"
   ]
  },
  {
   "cell_type": "code",
   "execution_count": 5,
   "metadata": {},
   "outputs": [
    {
     "data": {
      "text/plain": [
       "0"
      ]
     },
     "execution_count": 5,
     "metadata": {},
     "output_type": "execute_result"
    }
   ],
   "source": [
    "batch['image_idx']"
   ]
  },
  {
   "cell_type": "code",
   "execution_count": 31,
   "metadata": {},
   "outputs": [
    {
     "data": {
      "text/plain": [
       "{'image_idx': 32,\n",
       " 'image': tensor([[[0.8039, 0.8078, 0.8275],\n",
       "          [0.8039, 0.8078, 0.8275],\n",
       "          [0.8000, 0.8039, 0.8235],\n",
       "          ...,\n",
       "          [0.9255, 0.9216, 0.9451],\n",
       "          [0.9333, 0.9216, 0.9490],\n",
       "          [0.9333, 0.9216, 0.9490]],\n",
       " \n",
       "         [[0.8039, 0.8000, 0.8235],\n",
       "          [0.8039, 0.8000, 0.8235],\n",
       "          [0.8000, 0.8039, 0.8235],\n",
       "          ...,\n",
       "          [0.9333, 0.9294, 0.9529],\n",
       "          [0.9333, 0.9216, 0.9490],\n",
       "          [0.9333, 0.9216, 0.9490]],\n",
       " \n",
       "         [[0.8118, 0.8078, 0.8314],\n",
       "          [0.8078, 0.8039, 0.8275],\n",
       "          [0.8000, 0.8039, 0.8235],\n",
       "          ...,\n",
       "          [0.9294, 0.9255, 0.9490],\n",
       "          [0.9333, 0.9216, 0.9490],\n",
       "          [0.9333, 0.9216, 0.9490]],\n",
       " \n",
       "         ...,\n",
       " \n",
       "         [[0.5647, 0.5373, 0.4980],\n",
       "          [0.5922, 0.5686, 0.5216],\n",
       "          [0.6980, 0.6588, 0.6118],\n",
       "          ...,\n",
       "          [0.5647, 0.4784, 0.3882],\n",
       "          [0.5373, 0.4588, 0.3608],\n",
       "          [0.4980, 0.4196, 0.3216]],\n",
       " \n",
       "         [[0.6784, 0.6431, 0.6078],\n",
       "          [0.6549, 0.6196, 0.5843],\n",
       "          [0.6941, 0.6549, 0.6157],\n",
       "          ...,\n",
       "          [0.4275, 0.3569, 0.2627],\n",
       "          [0.4784, 0.4078, 0.3137],\n",
       "          [0.4824, 0.4118, 0.3176]],\n",
       " \n",
       "         [[0.6627, 0.6275, 0.5922],\n",
       "          [0.6706, 0.6353, 0.6000],\n",
       "          [0.7059, 0.6706, 0.6353],\n",
       "          ...,\n",
       "          [0.4196, 0.3529, 0.2745],\n",
       "          [0.4078, 0.3412, 0.2627],\n",
       "          [0.3804, 0.3137, 0.2353]]]),\n",
       " 'mask': tensor([[[1., 0., 0., 1.],\n",
       "          [1., 0., 0., 1.],\n",
       "          [1., 0., 0., 1.],\n",
       "          ...,\n",
       "          [1., 0., 0., 1.],\n",
       "          [1., 0., 0., 1.],\n",
       "          [1., 0., 0., 1.]],\n",
       " \n",
       "         [[1., 0., 0., 1.],\n",
       "          [1., 0., 0., 1.],\n",
       "          [1., 0., 0., 1.],\n",
       "          ...,\n",
       "          [1., 0., 0., 1.],\n",
       "          [1., 0., 0., 1.],\n",
       "          [1., 0., 0., 1.]],\n",
       " \n",
       "         [[1., 0., 0., 1.],\n",
       "          [1., 0., 0., 1.],\n",
       "          [1., 0., 0., 1.],\n",
       "          ...,\n",
       "          [1., 0., 0., 1.],\n",
       "          [1., 0., 0., 1.],\n",
       "          [1., 0., 0., 1.]],\n",
       " \n",
       "         ...,\n",
       " \n",
       "         [[1., 1., 1., 0.],\n",
       "          [1., 1., 1., 0.],\n",
       "          [1., 1., 1., 0.],\n",
       "          ...,\n",
       "          [1., 1., 1., 0.],\n",
       "          [1., 1., 1., 0.],\n",
       "          [1., 1., 1., 0.]],\n",
       " \n",
       "         [[1., 1., 1., 0.],\n",
       "          [1., 1., 1., 0.],\n",
       "          [1., 1., 1., 0.],\n",
       "          ...,\n",
       "          [1., 1., 1., 0.],\n",
       "          [1., 1., 1., 0.],\n",
       "          [1., 1., 1., 0.]],\n",
       " \n",
       "         [[1., 1., 1., 0.],\n",
       "          [1., 1., 1., 0.],\n",
       "          [1., 1., 1., 0.],\n",
       "          ...,\n",
       "          [1., 1., 1., 0.],\n",
       "          [1., 1., 1., 0.],\n",
       "          [1., 1., 1., 0.]]], device='cuda:0')}"
      ]
     },
     "execution_count": 31,
     "metadata": {},
     "output_type": "execute_result"
    }
   ],
   "source": [
    "camera_ray_bundle, batch = next(datamanager.iter_eval_dataloader)\n",
    "batch"
   ]
  }
 ],
 "metadata": {
  "kernelspec": {
   "display_name": "Python 3",
   "language": "python",
   "name": "python3"
  },
  "language_info": {
   "codemirror_mode": {
    "name": "ipython",
    "version": 3
   },
   "file_extension": ".py",
   "mimetype": "text/x-python",
   "name": "python",
   "nbconvert_exporter": "python",
   "pygments_lexer": "ipython3",
   "version": "3.10.6"
  },
  "orig_nbformat": 4
 },
 "nbformat": 4,
 "nbformat_minor": 2
}
