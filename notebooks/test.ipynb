{
 "cells": [
  {
   "cell_type": "code",
   "execution_count": 1,
   "metadata": {},
   "outputs": [
    {
     "data": {
      "text/html": [
       "<pre style=\"white-space:pre;overflow-x:auto;line-height:normal;font-family:Menlo,'DejaVu Sans Mono',consolas,'Courier New',monospace\">Setting up training dataset<span style=\"color: #808000; text-decoration-color: #808000\">...</span>\n",
       "</pre>\n"
      ],
      "text/plain": [
       "Setting up training dataset\u001b[33m...\u001b[0m\n"
      ]
     },
     "metadata": {},
     "output_type": "display_data"
    },
    {
     "data": {
      "text/html": [
       "<pre style=\"white-space:pre;overflow-x:auto;line-height:normal;font-family:Menlo,'DejaVu Sans Mono',consolas,'Courier New',monospace\">Caching all <span style=\"color: #008080; text-decoration-color: #008080; font-weight: bold\">160</span> images.\n",
       "</pre>\n"
      ],
      "text/plain": [
       "Caching all \u001b[1;36m160\u001b[0m images.\n"
      ]
     },
     "metadata": {},
     "output_type": "display_data"
    },
    {
     "data": {
      "application/vnd.jupyter.widget-view+json": {
       "model_id": "ad5f103e58e845ea9d077d000802e0d8",
       "version_major": 2,
       "version_minor": 0
      },
      "text/plain": [
       "Output()"
      ]
     },
     "metadata": {},
     "output_type": "display_data"
    },
    {
     "data": {
      "text/html": [
       "<pre style=\"white-space:pre;overflow-x:auto;line-height:normal;font-family:Menlo,'DejaVu Sans Mono',consolas,'Courier New',monospace\"></pre>\n"
      ],
      "text/plain": []
     },
     "metadata": {},
     "output_type": "display_data"
    },
    {
     "data": {
      "text/html": [
       "<pre style=\"white-space:pre;overflow-x:auto;line-height:normal;font-family:Menlo,'DejaVu Sans Mono',consolas,'Courier New',monospace\">\n",
       "</pre>\n"
      ],
      "text/plain": [
       "\n"
      ]
     },
     "metadata": {},
     "output_type": "display_data"
    },
    {
     "data": {
      "text/html": [
       "<pre style=\"white-space:pre;overflow-x:auto;line-height:normal;font-family:Menlo,'DejaVu Sans Mono',consolas,'Courier New',monospace\">Setting up evaluation dataset<span style=\"color: #808000; text-decoration-color: #808000\">...</span>\n",
       "</pre>\n"
      ],
      "text/plain": [
       "Setting up evaluation dataset\u001b[33m...\u001b[0m\n"
      ]
     },
     "metadata": {},
     "output_type": "display_data"
    },
    {
     "data": {
      "text/html": [
       "<pre style=\"white-space:pre;overflow-x:auto;line-height:normal;font-family:Menlo,'DejaVu Sans Mono',consolas,'Courier New',monospace\">Caching all <span style=\"color: #008080; text-decoration-color: #008080; font-weight: bold\">95</span> images.\n",
       "</pre>\n"
      ],
      "text/plain": [
       "Caching all \u001b[1;36m95\u001b[0m images.\n"
      ]
     },
     "metadata": {},
     "output_type": "display_data"
    },
    {
     "data": {
      "application/vnd.jupyter.widget-view+json": {
       "model_id": "1521ce36155345d8a1485cce18b6ab08",
       "version_major": 2,
       "version_minor": 0
      },
      "text/plain": [
       "Output()"
      ]
     },
     "metadata": {},
     "output_type": "display_data"
    },
    {
     "data": {
      "text/html": [
       "<pre style=\"white-space:pre;overflow-x:auto;line-height:normal;font-family:Menlo,'DejaVu Sans Mono',consolas,'Courier New',monospace\"></pre>\n"
      ],
      "text/plain": []
     },
     "metadata": {},
     "output_type": "display_data"
    },
    {
     "data": {
      "text/html": [
       "<pre style=\"white-space:pre;overflow-x:auto;line-height:normal;font-family:Menlo,'DejaVu Sans Mono',consolas,'Courier New',monospace\">\n",
       "</pre>\n"
      ],
      "text/plain": [
       "\n"
      ]
     },
     "metadata": {},
     "output_type": "display_data"
    },
    {
     "data": {
      "text/html": [
       "<pre style=\"white-space:pre;overflow-x:auto;line-height:normal;font-family:Menlo,'DejaVu Sans Mono',consolas,'Courier New',monospace\">Caching all <span style=\"color: #008080; text-decoration-color: #008080; font-weight: bold\">95</span> images.\n",
       "</pre>\n"
      ],
      "text/plain": [
       "Caching all \u001b[1;36m95\u001b[0m images.\n"
      ]
     },
     "metadata": {},
     "output_type": "display_data"
    },
    {
     "data": {
      "application/vnd.jupyter.widget-view+json": {
       "model_id": "df57b30dec5f44f3aa1acab7dbef8ea9",
       "version_major": 2,
       "version_minor": 0
      },
      "text/plain": [
       "Output()"
      ]
     },
     "metadata": {},
     "output_type": "display_data"
    },
    {
     "data": {
      "text/html": [
       "<pre style=\"white-space:pre;overflow-x:auto;line-height:normal;font-family:Menlo,'DejaVu Sans Mono',consolas,'Courier New',monospace\"></pre>\n"
      ],
      "text/plain": []
     },
     "metadata": {},
     "output_type": "display_data"
    },
    {
     "data": {
      "text/html": [
       "<pre style=\"white-space:pre;overflow-x:auto;line-height:normal;font-family:Menlo,'DejaVu Sans Mono',consolas,'Courier New',monospace\">\n",
       "</pre>\n"
      ],
      "text/plain": [
       "\n"
      ]
     },
     "metadata": {},
     "output_type": "display_data"
    },
    {
     "data": {
      "text/html": [
       "<pre style=\"white-space:pre;overflow-x:auto;line-height:normal;font-family:Menlo,'DejaVu Sans Mono',consolas,'Courier New',monospace\">Caching all <span style=\"color: #008080; text-decoration-color: #008080; font-weight: bold\">95</span> images.\n",
       "</pre>\n"
      ],
      "text/plain": [
       "Caching all \u001b[1;36m95\u001b[0m images.\n"
      ]
     },
     "metadata": {},
     "output_type": "display_data"
    },
    {
     "data": {
      "application/vnd.jupyter.widget-view+json": {
       "model_id": "e4cb6af16f6541deb935922b294a95ee",
       "version_major": 2,
       "version_minor": 0
      },
      "text/plain": [
       "Output()"
      ]
     },
     "metadata": {},
     "output_type": "display_data"
    },
    {
     "data": {
      "text/html": [
       "<pre style=\"white-space:pre;overflow-x:auto;line-height:normal;font-family:Menlo,'DejaVu Sans Mono',consolas,'Courier New',monospace\"></pre>\n"
      ],
      "text/plain": []
     },
     "metadata": {},
     "output_type": "display_data"
    },
    {
     "data": {
      "text/html": [
       "<pre style=\"white-space:pre;overflow-x:auto;line-height:normal;font-family:Menlo,'DejaVu Sans Mono',consolas,'Courier New',monospace\">\n",
       "</pre>\n"
      ],
      "text/plain": [
       "\n"
      ]
     },
     "metadata": {},
     "output_type": "display_data"
    }
   ],
   "source": [
    "import os\n",
    "import torch\n",
    "import yaml\n",
    "from pathlib import Path\n",
    "import random\n",
    "import matplotlib.pyplot as plt\n",
    "import numpy as np\n",
    "import tqdm\n",
    "import plotly.graph_objects as go\n",
    "from torch.utils.data import Dataset\n",
    "\n",
    "from nerfstudio.configs import base_config as cfg\n",
    "from nerfstudio.configs.method_configs import method_configs\n",
    "from nerfstudio.data.dataparsers.nerfosr_dataparser import NeRFOSR, NeRFOSRDataParserConfig\n",
    "from nerfstudio.pipelines.base_pipeline import VanillaDataManager\n",
    "from nerfstudio.field_components.field_heads import FieldHeadNames\n",
    "from nerfstudio.cameras.rays import RayBundle, RaySamples, Frustums\n",
    "from nerfstudio.utils.colormaps import apply_depth_colormap\n",
    "from nerfstudio.field_components.encodings import SHEncoding, NeRFEncoding\n",
    "import tinycudann as tcnn\n",
    "\n",
    "from reni_neus.models.reni_neus_model import RENINeuSFactoModelConfig, RENINeuSFactoModel\n",
    "from reni_neus.utils.utils import look_at_target, random_points_on_unit_sphere\n",
    "from reni_neus.data.datamanagers.reni_neus_datamanager import RENINeuSDataManagerConfig, RENINeuSDataManager\n",
    "from reni_neus.configs.ddf_config import DirectionalDistanceField\n",
    "from reni_neus.configs.reni_neus_config import RENINeuS\n",
    "from reni_neus.utils.utils import find_nerfstudio_project_root, rot_z\n",
    "\n",
    "project_root = find_nerfstudio_project_root(Path(os.getcwd()))\n",
    "# set current working directory to nerfstudio project root\n",
    "os.chdir(project_root)\n",
    "\n",
    "# setup config\n",
    "test_mode = 'test'\n",
    "world_size = 1\n",
    "local_rank = 0\n",
    "device = 'cuda:0'\n",
    "\n",
    "reni_neus_config = RENINeuS\n",
    "reni_neus_config.config.pipeline.visibility_ckpt_path = Path('outputs/ddf/ddf/2023-08-31_101658/')\n",
    "reni_neus_config.config.pipeline.visibility_ckpt_step = 20000\n",
    "reni_neus_config.config.pipeline.reni_neus_ckpt_path = Path('outputs/reni-neus/reni-neus/2023-08-30_111340/')\n",
    "reni_neus_config.config.pipeline.reni_neus_ckpt_step = 100000\n",
    "reni_neus_config.config.pipeline.model.use_visibility = True\n",
    "reni_neus_config.config.pipeline.model.visibility_threshold = 0.1\n",
    "reni_neus_config.config.pipeline.model.fit_visibility_field = False\n",
    "\n",
    "\n",
    "pipeline = reni_neus_config.config.pipeline.setup(device=device, test_mode=test_mode, world_size=world_size, local_rank=local_rank)\n",
    "datamanager = pipeline.datamanager\n",
    "model = pipeline.model\n",
    "model = model.eval()"
   ]
  },
  {
   "cell_type": "code",
   "execution_count": 16,
   "metadata": {},
   "outputs": [],
   "source": [
    "ray_bundle, batch = datamanager.get_nerfosr_lighting_eval_bundle(stage='optimise')\n",
    "indices_to_session = datamanager.indices_to_session\n",
    "# need to update batch['indices'][:, 0] using indices_to_session which is a dict of keys: indices (ints) and values: session (ints)\n",
    "batch['indices'][:, 0] = torch.tensor([indices_to_session[i.item()] for i in batch['indices'][:, 0]]).type_as(batch['indices'][:, 0])"
   ]
  },
  {
   "cell_type": "markdown",
   "metadata": {},
   "source": [
    "type"
   ]
  },
  {
   "cell_type": "code",
   "execution_count": 19,
   "metadata": {},
   "outputs": [
    {
     "data": {
      "text/plain": [
       "tensor([[   1,  470,  240],\n",
       "        [   4,  552,  896],\n",
       "        [   2,  637,  207],\n",
       "        [   3,  810,  390],\n",
       "        [   1,  744,  368],\n",
       "        [   2,  398,  841],\n",
       "        [   2,  810,  602],\n",
       "        [   2,  179, 1153],\n",
       "        [   3,  306,  505],\n",
       "        [   2,   17,  162],\n",
       "        [   0,  193,  970],\n",
       "        [   0,  596,  240],\n",
       "        [   0,  220,   30],\n",
       "        [   3,  158,  524],\n",
       "        [   4,  632,  494],\n",
       "        [   0,   51,  504],\n",
       "        [   4,  301,  839],\n",
       "        [   2,  307,  480],\n",
       "        [   4,   57,  169],\n",
       "        [   3,  244,  192],\n",
       "        [   3,  583,  749],\n",
       "        [   4,  726,  842],\n",
       "        [   2,  776,  282],\n",
       "        [   1,  494,  152],\n",
       "        [   2,  787, 1176],\n",
       "        [   1,  798,  732],\n",
       "        [   0,  546, 1062],\n",
       "        [   3,  167,   29],\n",
       "        [   1,  497,  606],\n",
       "        [   2,  496,  648],\n",
       "        [   4,  284,  939],\n",
       "        [   3,  172,  792],\n",
       "        [   0,  448,  478],\n",
       "        [   1,  285,  755],\n",
       "        [   1,  341,  726],\n",
       "        [   3,  625,  620],\n",
       "        [   3,  497,  749],\n",
       "        [   2,  348,  202],\n",
       "        [   1,    9,  212],\n",
       "        [   0,  815,  646],\n",
       "        [   1,  625,  910],\n",
       "        [   2,  446,  905],\n",
       "        [   4,   41,   19],\n",
       "        [   4,  793,  798],\n",
       "        [   0,  232, 1247],\n",
       "        [   3,  815, 1268],\n",
       "        [   4,  315,  919],\n",
       "        [   1,  683,  128],\n",
       "        [   0,  612,  394],\n",
       "        [   4,  588, 1110],\n",
       "        [   1,  330,  132],\n",
       "        [   2,  635,  106],\n",
       "        [   3,  172, 1076],\n",
       "        [   2,  156,  731],\n",
       "        [   1,  114,   52],\n",
       "        [   1,  815,  271],\n",
       "        [   1,  390,  560],\n",
       "        [   2,  669, 1199],\n",
       "        [   3,  232,  182],\n",
       "        [   0,  740,  849],\n",
       "        [   2,   51,   44],\n",
       "        [   2,   47,  919],\n",
       "        [   2,  527,  656],\n",
       "        [   2,   18,  344]], device='cuda:0')"
      ]
     },
     "execution_count": 19,
     "metadata": {},
     "output_type": "execute_result"
    }
   ],
   "source": [
    "batch['indices']"
   ]
  },
  {
   "cell_type": "code",
   "execution_count": 11,
   "metadata": {},
   "outputs": [
    {
     "data": {
      "text/plain": [
       "tensor([60,  0, 60, 15, 31,  0, 15,  0, 31, 82,  0, 31,  0, 60,  0, 60, 82,  0,\n",
       "         0, 82,  0, 15, 15, 31, 82, 82,  0, 82, 31, 60, 31,  0, 15, 15,  0, 15,\n",
       "        82, 15,  0, 31, 82, 82, 31, 60, 60, 60,  0, 15, 31, 15, 31,  0, 60, 15,\n",
       "        15,  0, 15, 31, 15, 82, 82, 82, 31, 31], device='cuda:0')"
      ]
     },
     "execution_count": 11,
     "metadata": {},
     "output_type": "execute_result"
    }
   ],
   "source": [
    "# remap indices [:, 0] using indices_to_session\n",
    "batch['indices'][:, 0] "
   ]
  },
  {
   "cell_type": "code",
   "execution_count": 6,
   "metadata": {},
   "outputs": [
    {
     "data": {
      "text/plain": [
       "tensor([[60],\n",
       "        [ 0],\n",
       "        [60],\n",
       "        [15],\n",
       "        [31],\n",
       "        [ 0],\n",
       "        [15],\n",
       "        [ 0],\n",
       "        [31],\n",
       "        [82],\n",
       "        [ 0],\n",
       "        [31],\n",
       "        [ 0],\n",
       "        [60],\n",
       "        [ 0],\n",
       "        [60],\n",
       "        [82],\n",
       "        [ 0],\n",
       "        [ 0],\n",
       "        [82],\n",
       "        [ 0],\n",
       "        [15],\n",
       "        [15],\n",
       "        [31],\n",
       "        [82],\n",
       "        [82],\n",
       "        [ 0],\n",
       "        [82],\n",
       "        [31],\n",
       "        [60],\n",
       "        [31],\n",
       "        [ 0],\n",
       "        [15],\n",
       "        [15],\n",
       "        [ 0],\n",
       "        [15],\n",
       "        [82],\n",
       "        [15],\n",
       "        [ 0],\n",
       "        [31],\n",
       "        [82],\n",
       "        [82],\n",
       "        [31],\n",
       "        [60],\n",
       "        [60],\n",
       "        [60],\n",
       "        [ 0],\n",
       "        [15],\n",
       "        [31],\n",
       "        [15],\n",
       "        [31],\n",
       "        [ 0],\n",
       "        [60],\n",
       "        [15],\n",
       "        [15],\n",
       "        [ 0],\n",
       "        [15],\n",
       "        [31],\n",
       "        [15],\n",
       "        [82],\n",
       "        [82],\n",
       "        [82],\n",
       "        [31],\n",
       "        [31]], device='cuda:0')"
      ]
     },
     "execution_count": 6,
     "metadata": {},
     "output_type": "execute_result"
    }
   ],
   "source": [
    "ray_bundle.camera_indices"
   ]
  }
 ],
 "metadata": {
  "kernelspec": {
   "display_name": "Python 3",
   "language": "python",
   "name": "python3"
  },
  "language_info": {
   "codemirror_mode": {
    "name": "ipython",
    "version": 3
   },
   "file_extension": ".py",
   "mimetype": "text/x-python",
   "name": "python",
   "nbconvert_exporter": "python",
   "pygments_lexer": "ipython3",
   "version": "3.10.6"
  },
  "orig_nbformat": 4
 },
 "nbformat": 4,
 "nbformat_minor": 2
}
