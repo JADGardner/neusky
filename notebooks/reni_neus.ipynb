{
  "cells": [
    {
      "cell_type": "code",
      "execution_count": null,
      "metadata": {},
      "outputs": [],
      "source": [
        "# set visible devices\n",
        "import os\n",
        "os.environ[\"CUDA_VISIBLE_DEVICES\"] = \"1\""
      ]
    },
    {
      "cell_type": "code",
      "execution_count": 1,
      "metadata": {},
      "outputs": [
        {
          "ename": "ImportError",
          "evalue": "cannot import name 'DDFSDFSampler' from 'reni_neus.model_components.ddf_sdf_sampler' (/workspace/reni_neus/reni_neus/model_components/ddf_sdf_sampler.py)",
          "output_type": "error",
          "traceback": [
            "\u001b[0;31m---------------------------------------------------------------------------\u001b[0m",
            "\u001b[0;31mImportError\u001b[0m                               Traceback (most recent call last)",
            "Cell \u001b[0;32mIn[1], line 18\u001b[0m\n\u001b[1;32m     15\u001b[0m \u001b[39mfrom\u001b[39;00m \u001b[39mtorch\u001b[39;00m\u001b[39m.\u001b[39;00m\u001b[39mutils\u001b[39;00m\u001b[39m.\u001b[39;00m\u001b[39mdata\u001b[39;00m \u001b[39mimport\u001b[39;00m Dataset\n\u001b[1;32m     17\u001b[0m \u001b[39mfrom\u001b[39;00m \u001b[39mnerfstudio\u001b[39;00m\u001b[39m.\u001b[39;00m\u001b[39mconfigs\u001b[39;00m \u001b[39mimport\u001b[39;00m base_config \u001b[39mas\u001b[39;00m cfg\n\u001b[0;32m---> 18\u001b[0m \u001b[39mfrom\u001b[39;00m \u001b[39mnerfstudio\u001b[39;00m\u001b[39m.\u001b[39;00m\u001b[39mconfigs\u001b[39;00m\u001b[39m.\u001b[39;00m\u001b[39mmethod_configs\u001b[39;00m \u001b[39mimport\u001b[39;00m method_configs\n\u001b[1;32m     19\u001b[0m \u001b[39mfrom\u001b[39;00m \u001b[39mnerfstudio\u001b[39;00m\u001b[39m.\u001b[39;00m\u001b[39mdata\u001b[39;00m\u001b[39m.\u001b[39;00m\u001b[39mdataparsers\u001b[39;00m\u001b[39m.\u001b[39;00m\u001b[39mnerfosr_dataparser\u001b[39;00m \u001b[39mimport\u001b[39;00m NeRFOSR, NeRFOSRDataParserConfig\n\u001b[1;32m     20\u001b[0m \u001b[39mfrom\u001b[39;00m \u001b[39mnerfstudio\u001b[39;00m\u001b[39m.\u001b[39;00m\u001b[39mpipelines\u001b[39;00m\u001b[39m.\u001b[39;00m\u001b[39mbase_pipeline\u001b[39;00m \u001b[39mimport\u001b[39;00m VanillaDataManager\n",
            "File \u001b[0;32m/workspace/nerfstudio/configs/method_configs.py:626\u001b[0m\n\u001b[1;32m    624\u001b[0m all_methods, all_descriptions \u001b[39m=\u001b[39m method_configs, descriptions\n\u001b[1;32m    625\u001b[0m \u001b[39m# Add discovered external methods\u001b[39;00m\n\u001b[0;32m--> 626\u001b[0m all_methods, all_descriptions \u001b[39m=\u001b[39m merge_methods(all_methods, all_descriptions, \u001b[39m*\u001b[39mdiscover_methods())\n\u001b[1;32m    627\u001b[0m all_methods, all_descriptions \u001b[39m=\u001b[39m sort_methods(all_methods, all_descriptions)\n\u001b[1;32m    629\u001b[0m \u001b[39m# Register all possible external methods which can be installed with Nerfstudio\u001b[39;00m\n",
            "File \u001b[0;32m/workspace/nerfstudio/plugins/registry.py:43\u001b[0m, in \u001b[0;36mdiscover_methods\u001b[0;34m()\u001b[0m\n\u001b[1;32m     41\u001b[0m discovered_entry_points \u001b[39m=\u001b[39m entry_points(group\u001b[39m=\u001b[39m\u001b[39m\"\u001b[39m\u001b[39mnerfstudio.method_configs\u001b[39m\u001b[39m\"\u001b[39m)\n\u001b[1;32m     42\u001b[0m \u001b[39mfor\u001b[39;00m name \u001b[39min\u001b[39;00m discovered_entry_points\u001b[39m.\u001b[39mnames:\n\u001b[0;32m---> 43\u001b[0m     spec \u001b[39m=\u001b[39m discovered_entry_points[name]\u001b[39m.\u001b[39;49mload()\n\u001b[1;32m     44\u001b[0m     \u001b[39mif\u001b[39;00m \u001b[39mnot\u001b[39;00m \u001b[39misinstance\u001b[39m(spec, MethodSpecification):\n\u001b[1;32m     45\u001b[0m         CONSOLE\u001b[39m.\u001b[39mprint(\n\u001b[1;32m     46\u001b[0m             \u001b[39mf\u001b[39m\u001b[39m\"\u001b[39m\u001b[39m[bold yellow]Warning: Could not entry point \u001b[39m\u001b[39m{\u001b[39;00mspec\u001b[39m}\u001b[39;00m\u001b[39m as it is not an instance of MethodSpecification\u001b[39m\u001b[39m\"\u001b[39m\n\u001b[1;32m     47\u001b[0m         )\n",
            "File \u001b[0;32m/usr/lib/python3.10/importlib/metadata/__init__.py:171\u001b[0m, in \u001b[0;36mEntryPoint.load\u001b[0;34m(self)\u001b[0m\n\u001b[1;32m    166\u001b[0m \u001b[39m\u001b[39m\u001b[39m\"\"\"Load the entry point from its definition. If only a module\u001b[39;00m\n\u001b[1;32m    167\u001b[0m \u001b[39mis indicated by the value, return that module. Otherwise,\u001b[39;00m\n\u001b[1;32m    168\u001b[0m \u001b[39mreturn the named object.\u001b[39;00m\n\u001b[1;32m    169\u001b[0m \u001b[39m\"\"\"\u001b[39;00m\n\u001b[1;32m    170\u001b[0m match \u001b[39m=\u001b[39m \u001b[39mself\u001b[39m\u001b[39m.\u001b[39mpattern\u001b[39m.\u001b[39mmatch(\u001b[39mself\u001b[39m\u001b[39m.\u001b[39mvalue)\n\u001b[0;32m--> 171\u001b[0m module \u001b[39m=\u001b[39m import_module(match\u001b[39m.\u001b[39;49mgroup(\u001b[39m'\u001b[39;49m\u001b[39mmodule\u001b[39;49m\u001b[39m'\u001b[39;49m))\n\u001b[1;32m    172\u001b[0m attrs \u001b[39m=\u001b[39m \u001b[39mfilter\u001b[39m(\u001b[39mNone\u001b[39;00m, (match\u001b[39m.\u001b[39mgroup(\u001b[39m'\u001b[39m\u001b[39mattr\u001b[39m\u001b[39m'\u001b[39m) \u001b[39mor\u001b[39;00m \u001b[39m'\u001b[39m\u001b[39m'\u001b[39m)\u001b[39m.\u001b[39msplit(\u001b[39m'\u001b[39m\u001b[39m.\u001b[39m\u001b[39m'\u001b[39m))\n\u001b[1;32m    173\u001b[0m \u001b[39mreturn\u001b[39;00m functools\u001b[39m.\u001b[39mreduce(\u001b[39mgetattr\u001b[39m, attrs, module)\n",
            "File \u001b[0;32m/usr/lib/python3.10/importlib/__init__.py:126\u001b[0m, in \u001b[0;36mimport_module\u001b[0;34m(name, package)\u001b[0m\n\u001b[1;32m    124\u001b[0m             \u001b[39mbreak\u001b[39;00m\n\u001b[1;32m    125\u001b[0m         level \u001b[39m+\u001b[39m\u001b[39m=\u001b[39m \u001b[39m1\u001b[39m\n\u001b[0;32m--> 126\u001b[0m \u001b[39mreturn\u001b[39;00m _bootstrap\u001b[39m.\u001b[39;49m_gcd_import(name[level:], package, level)\n",
            "File \u001b[0;32m/workspace/reni_neus/reni_neus/reni_neus_config.py:33\u001b[0m\n\u001b[1;32m     30\u001b[0m \u001b[39mfrom\u001b[39;00m \u001b[39mnerfstudio\u001b[39;00m\u001b[39m.\u001b[39;00m\u001b[39mmodels\u001b[39;00m\u001b[39m.\u001b[39;00m\u001b[39mnerfacto\u001b[39;00m \u001b[39mimport\u001b[39;00m NerfactoModelConfig\n\u001b[1;32m     32\u001b[0m \u001b[39mfrom\u001b[39;00m \u001b[39mreni_neus\u001b[39;00m\u001b[39m.\u001b[39;00m\u001b[39mdata\u001b[39;00m\u001b[39m.\u001b[39;00m\u001b[39mnerfosr_cityscapes_dataparser\u001b[39;00m \u001b[39mimport\u001b[39;00m NeRFOSRCityScapesDataParserConfig\n\u001b[0;32m---> 33\u001b[0m \u001b[39mfrom\u001b[39;00m \u001b[39mreni_neus\u001b[39;00m\u001b[39m.\u001b[39;00m\u001b[39mreni_neus_model\u001b[39;00m \u001b[39mimport\u001b[39;00m RENINeuSFactoModelConfig\n\u001b[1;32m     34\u001b[0m \u001b[39mfrom\u001b[39;00m \u001b[39mreni_neus\u001b[39;00m\u001b[39m.\u001b[39;00m\u001b[39millumination_fields\u001b[39;00m\u001b[39m.\u001b[39;00m\u001b[39mreni_field\u001b[39;00m \u001b[39mimport\u001b[39;00m RENIFieldConfig\n\u001b[1;32m     35\u001b[0m \u001b[39mfrom\u001b[39;00m \u001b[39mreni_neus\u001b[39;00m\u001b[39m.\u001b[39;00m\u001b[39mmodel_components\u001b[39;00m\u001b[39m.\u001b[39;00m\u001b[39millumination_samplers\u001b[39;00m \u001b[39mimport\u001b[39;00m IcosahedronSamplerConfig\n",
            "File \u001b[0;32m/workspace/reni_neus/reni_neus/reni_neus_model.py:55\u001b[0m\n\u001b[1;32m     53\u001b[0m \u001b[39mfrom\u001b[39;00m \u001b[39mreni_neus\u001b[39;00m\u001b[39m.\u001b[39;00m\u001b[39mutils\u001b[39;00m\u001b[39m.\u001b[39;00m\u001b[39mutils\u001b[39;00m \u001b[39mimport\u001b[39;00m RENITestLossMask, get_directions\n\u001b[1;32m     54\u001b[0m \u001b[39mfrom\u001b[39;00m \u001b[39mreni_neus\u001b[39;00m\u001b[39m.\u001b[39;00m\u001b[39mreni_neus_fieldheadnames\u001b[39;00m \u001b[39mimport\u001b[39;00m RENINeuSFieldHeadNames\n\u001b[0;32m---> 55\u001b[0m \u001b[39mfrom\u001b[39;00m \u001b[39mreni_neus\u001b[39;00m\u001b[39m.\u001b[39;00m\u001b[39mddf_model\u001b[39;00m \u001b[39mimport\u001b[39;00m DDFModelConfig\n\u001b[1;32m     56\u001b[0m \u001b[39mfrom\u001b[39;00m \u001b[39mnerfstudio\u001b[39;00m\u001b[39m.\u001b[39;00m\u001b[39mmodel_components\u001b[39;00m\u001b[39m.\u001b[39;00m\u001b[39mray_samplers\u001b[39;00m \u001b[39mimport\u001b[39;00m VolumetricSampler\n\u001b[1;32m     58\u001b[0m CONSOLE \u001b[39m=\u001b[39m Console(width\u001b[39m=\u001b[39m\u001b[39m120\u001b[39m)\n",
            "File \u001b[0;32m/workspace/reni_neus/reni_neus/ddf_model.py:53\u001b[0m\n\u001b[1;32m     51\u001b[0m \u001b[39mfrom\u001b[39;00m \u001b[39mreni_neus\u001b[39;00m\u001b[39m.\u001b[39;00m\u001b[39mfields\u001b[39;00m\u001b[39m.\u001b[39;00m\u001b[39mdirectional_distance_field\u001b[39;00m \u001b[39mimport\u001b[39;00m DirectionalDistanceField, DirectionalDistanceFieldConfig\n\u001b[1;32m     52\u001b[0m \u001b[39mfrom\u001b[39;00m \u001b[39mreni_neus\u001b[39;00m\u001b[39m.\u001b[39;00m\u001b[39mutils\u001b[39;00m\u001b[39m.\u001b[39;00m\u001b[39mutils\u001b[39;00m \u001b[39mimport\u001b[39;00m random_points_on_unit_sphere, random_inward_facing_directions\n\u001b[0;32m---> 53\u001b[0m \u001b[39mfrom\u001b[39;00m \u001b[39mreni_neus\u001b[39;00m\u001b[39m.\u001b[39;00m\u001b[39mmodel_components\u001b[39;00m\u001b[39m.\u001b[39;00m\u001b[39mddf_sdf_sampler\u001b[39;00m \u001b[39mimport\u001b[39;00m DDFSDFSampler\n\u001b[1;32m     54\u001b[0m \u001b[39mfrom\u001b[39;00m \u001b[39mreni_neus\u001b[39;00m\u001b[39m.\u001b[39;00m\u001b[39mreni_neus_fieldheadnames\u001b[39;00m \u001b[39mimport\u001b[39;00m RENINeuSFieldHeadNames\n\u001b[1;32m     56\u001b[0m CONSOLE \u001b[39m=\u001b[39m Console(width\u001b[39m=\u001b[39m\u001b[39m120\u001b[39m)\n",
            "\u001b[0;31mImportError\u001b[0m: cannot import name 'DDFSDFSampler' from 'reni_neus.model_components.ddf_sdf_sampler' (/workspace/reni_neus/reni_neus/model_components/ddf_sdf_sampler.py)"
          ]
        }
      ],
      "source": [
        "import torch\n",
        "import yaml\n",
        "from pathlib import Path\n",
        "import random\n",
        "import matplotlib.pyplot as plt\n",
        "import numpy as np\n",
        "import tqdm\n",
        "import plotly.graph_objects as go\n",
        "from torch.utils.data import Dataset\n",
        "\n",
        "from nerfstudio.configs import base_config as cfg\n",
        "from nerfstudio.configs.method_configs import method_configs\n",
        "from nerfstudio.data.dataparsers.nerfosr_dataparser import NeRFOSR, NeRFOSRDataParserConfig\n",
        "from nerfstudio.pipelines.base_pipeline import VanillaDataManager\n",
        "from nerfstudio.field_components.field_heads import FieldHeadNames\n",
        "from nerfstudio.cameras.rays import RayBundle\n",
        "from nerfstudio.utils.colormaps import apply_depth_colormap\n",
        "from nerfstudio.field_components.encodings import SHEncoding, NeRFEncoding\n",
        "import tinycudann as tcnn\n",
        "\n",
        "from reni_neus.models.reni_neus_model import RENINeuSFactoModelConfig, RENINeuSFactoModel\n",
        "from reni_neus.utils.utils import get_directions, get_sineweight, look_at_target, random_points_on_unit_sphere\n",
        "from reni_neus.illumination_fields.reni_field import RENIField\n",
        "from reni_neus.data.reni_neus_datamanager import RENINeuSDataManagerConfig, RENINeuSDataManager\n",
        "from reni_neus.configs.reni_neus_config import RENINeuS as RENINeuSMethodSpecification, DirectionalDistanceField  \n",
        "\n",
        "def sRGB(imgs):\n",
        "    # Add batch dimension if necessary\n",
        "    if imgs.ndim == 3:\n",
        "        imgs = imgs.unsqueeze(0)\n",
        "    \n",
        "    # Calculate the 98th percentile for each image\n",
        "    q = torch.quantile(imgs.view(imgs.size(0), -1), 0.98, dim=1)\n",
        "    \n",
        "    # Normalize images by their 98th percentile\n",
        "    imgs = imgs / q.view(-1, 1, 1, 1)\n",
        "    \n",
        "    # Clamp the pixel values between 0.0 and 1.0\n",
        "    imgs = torch.clamp(imgs, 0.0, 1.0)\n",
        "    \n",
        "    # Convert linear RGB to sRGB using the sRGB conversion formula\n",
        "    mask = imgs <= 0.0031308\n",
        "    imgs_sRGB = imgs = torch.where(\n",
        "        imgs <= 0.0031308,\n",
        "        12.92 * imgs,\n",
        "        1.055 * torch.pow(torch.abs(imgs), 1 / 2.4) - 0.055,\n",
        "    )\n",
        "    return imgs_sRGB\n",
        "\n",
        "def rotation_matrix(axis, angle):\n",
        "    \"\"\"\n",
        "    Return 3D rotation matrix for rotating around the given axis by the given angle.\n",
        "    \"\"\"\n",
        "    axis = np.asarray(axis)\n",
        "    axis = axis / np.sqrt(np.dot(axis, axis))\n",
        "    a = np.cos(angle / 2.0)\n",
        "    b, c, d = -axis * np.sin(angle / 2.0)\n",
        "    aa, bb, cc, dd = a * a, b * b, c * c, d * d\n",
        "    bc, ad, ac, ab, bd, cd = b * c, a * d, a * c, a * b, b * d, c * d\n",
        "    return np.array([[aa + bb - cc - dd, 2 * (bc + ad), 2 * (bd - ac)],\n",
        "                     [2 * (bc - ad), aa + cc - bb - dd, 2 * (cd + ab)],\n",
        "                     [2 * (bd + ac), 2 * (cd - ab), aa + dd - bb - cc]])\n",
        "\n",
        "# setup config\n",
        "test_mode = 'val'\n",
        "world_size = 1\n",
        "local_rank = 0\n",
        "device = 'cuda:0'\n",
        "\n",
        "ckpt_path = '/workspace/outputs/unnamed/reni-neus/2023-05-23_191641/'\n",
        "step = 70000\n",
        "\n",
        "ckpt = torch.load(ckpt_path + '/nerfstudio_models' + f'/step-{step:09d}.ckpt', map_location=device)\n",
        "model_dict = {}\n",
        "for key in ckpt['pipeline'].keys():\n",
        "    if key.startswith('_model.'):\n",
        "        model_dict[key[7:]] = ckpt['pipeline'][key]\n",
        "\n",
        "# load yaml checkpoint config\n",
        "config_path = Path(ckpt_path) / 'config.yml'\n",
        "config = yaml.load(config_path.open(), Loader=yaml.Loader)\n",
        "pipeline_config = config.pipeline\n",
        "\n",
        "datamanager: RENINeuSDataManager = pipeline_config.datamanager.setup(\n",
        "    device=device, test_mode=test_mode, world_size=world_size, local_rank=local_rank, \n",
        ")\n",
        "datamanager.to(device)\n",
        "# includes num_eval_data as needed for reni latent code fitting.\n",
        "model = pipeline_config.model.setup(\n",
        "    scene_box=datamanager.train_dataset.scene_box,\n",
        "    num_train_data=len(datamanager.train_dataset),\n",
        "    num_val_data=datamanager.num_val,\n",
        "    num_test_data=datamanager.num_test,\n",
        "    test_mode=test_mode,\n",
        ")\n",
        "model.to(device)\n",
        "model.load_state_dict(model_dict)\n",
        "model.eval()\n",
        "\n",
        "print('Model loaded')"
      ]
    },
    {
      "cell_type": "code",
      "execution_count": 7,
      "metadata": {},
      "outputs": [
        {
          "data": {
            "text/plain": [
              "tensor([[-1., -1., -1.],\n",
              "        [ 1.,  1.,  1.]], device='cuda:0')"
            ]
          },
          "execution_count": 7,
          "metadata": {},
          "output_type": "execute_result"
        }
      ],
      "source": [
        "model_dict['field.aabb']"
      ]
    },
    {
      "cell_type": "code",
      "execution_count": 9,
      "metadata": {},
      "outputs": [
        {
          "name": "stderr",
          "output_type": "stream",
          "text": [
            "/home/user/.local/lib/python3.10/site-packages/torch/functional.py:504: UserWarning: torch.meshgrid: in an upcoming release, it will be required to pass the indexing argument. (Triggered internally at ../aten/src/ATen/native/TensorShape.cpp:3483.)\n",
            "  return _VF.meshgrid(tensors, **kwargs)  # type: ignore[attr-defined]\n",
            "/home/user/.local/lib/python3.10/site-packages/tinycudann/modules.py:169: UserWarning: input must be a CUDA tensor, but isn't. This indicates suboptimal performance.\n",
            "  warnings.warn(\"input must be a CUDA tensor, but isn't. This indicates suboptimal performance.\")\n"
          ]
        },
        {
          "ename": "RuntimeError",
          "evalue": "shape '[3, -1]' is invalid for input of size 8000",
          "output_type": "error",
          "traceback": [
            "\u001b[0;31m---------------------------------------------------------------------------\u001b[0m",
            "\u001b[0;31mRuntimeError\u001b[0m                              Traceback (most recent call last)",
            "Cell \u001b[0;32mIn[9], line 9\u001b[0m\n\u001b[1;32m      6\u001b[0m grid_points \u001b[39m=\u001b[39m torch\u001b[39m.\u001b[39mstack([x\u001b[39m.\u001b[39mreshape(\u001b[39m-\u001b[39m\u001b[39m1\u001b[39m), y\u001b[39m.\u001b[39mreshape(\u001b[39m-\u001b[39m\u001b[39m1\u001b[39m), z\u001b[39m.\u001b[39mreshape(\u001b[39m-\u001b[39m\u001b[39m1\u001b[39m)], dim\u001b[39m=\u001b[39m\u001b[39m0\u001b[39m)\n\u001b[1;32m      8\u001b[0m \u001b[39m# Evaluate the density function at all grid points\u001b[39;00m\n\u001b[0;32m----> 9\u001b[0m densities \u001b[39m=\u001b[39m model\u001b[39m.\u001b[39;49mdensity_fns[\u001b[39m0\u001b[39;49m](grid_points)\n",
            "File \u001b[0;32m/workspace/nerfstudio/fields/base_field.py:67\u001b[0m, in \u001b[0;36mField.density_fn\u001b[0;34m(***failed resolving arguments***)\u001b[0m\n\u001b[1;32m     57\u001b[0m \u001b[39m# Need to figure out a better way to describe positions with a ray.\u001b[39;00m\n\u001b[1;32m     58\u001b[0m ray_samples \u001b[39m=\u001b[39m RaySamples(\n\u001b[1;32m     59\u001b[0m     frustums\u001b[39m=\u001b[39mFrustums(\n\u001b[1;32m     60\u001b[0m         origins\u001b[39m=\u001b[39mpositions,\n\u001b[0;32m   (...)\u001b[0m\n\u001b[1;32m     65\u001b[0m     )\n\u001b[1;32m     66\u001b[0m )\n\u001b[0;32m---> 67\u001b[0m density, _ \u001b[39m=\u001b[39m \u001b[39mself\u001b[39;49m\u001b[39m.\u001b[39;49mget_density(ray_samples)\n\u001b[1;32m     68\u001b[0m \u001b[39mreturn\u001b[39;00m density\n",
            "File \u001b[0;32m/workspace/nerfstudio/fields/density_fields.py:116\u001b[0m, in \u001b[0;36mHashMLPDensityField.get_density\u001b[0;34m(self, ray_samples)\u001b[0m\n\u001b[1;32m    113\u001b[0m positions_flat \u001b[39m=\u001b[39m positions\u001b[39m.\u001b[39mview(\u001b[39m-\u001b[39m\u001b[39m1\u001b[39m, \u001b[39m3\u001b[39m)\n\u001b[1;32m    114\u001b[0m \u001b[39mif\u001b[39;00m \u001b[39mnot\u001b[39;00m \u001b[39mself\u001b[39m\u001b[39m.\u001b[39muse_linear:\n\u001b[1;32m    115\u001b[0m     density_before_activation \u001b[39m=\u001b[39m (\n\u001b[0;32m--> 116\u001b[0m         \u001b[39mself\u001b[39;49m\u001b[39m.\u001b[39;49mmlp_base(positions_flat)\u001b[39m.\u001b[39;49mview(\u001b[39m*\u001b[39;49mray_samples\u001b[39m.\u001b[39;49mfrustums\u001b[39m.\u001b[39;49mshape, \u001b[39m-\u001b[39;49m\u001b[39m1\u001b[39;49m)\u001b[39m.\u001b[39mto(positions)\n\u001b[1;32m    117\u001b[0m     )\n\u001b[1;32m    118\u001b[0m \u001b[39melse\u001b[39;00m:\n\u001b[1;32m    119\u001b[0m     x \u001b[39m=\u001b[39m \u001b[39mself\u001b[39m\u001b[39m.\u001b[39mencoding(positions_flat)\u001b[39m.\u001b[39mto(positions)\n",
            "\u001b[0;31mRuntimeError\u001b[0m: shape '[3, -1]' is invalid for input of size 8000"
          ]
        }
      ],
      "source": [
        "# Assuming your 3D space ranges from -1 to 1 in each dimension with a resolution of 0.1\n",
        "grid_range = torch.arange(-1, 1, 0.1)\n",
        "x, y, z = torch.meshgrid(grid_range, grid_range, grid_range)\n",
        "\n",
        "# Stack the coordinates together into [3, N] tensor, where N is the total number of grid points\n",
        "grid_points = torch.stack([x.reshape(-1), y.reshape(-1), z.reshape(-1)], dim=0)\n",
        "\n",
        "# Evaluate the density function at all grid points\n",
        "densities = model.density_fns[0](grid_points)\n"
      ]
    },
    {
      "cell_type": "code",
      "execution_count": 5,
      "metadata": {},
      "outputs": [
        {
          "data": {
            "text/plain": [
              "<matplotlib.image.AxesImage at 0x7f5e54c8db10>"
            ]
          },
          "execution_count": 5,
          "metadata": {},
          "output_type": "execute_result"
        },
        {
          "data": {
            "image/png": "[encoded data removed]",
            "text/plain": [
              "<Figure size 640x480 with 1 Axes>"
            ]
          },
          "metadata": {},
          "output_type": "display_data"
        }
      ],
      "source": [
        "ray_bundle, batch = datamanager.fixed_indices_eval_dataloader.get_data_from_image_idx(0)\n",
        "plt.imshow(batch['fg_mask'].cpu().numpy())"
      ]
    },
    {
      "cell_type": "code",
      "execution_count": null,
      "metadata": {},
      "outputs": [],
      "source": [
        "# get the c2w matrix of the camera\n",
        "idx = 0\n",
        "old_c2w = datamanager.eval_dataloader.cameras[idx].camera_to_worlds.detach().clone() # [3, 4]\n",
        "new_pos = random_points_on_unit_sphere(1)\n",
        "\n",
        "new_c2w = look_at_target(new_pos.cpu(), torch.tensor([0.0, 0.0, 0.0]))[:3, :4] # [3, 4] # C2W matrix looking at the center of the scene\n",
        "\n",
        "datamanager.eval_dataloader.cameras.camera_to_worlds[idx].copy_(new_c2w)\n",
        "\n",
        "camera_ray_bundle, batch = datamanager.eval_dataloader.get_data_from_image_idx(idx)\n",
        "\n",
        "model.config.eval_num_rays_per_chunk = 2048\n",
        "\n",
        "outputs = model.get_outputs_for_camera_ray_bundle(camera_ray_bundle, show_progress=True)\n",
        "\n",
        "# set the c2w matrix back to the original one\n",
        "datamanager.eval_dataloader.cameras.camera_to_worlds[idx].copy_(old_c2w)"
      ]
    },
    {
      "cell_type": "code",
      "execution_count": 3,
      "metadata": {},
      "outputs": [
        {
          "data": {
            "application/vnd.jupyter.widget-view+json": {
              "model_id": "d7ff167f2b40495c879b05e0eb0f61f3",
              "version_major": 2,
              "version_minor": 0
            },
            "text/plain": [
              "Output()"
            ]
          },
          "metadata": {},
          "output_type": "display_data"
        },
        {
          "data": {
            "text/html": [
              "<pre style=\"white-space:pre;overflow-x:auto;line-height:normal;font-family:Menlo,'DejaVu Sans Mono',consolas,'Courier New',monospace\"></pre>\n"
            ],
            "text/plain": []
          },
          "metadata": {},
          "output_type": "display_data"
        },
        {
          "data": {
            "text/html": [
              "<pre style=\"white-space:pre;overflow-x:auto;line-height:normal;font-family:Menlo,'DejaVu Sans Mono',consolas,'Courier New',monospace\">\n",
              "</pre>\n"
            ],
            "text/plain": [
              "\n"
            ]
          },
          "metadata": {},
          "output_type": "display_data"
        }
      ],
      "source": [
        "# ray_bundle.nears = torch.zeros_like(ray_bundle.metadata['directions_norm']) + 0.05\n",
        "# ray_bundle.fars = torch.zeros_like(ray_bundle.metadata['directions_norm']) + 1.0\n",
        "outputs = model.get_outputs_for_camera_ray_bundle(ray_bundle, show_progress=True)"
      ]
    },
    {
      "cell_type": "code",
      "execution_count": 5,
      "metadata": {},
      "outputs": [
        {
          "data": {
            "text/plain": [
              "<matplotlib.image.AxesImage at 0x7f060af3b250>"
            ]
          },
          "execution_count": 5,
          "metadata": {},
          "output_type": "execute_result"
        },
        {
          "data": {
            "image/png": "[encoded data removed]",
            "text/plain": [
              "<Figure size 640x480 with 1 Axes>"
            ]
          },
          "metadata": {},
          "output_type": "display_data"
        }
      ],
      "source": [
        "plt.imshow(outputs['rgb'].cpu().numpy())"
      ]
    },
    {
      "cell_type": "code",
      "execution_count": 1,
      "metadata": {},
      "outputs": [
        {
          "data": {
            "text/plain": [
              "<matplotlib.image.AxesImage at 0x7fd7c47d8700>"
            ]
          },
          "execution_count": 1,
          "metadata": {},
          "output_type": "execute_result"
        },
        {
          "data": {
            "image/png": "[encoded data removed]",
            "text/plain": [
              "<Figure size 640x480 with 1 Axes>"
            ]
          },
          "metadata": {},
          "output_type": "display_data"
        }
      ],
      "source": [
        "import torch\n",
        "\n",
        "path = '/workspace/outputs/ddf/cache/lk2_data.pt'\n",
        "\n",
        "data = torch.load(path)[0]\n",
        "\n",
        "img = data['termination_dist']\n",
        "H = data['H']\n",
        "W = data['W']\n",
        "\n",
        "img = img.reshape(H, W, 1)\n",
        "\n",
        "import matplotlib.pyplot as plt\n",
        "plt.imshow(img.cpu().numpy())"
      ]
    },
    {
      "cell_type": "code",
      "execution_count": 2,
      "metadata": {},
      "outputs": [
        {
          "data": {
            "text/plain": [
              "(tensor(0.2336, device='cuda:0'), tensor(2.2447, device='cuda:0'))"
            ]
          },
          "execution_count": 2,
          "metadata": {},
          "output_type": "execute_result"
        }
      ],
      "source": [
        "img.min(), img.max()"
      ]
    },
    {
      "cell_type": "code",
      "execution_count": 9,
      "metadata": {},
      "outputs": [
        {
          "data": {
            "text/plain": [
              "RayBundle(origins=tensor([[ 0.7569, -0.2655,  0.5972],\n",
              "        [ 0.7569, -0.2655,  0.5972],\n",
              "        [ 0.7569, -0.2655,  0.5972],\n",
              "        ...,\n",
              "        [ 0.7569, -0.2655,  0.5972],\n",
              "        [ 0.7569, -0.2655,  0.5972],\n",
              "        [ 0.7569, -0.2655,  0.5972]], device='cuda:0'), directions=tensor([[-0.9554, -0.2019, -0.2156],\n",
              "        [-0.9555, -0.2013, -0.2157],\n",
              "        [-0.9556, -0.2006, -0.2158],\n",
              "        ...,\n",
              "        [-0.2538,  0.6248, -0.7384],\n",
              "        [-0.2534,  0.6253, -0.7381],\n",
              "        [-0.2531,  0.6258, -0.7378]], device='cuda:0'), pixel_area=tensor([[5.1192e-07, 5.1250e-07, 5.1308e-07,  ..., 5.1247e-07, 5.1184e-07,\n",
              "         5.1132e-07],\n",
              "        [5.1192e-07, 5.1250e-07, 5.1308e-07,  ..., 5.1247e-07, 5.1184e-07,\n",
              "         5.1132e-07],\n",
              "        [5.1192e-07, 5.1250e-07, 5.1308e-07,  ..., 5.1247e-07, 5.1184e-07,\n",
              "         5.1132e-07],\n",
              "        ...,\n",
              "        [5.1192e-07, 5.1250e-07, 5.1308e-07,  ..., 5.1247e-07, 5.1184e-07,\n",
              "         5.1132e-07],\n",
              "        [5.1192e-07, 5.1250e-07, 5.1308e-07,  ..., 5.1247e-07, 5.1184e-07,\n",
              "         5.1132e-07],\n",
              "        [5.1192e-07, 5.1250e-07, 5.1308e-07,  ..., 5.1247e-07, 5.1184e-07,\n",
              "         5.1132e-07]], device='cuda:0'), camera_indices=tensor([[0., 0., 0.,  ..., 0., 0., 0.],\n",
              "        [0., 0., 0.,  ..., 0., 0., 0.],\n",
              "        [0., 0., 0.,  ..., 0., 0., 0.],\n",
              "        ...,\n",
              "        [0., 0., 0.,  ..., 0., 0., 0.],\n",
              "        [0., 0., 0.,  ..., 0., 0., 0.],\n",
              "        [0., 0., 0.,  ..., 0., 0., 0.]], device='cuda:0'), nears=None, fars=None, metadata={'directions_norm': tensor([[1.2527, 1.2522, 1.2517,  ..., 1.2517, 1.2522, 1.2527],\n",
              "        [1.2527, 1.2522, 1.2517,  ..., 1.2517, 1.2522, 1.2527],\n",
              "        [1.2527, 1.2522, 1.2517,  ..., 1.2517, 1.2522, 1.2527],\n",
              "        ...,\n",
              "        [1.2527, 1.2522, 1.2517,  ..., 1.2517, 1.2522, 1.2527],\n",
              "        [1.2527, 1.2522, 1.2517,  ..., 1.2517, 1.2522, 1.2527],\n",
              "        [1.2527, 1.2522, 1.2517,  ..., 1.2517, 1.2522, 1.2527]],\n",
              "       device='cuda:0')}, times=None)"
            ]
          },
          "execution_count": 9,
          "metadata": {},
          "output_type": "execute_result"
        }
      ],
      "source": [
        "data['ray_bundle']"
      ]
    },
    {
      "cell_type": "code",
      "execution_count": 1,
      "metadata": {},
      "outputs": [],
      "source": [
        "from reni_neus.model_components.ddf_sdf_sampler import VMFDDFSamplerConfig, VMFDDFSampler"
      ]
    },
    {
      "cell_type": "code",
      "execution_count": 11,
      "metadata": {},
      "outputs": [],
      "source": [
        "sampler = VMFDDFSamplerConfig(concentration=25).setup(device='cuda:0')\n"
      ]
    },
    {
      "cell_type": "code",
      "execution_count": 12,
      "metadata": {},
      "outputs": [],
      "source": [
        "samples = sampler(num_positions=1, num_directions=100)"
      ]
    },
    {
      "cell_type": "code",
      "execution_count": 13,
      "metadata": {},
      "outputs": [
        {
          "data": {
            "application/vnd.plotly.v1+json": {
              "config": {
                "plotlyServerURL": "https://plot.ly"
              },
              "data": [
                {
                  "mode": "markers",
                  "type": "scatter3d",
                  "x": [
                    -0.6806874871253967,
                    -0.6806874871253967,
                    -0.6806874871253967,
                    -0.6806874871253967,
                    -0.6806874871253967,
                    -0.6806874871253967,
                    -0.6806874871253967,
                    -0.6806874871253967,
                    -0.6806874871253967,
                    -0.6806874871253967,
                    -0.6806874871253967,
                    -0.6806874871253967,
                    -0.6806874871253967,
                    -0.6806874871253967,
                    -0.6806874871253967,
                    -0.6806874871253967,
                    -0.6806874871253967,
                    -0.6806874871253967,
                    -0.6806874871253967,
                    -0.6806874871253967,
                    -0.6806874871253967,
                    -0.6806874871253967,
                    -0.6806874871253967,
                    -0.6806874871253967,
                    -0.6806874871253967,
                    -0.6806874871253967,
                    -0.6806874871253967,
                    -0.6806874871253967,
                    -0.6806874871253967,
                    -0.6806874871253967,
                    -0.6806874871253967,
                    -0.6806874871253967,
                    -0.6806874871253967,
                    -0.6806874871253967,
                    -0.6806874871253967,
                    -0.6806874871253967,
                    -0.6806874871253967,
                    -0.6806874871253967,
                    -0.6806874871253967,
                    -0.6806874871253967,
                    -0.6806874871253967,
                    -0.6806874871253967,
                    -0.6806874871253967,
                    -0.6806874871253967,
                    -0.6806874871253967,
                    -0.6806874871253967,
                    -0.6806874871253967,
                    -0.6806874871253967,
                    -0.6806874871253967,
                    -0.6806874871253967,
                    -0.6806874871253967,
                    -0.6806874871253967,
                    -0.6806874871253967,
                    -0.6806874871253967,
                    -0.6806874871253967,
                    -0.6806874871253967,
                    -0.6806874871253967,
                    -0.6806874871253967,
                    -0.6806874871253967,
                    -0.6806874871253967,
                    -0.6806874871253967,
                    -0.6806874871253967,
                    -0.6806874871253967,
                    -0.6806874871253967,
                    -0.6806874871253967,
                    -0.6806874871253967,
                    -0.6806874871253967,
                    -0.6806874871253967,
                    -0.6806874871253967,
                    -0.6806874871253967,
                    -0.6806874871253967,
                    -0.6806874871253967,
                    -0.6806874871253967,
                    -0.6806874871253967,
                    -0.6806874871253967,
                    -0.6806874871253967,
                    -0.6806874871253967,
                    -0.6806874871253967,
                    -0.6806874871253967,
                    -0.6806874871253967,
                    -0.6806874871253967,
                    -0.6806874871253967,
                    -0.6806874871253967,
                    -0.6806874871253967,
                    -0.6806874871253967,
                    -0.6806874871253967,
                    -0.6806874871253967,
                    -0.6806874871253967,
                    -0.6806874871253967,
                    -0.6806874871253967,
                    -0.6806874871253967,
                    -0.6806874871253967,
                    -0.6806874871253967,
                    -0.6806874871253967,
                    -0.6806874871253967,
                    -0.6806874871253967,
                    -0.6806874871253967,
                    -0.6806874871253967,
                    -0.6806874871253967,
                    -0.6806874871253967
                  ],
                  "y": [
                    -0.41520094871520996,
                    -0.41520094871520996,
                    -0.41520094871520996,
                    -0.41520094871520996,
                    -0.41520094871520996,
                    -0.41520094871520996,
                    -0.41520094871520996,
                    -0.41520094871520996,
                    -0.41520094871520996,
                    -0.41520094871520996,
                    -0.41520094871520996,
                    -0.41520094871520996,
                    -0.41520094871520996,
                    -0.41520094871520996,
                    -0.41520094871520996,
                    -0.41520094871520996,
                    -0.41520094871520996,
                    -0.41520094871520996,
                    -0.41520094871520996,
                    -0.41520094871520996,
                    -0.41520094871520996,
                    -0.41520094871520996,
                    -0.41520094871520996,
                    -0.41520094871520996,
                    -0.41520094871520996,
                    -0.41520094871520996,
                    -0.41520094871520996,
                    -0.41520094871520996,
                    -0.41520094871520996,
                    -0.41520094871520996,
                    -0.41520094871520996,
                    -0.41520094871520996,
                    -0.41520094871520996,
                    -0.41520094871520996,
                    -0.41520094871520996,
                    -0.41520094871520996,
                    -0.41520094871520996,
                    -0.41520094871520996,
                    -0.41520094871520996,
                    -0.41520094871520996,
                    -0.41520094871520996,
                    -0.41520094871520996,
                    -0.41520094871520996,
                    -0.41520094871520996,
                    -0.41520094871520996,
                    -0.41520094871520996,
                    -0.41520094871520996,
                    -0.41520094871520996,
                    -0.41520094871520996,
                    -0.41520094871520996,
                    -0.41520094871520996,
                    -0.41520094871520996,
                    -0.41520094871520996,
                    -0.41520094871520996,
                    -0.41520094871520996,
                    -0.41520094871520996,
                    -0.41520094871520996,
                    -0.41520094871520996,
                    -0.41520094871520996,
                    -0.41520094871520996,
                    -0.41520094871520996,
                    -0.41520094871520996,
                    -0.41520094871520996,
                    -0.41520094871520996,
                    -0.41520094871520996,
                    -0.41520094871520996,
                    -0.41520094871520996,
                    -0.41520094871520996,
                    -0.41520094871520996,
                    -0.41520094871520996,
                    -0.41520094871520996,
                    -0.41520094871520996,
                    -0.41520094871520996,
                    -0.41520094871520996,
                    -0.41520094871520996,
                    -0.41520094871520996,
                    -0.41520094871520996,
                    -0.41520094871520996,
                    -0.41520094871520996,
                    -0.41520094871520996,
                    -0.41520094871520996,
                    -0.41520094871520996,
                    -0.41520094871520996,
                    -0.41520094871520996,
                    -0.41520094871520996,
                    -0.41520094871520996,
                    -0.41520094871520996,
                    -0.41520094871520996,
                    -0.41520094871520996,
                    -0.41520094871520996,
                    -0.41520094871520996,
                    -0.41520094871520996,
                    -0.41520094871520996,
                    -0.41520094871520996,
                    -0.41520094871520996,
                    -0.41520094871520996,
                    -0.41520094871520996,
                    -0.41520094871520996,
                    -0.41520094871520996,
                    -0.41520094871520996
                  ],
                  "z": [
                    0.6035500764846802,
                    0.6035500764846802,
                    0.6035500764846802,
                    0.6035500764846802,
                    0.6035500764846802,
                    0.6035500764846802,
                    0.6035500764846802,
                    0.6035500764846802,
                    0.6035500764846802,
                    0.6035500764846802,
                    0.6035500764846802,
                    0.6035500764846802,
                    0.6035500764846802,
                    0.6035500764846802,
                    0.6035500764846802,
                    0.6035500764846802,
                    0.6035500764846802,
                    0.6035500764846802,
                    0.6035500764846802,
                    0.6035500764846802,
                    0.6035500764846802,
                    0.6035500764846802,
                    0.6035500764846802,
                    0.6035500764846802,
                    0.6035500764846802,
                    0.6035500764846802,
                    0.6035500764846802,
                    0.6035500764846802,
                    0.6035500764846802,
                    0.6035500764846802,
                    0.6035500764846802,
                    0.6035500764846802,
                    0.6035500764846802,
                    0.6035500764846802,
                    0.6035500764846802,
                    0.6035500764846802,
                    0.6035500764846802,
                    0.6035500764846802,
                    0.6035500764846802,
                    0.6035500764846802,
                    0.6035500764846802,
                    0.6035500764846802,
                    0.6035500764846802,
                    0.6035500764846802,
                    0.6035500764846802,
                    0.6035500764846802,
                    0.6035500764846802,
                    0.6035500764846802,
                    0.6035500764846802,
                    0.6035500764846802,
                    0.6035500764846802,
                    0.6035500764846802,
                    0.6035500764846802,
                    0.6035500764846802,
                    0.6035500764846802,
                    0.6035500764846802,
                    0.6035500764846802,
                    0.6035500764846802,
                    0.6035500764846802,
                    0.6035500764846802,
                    0.6035500764846802,
                    0.6035500764846802,
                    0.6035500764846802,
                    0.6035500764846802,
                    0.6035500764846802,
                    0.6035500764846802,
                    0.6035500764846802,
                    0.6035500764846802,
                    0.6035500764846802,
                    0.6035500764846802,
                    0.6035500764846802,
                    0.6035500764846802,
                    0.6035500764846802,
                    0.6035500764846802,
                    0.6035500764846802,
                    0.6035500764846802,
                    0.6035500764846802,
                    0.6035500764846802,
                    0.6035500764846802,
                    0.6035500764846802,
                    0.6035500764846802,
                    0.6035500764846802,
                    0.6035500764846802,
                    0.6035500764846802,
                    0.6035500764846802,
                    0.6035500764846802,
                    0.6035500764846802,
                    0.6035500764846802,
                    0.6035500764846802,
                    0.6035500764846802,
                    0.6035500764846802,
                    0.6035500764846802,
                    0.6035500764846802,
                    0.6035500764846802,
                    0.6035500764846802,
                    0.6035500764846802,
                    0.6035500764846802,
                    0.6035500764846802,
                    0.6035500764846802,
                    0.6035500764846802
                  ]
                },
                {
                  "line": {
                    "width": 15
                  },
                  "mode": "lines",
                  "type": "scatter3d",
                  "x": [
                    -0.6806874871253967,
                    0
                  ],
                  "y": [
                    -0.41520094871520996,
                    0
                  ],
                  "z": [
                    0.6035500764846802,
                    0
                  ]
                },
                {
                  "line": {
                    "width": 15
                  },
                  "mode": "lines",
                  "type": "scatter3d",
                  "x": [
                    -0.6806874871253967,
                    0
                  ],
                  "y": [
                    -0.41520094871520996,
                    0
                  ],
                  "z": [
                    0.6035500764846802,
                    0
                  ]
                },
                {
                  "line": {
                    "width": 15
                  },
                  "mode": "lines",
                  "type": "scatter3d",
                  "x": [
                    -0.6806874871253967,
                    0
                  ],
                  "y": [
                    -0.41520094871520996,
                    0
                  ],
                  "z": [
                    0.6035500764846802,
                    0
                  ]
                },
                {
                  "line": {
                    "width": 15
                  },
                  "mode": "lines",
                  "type": "scatter3d",
                  "x": [
                    -0.6806874871253967,
                    0
                  ],
                  "y": [
                    -0.41520094871520996,
                    0
                  ],
                  "z": [
                    0.6035500764846802,
                    0
                  ]
                },
                {
                  "line": {
                    "width": 15
                  },
                  "mode": "lines",
                  "type": "scatter3d",
                  "x": [
                    -0.6806874871253967,
                    0
                  ],
                  "y": [
                    -0.41520094871520996,
                    0
                  ],
                  "z": [
                    0.6035500764846802,
                    0
                  ]
                },
                {
                  "line": {
                    "width": 15
                  },
                  "mode": "lines",
                  "type": "scatter3d",
                  "x": [
                    -0.6806874871253967,
                    0
                  ],
                  "y": [
                    -0.41520094871520996,
                    0
                  ],
                  "z": [
                    0.6035500764846802,
                    0
                  ]
                },
                {
                  "line": {
                    "width": 15
                  },
                  "mode": "lines",
                  "type": "scatter3d",
                  "x": [
                    -0.6806874871253967,
                    0
                  ],
                  "y": [
                    -0.41520094871520996,
                    0
                  ],
                  "z": [
                    0.6035500764846802,
                    0
                  ]
                },
                {
                  "line": {
                    "width": 15
                  },
                  "mode": "lines",
                  "type": "scatter3d",
                  "x": [
                    -0.6806874871253967,
                    0
                  ],
                  "y": [
                    -0.41520094871520996,
                    0
                  ],
                  "z": [
                    0.6035500764846802,
                    0
                  ]
                },
                {
                  "line": {
                    "width": 15
                  },
                  "mode": "lines",
                  "type": "scatter3d",
                  "x": [
                    -0.6806874871253967,
                    0
                  ],
                  "y": [
                    -0.41520094871520996,
                    0
                  ],
                  "z": [
                    0.6035500764846802,
                    0
                  ]
                },
                {
                  "line": {
                    "width": 15
                  },
                  "mode": "lines",
                  "type": "scatter3d",
                  "x": [
                    -0.6806874871253967,
                    0
                  ],
                  "y": [
                    -0.41520094871520996,
                    0
                  ],
                  "z": [
                    0.6035500764846802,
                    0
                  ]
                },
                {
                  "line": {
                    "width": 15
                  },
                  "mode": "lines",
                  "type": "scatter3d",
                  "x": [
                    -0.6806874871253967,
                    0
                  ],
                  "y": [
                    -0.41520094871520996,
                    0
                  ],
                  "z": [
                    0.6035500764846802,
                    0
                  ]
                },
                {
                  "line": {
                    "width": 15
                  },
                  "mode": "lines",
                  "type": "scatter3d",
                  "x": [
                    -0.6806874871253967,
                    0
                  ],
                  "y": [
                    -0.41520094871520996,
                    0
                  ],
                  "z": [
                    0.6035500764846802,
                    0
                  ]
                },
                {
                  "line": {
                    "width": 15
                  },
                  "mode": "lines",
                  "type": "scatter3d",
                  "x": [
                    -0.6806874871253967,
                    0
                  ],
                  "y": [
                    -0.41520094871520996,
                    0
                  ],
                  "z": [
                    0.6035500764846802,
                    0
                  ]
                },
                {
                  "line": {
                    "width": 15
                  },
                  "mode": "lines",
                  "type": "scatter3d",
                  "x": [
                    -0.6806874871253967,
                    0
                  ],
                  "y": [
                    -0.41520094871520996,
                    0
                  ],
                  "z": [
                    0.6035500764846802,
                    0
                  ]
                },
                {
                  "line": {
                    "width": 15
                  },
                  "mode": "lines",
                  "type": "scatter3d",
                  "x": [
                    -0.6806874871253967,
                    0
                  ],
                  "y": [
                    -0.41520094871520996,
                    0
                  ],
                  "z": [
                    0.6035500764846802,
                    0
                  ]
                },
                {
                  "line": {
                    "width": 15
                  },
                  "mode": "lines",
                  "type": "scatter3d",
                  "x": [
                    -0.6806874871253967,
                    0
                  ],
                  "y": [
                    -0.41520094871520996,
                    0
                  ],
                  "z": [
                    0.6035500764846802,
                    0
                  ]
                },
                {
                  "line": {
                    "width": 15
                  },
                  "mode": "lines",
                  "type": "scatter3d",
                  "x": [
                    -0.6806874871253967,
                    0
                  ],
                  "y": [
                    -0.41520094871520996,
                    0
                  ],
                  "z": [
                    0.6035500764846802,
                    0
                  ]
                },
                {
                  "line": {
                    "width": 15
                  },
                  "mode": "lines",
                  "type": "scatter3d",
                  "x": [
                    -0.6806874871253967,
                    0
                  ],
                  "y": [
                    -0.41520094871520996,
                    0
                  ],
                  "z": [
                    0.6035500764846802,
                    0
                  ]
                },
                {
                  "line": {
                    "width": 15
                  },
                  "mode": "lines",
                  "type": "scatter3d",
                  "x": [
                    -0.6806874871253967,
                    0
                  ],
                  "y": [
                    -0.41520094871520996,
                    0
                  ],
                  "z": [
                    0.6035500764846802,
                    0
                  ]
                },
                {
                  "line": {
                    "width": 15
                  },
                  "mode": "lines",
                  "type": "scatter3d",
                  "x": [
                    -0.6806874871253967,
                    0
                  ],
                  "y": [
                    -0.41520094871520996,
                    0
                  ],
                  "z": [
                    0.6035500764846802,
                    0
                  ]
                },
                {
                  "line": {
                    "width": 15
                  },
                  "mode": "lines",
                  "type": "scatter3d",
                  "x": [
                    -0.6806874871253967,
                    0
                  ],
                  "y": [
                    -0.41520094871520996,
                    0
                  ],
                  "z": [
                    0.6035500764846802,
                    0
                  ]
                },
                {
                  "line": {
                    "width": 15
                  },
                  "mode": "lines",
                  "type": "scatter3d",
                  "x": [
                    -0.6806874871253967,
                    0
                  ],
                  "y": [
                    -0.41520094871520996,
                    0
                  ],
                  "z": [
                    0.6035500764846802,
                    0
                  ]
                },
                {
                  "line": {
                    "width": 15
                  },
                  "mode": "lines",
                  "type": "scatter3d",
                  "x": [
                    -0.6806874871253967,
                    0
                  ],
                  "y": [
                    -0.41520094871520996,
                    0
                  ],
                  "z": [
                    0.6035500764846802,
                    0
                  ]
                },
                {
                  "line": {
                    "width": 15
                  },
                  "mode": "lines",
                  "type": "scatter3d",
                  "x": [
                    -0.6806874871253967,
                    0
                  ],
                  "y": [
                    -0.41520094871520996,
                    0
                  ],
                  "z": [
                    0.6035500764846802,
                    0
                  ]
                },
                {
                  "line": {
                    "width": 15
                  },
                  "mode": "lines",
                  "type": "scatter3d",
                  "x": [
                    -0.6806874871253967,
                    0
                  ],
                  "y": [
                    -0.41520094871520996,
                    0
                  ],
                  "z": [
                    0.6035500764846802,
                    0
                  ]
                },
                {
                  "line": {
                    "width": 15
                  },
                  "mode": "lines",
                  "type": "scatter3d",
                  "x": [
                    -0.6806874871253967,
                    0
                  ],
                  "y": [
                    -0.41520094871520996,
                    0
                  ],
                  "z": [
                    0.6035500764846802,
                    0
                  ]
                },
                {
                  "line": {
                    "width": 15
                  },
                  "mode": "lines",
                  "type": "scatter3d",
                  "x": [
                    -0.6806874871253967,
                    0
                  ],
                  "y": [
                    -0.41520094871520996,
                    0
                  ],
                  "z": [
                    0.6035500764846802,
                    0
                  ]
                },
                {
                  "line": {
                    "width": 15
                  },
                  "mode": "lines",
                  "type": "scatter3d",
                  "x": [
                    -0.6806874871253967,
                    0
                  ],
                  "y": [
                    -0.41520094871520996,
                    0
                  ],
                  "z": [
                    0.6035500764846802,
                    0
                  ]
                },
                {
                  "line": {
                    "width": 15
                  },
                  "mode": "lines",
                  "type": "scatter3d",
                  "x": [
                    -0.6806874871253967,
                    0
                  ],
                  "y": [
                    -0.41520094871520996,
                    0
                  ],
                  "z": [
                    0.6035500764846802,
                    0
                  ]
                },
                {
                  "line": {
                    "width": 15
                  },
                  "mode": "lines",
                  "type": "scatter3d",
                  "x": [
                    -0.6806874871253967,
                    0
                  ],
                  "y": [
                    -0.41520094871520996,
                    0
                  ],
                  "z": [
                    0.6035500764846802,
                    0
                  ]
                },
                {
                  "line": {
                    "width": 15
                  },
                  "mode": "lines",
                  "type": "scatter3d",
                  "x": [
                    -0.6806874871253967,
                    0
                  ],
                  "y": [
                    -0.41520094871520996,
                    0
                  ],
                  "z": [
                    0.6035500764846802,
                    0
                  ]
                },
                {
                  "line": {
                    "width": 15
                  },
                  "mode": "lines",
                  "type": "scatter3d",
                  "x": [
                    -0.6806874871253967,
                    0
                  ],
                  "y": [
                    -0.41520094871520996,
                    0
                  ],
                  "z": [
                    0.6035500764846802,
                    0
                  ]
                },
                {
                  "line": {
                    "width": 15
                  },
                  "mode": "lines",
                  "type": "scatter3d",
                  "x": [
                    -0.6806874871253967,
                    0
                  ],
                  "y": [
                    -0.41520094871520996,
                    0
                  ],
                  "z": [
                    0.6035500764846802,
                    0
                  ]
                },
                {
                  "line": {
                    "width": 15
                  },
                  "mode": "lines",
                  "type": "scatter3d",
                  "x": [
                    -0.6806874871253967,
                    0
                  ],
                  "y": [
                    -0.41520094871520996,
                    0
                  ],
                  "z": [
                    0.6035500764846802,
                    0
                  ]
                },
                {
                  "line": {
                    "width": 15
                  },
                  "mode": "lines",
                  "type": "scatter3d",
                  "x": [
                    -0.6806874871253967,
                    0
                  ],
                  "y": [
                    -0.41520094871520996,
                    0
                  ],
                  "z": [
                    0.6035500764846802,
                    0
                  ]
                },
                {
                  "line": {
                    "width": 15
                  },
                  "mode": "lines",
                  "type": "scatter3d",
                  "x": [
                    -0.6806874871253967,
                    0
                  ],
                  "y": [
                    -0.41520094871520996,
                    0
                  ],
                  "z": [
                    0.6035500764846802,
                    0
                  ]
                },
                {
                  "line": {
                    "width": 15
                  },
                  "mode": "lines",
                  "type": "scatter3d",
                  "x": [
                    -0.6806874871253967,
                    0
                  ],
                  "y": [
                    -0.41520094871520996,
                    0
                  ],
                  "z": [
                    0.6035500764846802,
                    0
                  ]
                },
                {
                  "line": {
                    "width": 15
                  },
                  "mode": "lines",
                  "type": "scatter3d",
                  "x": [
                    -0.6806874871253967,
                    0
                  ],
                  "y": [
                    -0.41520094871520996,
                    0
                  ],
                  "z": [
                    0.6035500764846802,
                    0
                  ]
                },
                {
                  "line": {
                    "width": 15
                  },
                  "mode": "lines",
                  "type": "scatter3d",
                  "x": [
                    -0.6806874871253967,
                    0
                  ],
                  "y": [
                    -0.41520094871520996,
                    0
                  ],
                  "z": [
                    0.6035500764846802,
                    0
                  ]
                },
                {
                  "line": {
                    "width": 15
                  },
                  "mode": "lines",
                  "type": "scatter3d",
                  "x": [
                    -0.6806874871253967,
                    0
                  ],
                  "y": [
                    -0.41520094871520996,
                    0
                  ],
                  "z": [
                    0.6035500764846802,
                    0
                  ]
                },
                {
                  "line": {
                    "width": 15
                  },
                  "mode": "lines",
                  "type": "scatter3d",
                  "x": [
                    -0.6806874871253967,
                    0
                  ],
                  "y": [
                    -0.41520094871520996,
                    0
                  ],
                  "z": [
                    0.6035500764846802,
                    0
                  ]
                },
                {
                  "line": {
                    "width": 15
                  },
                  "mode": "lines",
                  "type": "scatter3d",
                  "x": [
                    -0.6806874871253967,
                    0
                  ],
                  "y": [
                    -0.41520094871520996,
                    0
                  ],
                  "z": [
                    0.6035500764846802,
                    0
                  ]
                },
                {
                  "line": {
                    "width": 15
                  },
                  "mode": "lines",
                  "type": "scatter3d",
                  "x": [
                    -0.6806874871253967,
                    0
                  ],
                  "y": [
                    -0.41520094871520996,
                    0
                  ],
                  "z": [
                    0.6035500764846802,
                    0
                  ]
                },
                {
                  "line": {
                    "width": 15
                  },
                  "mode": "lines",
                  "type": "scatter3d",
                  "x": [
                    -0.6806874871253967,
                    0
                  ],
                  "y": [
                    -0.41520094871520996,
                    0
                  ],
                  "z": [
                    0.6035500764846802,
                    0
                  ]
                },
                {
                  "line": {
                    "width": 15
                  },
                  "mode": "lines",
                  "type": "scatter3d",
                  "x": [
                    -0.6806874871253967,
                    0
                  ],
                  "y": [
                    -0.41520094871520996,
                    0
                  ],
                  "z": [
                    0.6035500764846802,
                    0
                  ]
                },
                {
                  "line": {
                    "width": 15
                  },
                  "mode": "lines",
                  "type": "scatter3d",
                  "x": [
                    -0.6806874871253967,
                    0
                  ],
                  "y": [
                    -0.41520094871520996,
                    0
                  ],
                  "z": [
                    0.6035500764846802,
                    0
                  ]
                },
                {
                  "line": {
                    "width": 15
                  },
                  "mode": "lines",
                  "type": "scatter3d",
                  "x": [
                    -0.6806874871253967,
                    0
                  ],
                  "y": [
                    -0.41520094871520996,
                    0
                  ],
                  "z": [
                    0.6035500764846802,
                    0
                  ]
                },
                {
                  "line": {
                    "width": 15
                  },
                  "mode": "lines",
                  "type": "scatter3d",
                  "x": [
                    -0.6806874871253967,
                    0
                  ],
                  "y": [
                    -0.41520094871520996,
                    0
                  ],
                  "z": [
                    0.6035500764846802,
                    0
                  ]
                },
                {
                  "line": {
                    "width": 15
                  },
                  "mode": "lines",
                  "type": "scatter3d",
                  "x": [
                    -0.6806874871253967,
                    0
                  ],
                  "y": [
                    -0.41520094871520996,
                    0
                  ],
                  "z": [
                    0.6035500764846802,
                    0
                  ]
                },
                {
                  "line": {
                    "width": 15
                  },
                  "mode": "lines",
                  "type": "scatter3d",
                  "x": [
                    -0.6806874871253967,
                    0
                  ],
                  "y": [
                    -0.41520094871520996,
                    0
                  ],
                  "z": [
                    0.6035500764846802,
                    0
                  ]
                },
                {
                  "line": {
                    "width": 15
                  },
                  "mode": "lines",
                  "type": "scatter3d",
                  "x": [
                    -0.6806874871253967,
                    0
                  ],
                  "y": [
                    -0.41520094871520996,
                    0
                  ],
                  "z": [
                    0.6035500764846802,
                    0
                  ]
                },
                {
                  "line": {
                    "width": 15
                  },
                  "mode": "lines",
                  "type": "scatter3d",
                  "x": [
                    -0.6806874871253967,
                    0
                  ],
                  "y": [
                    -0.41520094871520996,
                    0
                  ],
                  "z": [
                    0.6035500764846802,
                    0
                  ]
                },
                {
                  "line": {
                    "width": 15
                  },
                  "mode": "lines",
                  "type": "scatter3d",
                  "x": [
                    -0.6806874871253967,
                    0
                  ],
                  "y": [
                    -0.41520094871520996,
                    0
                  ],
                  "z": [
                    0.6035500764846802,
                    0
                  ]
                },
                {
                  "line": {
                    "width": 15
                  },
                  "mode": "lines",
                  "type": "scatter3d",
                  "x": [
                    -0.6806874871253967,
                    0
                  ],
                  "y": [
                    -0.41520094871520996,
                    0
                  ],
                  "z": [
                    0.6035500764846802,
                    0
                  ]
                },
                {
                  "line": {
                    "width": 15
                  },
                  "mode": "lines",
                  "type": "scatter3d",
                  "x": [
                    -0.6806874871253967,
                    0
                  ],
                  "y": [
                    -0.41520094871520996,
                    0
                  ],
                  "z": [
                    0.6035500764846802,
                    0
                  ]
                },
                {
                  "line": {
                    "width": 15
                  },
                  "mode": "lines",
                  "type": "scatter3d",
                  "x": [
                    -0.6806874871253967,
                    0
                  ],
                  "y": [
                    -0.41520094871520996,
                    0
                  ],
                  "z": [
                    0.6035500764846802,
                    0
                  ]
                },
                {
                  "line": {
                    "width": 15
                  },
                  "mode": "lines",
                  "type": "scatter3d",
                  "x": [
                    -0.6806874871253967,
                    0
                  ],
                  "y": [
                    -0.41520094871520996,
                    0
                  ],
                  "z": [
                    0.6035500764846802,
                    0
                  ]
                },
                {
                  "line": {
                    "width": 15
                  },
                  "mode": "lines",
                  "type": "scatter3d",
                  "x": [
                    -0.6806874871253967,
                    0
                  ],
                  "y": [
                    -0.41520094871520996,
                    0
                  ],
                  "z": [
                    0.6035500764846802,
                    0
                  ]
                },
                {
                  "line": {
                    "width": 15
                  },
                  "mode": "lines",
                  "type": "scatter3d",
                  "x": [
                    -0.6806874871253967,
                    0
                  ],
                  "y": [
                    -0.41520094871520996,
                    0
                  ],
                  "z": [
                    0.6035500764846802,
                    0
                  ]
                },
                {
                  "line": {
                    "width": 15
                  },
                  "mode": "lines",
                  "type": "scatter3d",
                  "x": [
                    -0.6806874871253967,
                    0
                  ],
                  "y": [
                    -0.41520094871520996,
                    0
                  ],
                  "z": [
                    0.6035500764846802,
                    0
                  ]
                },
                {
                  "line": {
                    "width": 15
                  },
                  "mode": "lines",
                  "type": "scatter3d",
                  "x": [
                    -0.6806874871253967,
                    0
                  ],
                  "y": [
                    -0.41520094871520996,
                    0
                  ],
                  "z": [
                    0.6035500764846802,
                    0
                  ]
                },
                {
                  "line": {
                    "width": 15
                  },
                  "mode": "lines",
                  "type": "scatter3d",
                  "x": [
                    -0.6806874871253967,
                    0
                  ],
                  "y": [
                    -0.41520094871520996,
                    0
                  ],
                  "z": [
                    0.6035500764846802,
                    0
                  ]
                },
                {
                  "line": {
                    "width": 15
                  },
                  "mode": "lines",
                  "type": "scatter3d",
                  "x": [
                    -0.6806874871253967,
                    0
                  ],
                  "y": [
                    -0.41520094871520996,
                    0
                  ],
                  "z": [
                    0.6035500764846802,
                    0
                  ]
                },
                {
                  "line": {
                    "width": 15
                  },
                  "mode": "lines",
                  "type": "scatter3d",
                  "x": [
                    -0.6806874871253967,
                    0
                  ],
                  "y": [
                    -0.41520094871520996,
                    0
                  ],
                  "z": [
                    0.6035500764846802,
                    0
                  ]
                },
                {
                  "line": {
                    "width": 15
                  },
                  "mode": "lines",
                  "type": "scatter3d",
                  "x": [
                    -0.6806874871253967,
                    0
                  ],
                  "y": [
                    -0.41520094871520996,
                    0
                  ],
                  "z": [
                    0.6035500764846802,
                    0
                  ]
                },
                {
                  "line": {
                    "width": 15
                  },
                  "mode": "lines",
                  "type": "scatter3d",
                  "x": [
                    -0.6806874871253967,
                    0
                  ],
                  "y": [
                    -0.41520094871520996,
                    0
                  ],
                  "z": [
                    0.6035500764846802,
                    0
                  ]
                },
                {
                  "line": {
                    "width": 15
                  },
                  "mode": "lines",
                  "type": "scatter3d",
                  "x": [
                    -0.6806874871253967,
                    0
                  ],
                  "y": [
                    -0.41520094871520996,
                    0
                  ],
                  "z": [
                    0.6035500764846802,
                    0
                  ]
                },
                {
                  "line": {
                    "width": 15
                  },
                  "mode": "lines",
                  "type": "scatter3d",
                  "x": [
                    -0.6806874871253967,
                    0
                  ],
                  "y": [
                    -0.41520094871520996,
                    0
                  ],
                  "z": [
                    0.6035500764846802,
                    0
                  ]
                },
                {
                  "line": {
                    "width": 15
                  },
                  "mode": "lines",
                  "type": "scatter3d",
                  "x": [
                    -0.6806874871253967,
                    0
                  ],
                  "y": [
                    -0.41520094871520996,
                    0
                  ],
                  "z": [
                    0.6035500764846802,
                    0
                  ]
                },
                {
                  "line": {
                    "width": 15
                  },
                  "mode": "lines",
                  "type": "scatter3d",
                  "x": [
                    -0.6806874871253967,
                    0
                  ],
                  "y": [
                    -0.41520094871520996,
                    0
                  ],
                  "z": [
                    0.6035500764846802,
                    0
                  ]
                },
                {
                  "line": {
                    "width": 15
                  },
                  "mode": "lines",
                  "type": "scatter3d",
                  "x": [
                    -0.6806874871253967,
                    0
                  ],
                  "y": [
                    -0.41520094871520996,
                    0
                  ],
                  "z": [
                    0.6035500764846802,
                    0
                  ]
                },
                {
                  "line": {
                    "width": 15
                  },
                  "mode": "lines",
                  "type": "scatter3d",
                  "x": [
                    -0.6806874871253967,
                    0
                  ],
                  "y": [
                    -0.41520094871520996,
                    0
                  ],
                  "z": [
                    0.6035500764846802,
                    0
                  ]
                },
                {
                  "line": {
                    "width": 15
                  },
                  "mode": "lines",
                  "type": "scatter3d",
                  "x": [
                    -0.6806874871253967,
                    0
                  ],
                  "y": [
                    -0.41520094871520996,
                    0
                  ],
                  "z": [
                    0.6035500764846802,
                    0
                  ]
                },
                {
                  "line": {
                    "width": 15
                  },
                  "mode": "lines",
                  "type": "scatter3d",
                  "x": [
                    -0.6806874871253967,
                    0
                  ],
                  "y": [
                    -0.41520094871520996,
                    0
                  ],
                  "z": [
                    0.6035500764846802,
                    0
                  ]
                },
                {
                  "line": {
                    "width": 15
                  },
                  "mode": "lines",
                  "type": "scatter3d",
                  "x": [
                    -0.6806874871253967,
                    0
                  ],
                  "y": [
                    -0.41520094871520996,
                    0
                  ],
                  "z": [
                    0.6035500764846802,
                    0
                  ]
                },
                {
                  "line": {
                    "width": 15
                  },
                  "mode": "lines",
                  "type": "scatter3d",
                  "x": [
                    -0.6806874871253967,
                    0
                  ],
                  "y": [
                    -0.41520094871520996,
                    0
                  ],
                  "z": [
                    0.6035500764846802,
                    0
                  ]
                },
                {
                  "line": {
                    "width": 15
                  },
                  "mode": "lines",
                  "type": "scatter3d",
                  "x": [
                    -0.6806874871253967,
                    0
                  ],
                  "y": [
                    -0.41520094871520996,
                    0
                  ],
                  "z": [
                    0.6035500764846802,
                    0
                  ]
                },
                {
                  "line": {
                    "width": 15
                  },
                  "mode": "lines",
                  "type": "scatter3d",
                  "x": [
                    -0.6806874871253967,
                    0
                  ],
                  "y": [
                    -0.41520094871520996,
                    0
                  ],
                  "z": [
                    0.6035500764846802,
                    0
                  ]
                },
                {
                  "line": {
                    "width": 15
                  },
                  "mode": "lines",
                  "type": "scatter3d",
                  "x": [
                    -0.6806874871253967,
                    0
                  ],
                  "y": [
                    -0.41520094871520996,
                    0
                  ],
                  "z": [
                    0.6035500764846802,
                    0
                  ]
                },
                {
                  "line": {
                    "width": 15
                  },
                  "mode": "lines",
                  "type": "scatter3d",
                  "x": [
                    -0.6806874871253967,
                    0
                  ],
                  "y": [
                    -0.41520094871520996,
                    0
                  ],
                  "z": [
                    0.6035500764846802,
                    0
                  ]
                },
                {
                  "line": {
                    "width": 15
                  },
                  "mode": "lines",
                  "type": "scatter3d",
                  "x": [
                    -0.6806874871253967,
                    0
                  ],
                  "y": [
                    -0.41520094871520996,
                    0
                  ],
                  "z": [
                    0.6035500764846802,
                    0
                  ]
                },
                {
                  "line": {
                    "width": 15
                  },
                  "mode": "lines",
                  "type": "scatter3d",
                  "x": [
                    -0.6806874871253967,
                    0
                  ],
                  "y": [
                    -0.41520094871520996,
                    0
                  ],
                  "z": [
                    0.6035500764846802,
                    0
                  ]
                },
                {
                  "line": {
                    "width": 15
                  },
                  "mode": "lines",
                  "type": "scatter3d",
                  "x": [
                    -0.6806874871253967,
                    0
                  ],
                  "y": [
                    -0.41520094871520996,
                    0
                  ],
                  "z": [
                    0.6035500764846802,
                    0
                  ]
                },
                {
                  "line": {
                    "width": 15
                  },
                  "mode": "lines",
                  "type": "scatter3d",
                  "x": [
                    -0.6806874871253967,
                    0
                  ],
                  "y": [
                    -0.41520094871520996,
                    0
                  ],
                  "z": [
                    0.6035500764846802,
                    0
                  ]
                },
                {
                  "line": {
                    "width": 15
                  },
                  "mode": "lines",
                  "type": "scatter3d",
                  "x": [
                    -0.6806874871253967,
                    0
                  ],
                  "y": [
                    -0.41520094871520996,
                    0
                  ],
                  "z": [
                    0.6035500764846802,
                    0
                  ]
                },
                {
                  "line": {
                    "width": 15
                  },
                  "mode": "lines",
                  "type": "scatter3d",
                  "x": [
                    -0.6806874871253967,
                    0
                  ],
                  "y": [
                    -0.41520094871520996,
                    0
                  ],
                  "z": [
                    0.6035500764846802,
                    0
                  ]
                },
                {
                  "line": {
                    "width": 15
                  },
                  "mode": "lines",
                  "type": "scatter3d",
                  "x": [
                    -0.6806874871253967,
                    0
                  ],
                  "y": [
                    -0.41520094871520996,
                    0
                  ],
                  "z": [
                    0.6035500764846802,
                    0
                  ]
                },
                {
                  "line": {
                    "width": 15
                  },
                  "mode": "lines",
                  "type": "scatter3d",
                  "x": [
                    -0.6806874871253967,
                    0
                  ],
                  "y": [
                    -0.41520094871520996,
                    0
                  ],
                  "z": [
                    0.6035500764846802,
                    0
                  ]
                },
                {
                  "line": {
                    "width": 15
                  },
                  "mode": "lines",
                  "type": "scatter3d",
                  "x": [
                    -0.6806874871253967,
                    0
                  ],
                  "y": [
                    -0.41520094871520996,
                    0
                  ],
                  "z": [
                    0.6035500764846802,
                    0
                  ]
                },
                {
                  "line": {
                    "width": 15
                  },
                  "mode": "lines",
                  "type": "scatter3d",
                  "x": [
                    -0.6806874871253967,
                    0
                  ],
                  "y": [
                    -0.41520094871520996,
                    0
                  ],
                  "z": [
                    0.6035500764846802,
                    0
                  ]
                },
                {
                  "line": {
                    "width": 15
                  },
                  "mode": "lines",
                  "type": "scatter3d",
                  "x": [
                    -0.6806874871253967,
                    0
                  ],
                  "y": [
                    -0.41520094871520996,
                    0
                  ],
                  "z": [
                    0.6035500764846802,
                    0
                  ]
                },
                {
                  "line": {
                    "width": 15
                  },
                  "mode": "lines",
                  "type": "scatter3d",
                  "x": [
                    -0.6806874871253967,
                    0
                  ],
                  "y": [
                    -0.41520094871520996,
                    0
                  ],
                  "z": [
                    0.6035500764846802,
                    0
                  ]
                },
                {
                  "line": {
                    "width": 15
                  },
                  "mode": "lines",
                  "type": "scatter3d",
                  "x": [
                    -0.6806874871253967,
                    0
                  ],
                  "y": [
                    -0.41520094871520996,
                    0
                  ],
                  "z": [
                    0.6035500764846802,
                    0
                  ]
                },
                {
                  "line": {
                    "width": 15
                  },
                  "mode": "lines",
                  "type": "scatter3d",
                  "x": [
                    -0.6806874871253967,
                    0
                  ],
                  "y": [
                    -0.41520094871520996,
                    0
                  ],
                  "z": [
                    0.6035500764846802,
                    0
                  ]
                },
                {
                  "line": {
                    "width": 15
                  },
                  "mode": "lines",
                  "type": "scatter3d",
                  "x": [
                    -0.6806874871253967,
                    0
                  ],
                  "y": [
                    -0.41520094871520996,
                    0
                  ],
                  "z": [
                    0.6035500764846802,
                    0
                  ]
                },
                {
                  "line": {
                    "width": 15
                  },
                  "mode": "lines",
                  "type": "scatter3d",
                  "x": [
                    -0.6806874871253967,
                    0
                  ],
                  "y": [
                    -0.41520094871520996,
                    0
                  ],
                  "z": [
                    0.6035500764846802,
                    0
                  ]
                },
                {
                  "line": {
                    "width": 15
                  },
                  "mode": "lines",
                  "type": "scatter3d",
                  "x": [
                    -0.6806874871253967,
                    0
                  ],
                  "y": [
                    -0.41520094871520996,
                    0
                  ],
                  "z": [
                    0.6035500764846802,
                    0
                  ]
                },
                {
                  "line": {
                    "width": 15
                  },
                  "mode": "lines",
                  "type": "scatter3d",
                  "x": [
                    -0.6806874871253967,
                    0
                  ],
                  "y": [
                    -0.41520094871520996,
                    0
                  ],
                  "z": [
                    0.6035500764846802,
                    0
                  ]
                },
                {
                  "line": {
                    "width": 15
                  },
                  "mode": "lines",
                  "type": "scatter3d",
                  "x": [
                    -0.6806874871253967,
                    0
                  ],
                  "y": [
                    -0.41520094871520996,
                    0
                  ],
                  "z": [
                    0.6035500764846802,
                    0
                  ]
                },
                {
                  "line": {
                    "width": 15
                  },
                  "mode": "lines",
                  "type": "scatter3d",
                  "x": [
                    -0.6806874871253967,
                    0
                  ],
                  "y": [
                    -0.41520094871520996,
                    0
                  ],
                  "z": [
                    0.6035500764846802,
                    0
                  ]
                },
                {
                  "line": {
                    "width": 5
                  },
                  "mode": "lines",
                  "type": "scatter3d",
                  "x": [
                    -0.6806874871253967,
                    -0.0923236608505249
                  ],
                  "y": [
                    -0.41520094871520996,
                    -0.04278111457824707
                  ],
                  "z": [
                    0.6035500764846802,
                    -0.11417651176452637
                  ]
                },
                {
                  "line": {
                    "width": 5
                  },
                  "mode": "lines",
                  "type": "scatter3d",
                  "x": [
                    -0.6806874871253967,
                    -0.010893642902374268
                  ],
                  "y": [
                    -0.41520094871520996,
                    0.007467389106750488
                  ],
                  "z": [
                    0.6035500764846802,
                    -0.006964206695556641
                  ]
                },
                {
                  "line": {
                    "width": 5
                  },
                  "mode": "lines",
                  "type": "scatter3d",
                  "x": [
                    -0.6806874871253967,
                    -0.08278822898864746
                  ],
                  "y": [
                    -0.41520094871520996,
                    -0.13014352321624756
                  ],
                  "z": [
                    0.6035500764846802,
                    -0.14562201499938965
                  ]
                },
                {
                  "line": {
                    "width": 5
                  },
                  "mode": "lines",
                  "type": "scatter3d",
                  "x": [
                    -0.6806874871253967,
                    0.14599335193634033
                  ],
                  "y": [
                    -0.41520094871520996,
                    -0.13718047738075256
                  ],
                  "z": [
                    0.6035500764846802,
                    0.11436361074447632
                  ]
                },
                {
                  "line": {
                    "width": 5
                  },
                  "mode": "lines",
                  "type": "scatter3d",
                  "x": [
                    -0.6806874871253967,
                    -0.19155019521713257
                  ],
                  "y": [
                    -0.41520094871520996,
                    0.17431992292404175
                  ],
                  "z": [
                    0.6035500764846802,
                    -0.039263904094696045
                  ]
                },
                {
                  "line": {
                    "width": 5
                  },
                  "mode": "lines",
                  "type": "scatter3d",
                  "x": [
                    -0.6806874871253967,
                    -0.02981722354888916
                  ],
                  "y": [
                    -0.41520094871520996,
                    0.13288336992263794
                  ],
                  "z": [
                    0.6035500764846802,
                    0.07822024822235107
                  ]
                },
                {
                  "line": {
                    "width": 5
                  },
                  "mode": "lines",
                  "type": "scatter3d",
                  "x": [
                    -0.6806874871253967,
                    -0.0861632227897644
                  ],
                  "y": [
                    -0.41520094871520996,
                    0.23098206520080566
                  ],
                  "z": [
                    0.6035500764846802,
                    0.12502282857894897
                  ]
                },
                {
                  "line": {
                    "width": 5
                  },
                  "mode": "lines",
                  "type": "scatter3d",
                  "x": [
                    -0.6806874871253967,
                    0.08256053924560547
                  ],
                  "y": [
                    -0.41520094871520996,
                    -0.007124900817871094
                  ],
                  "z": [
                    0.6035500764846802,
                    0.10262453556060791
                  ]
                },
                {
                  "line": {
                    "width": 5
                  },
                  "mode": "lines",
                  "type": "scatter3d",
                  "x": [
                    -0.6806874871253967,
                    0.09203040599822998
                  ],
                  "y": [
                    -0.41520094871520996,
                    -0.030001699924468994
                  ],
                  "z": [
                    0.6035500764846802,
                    0.09904181957244873
                  ]
                },
                {
                  "line": {
                    "width": 5
                  },
                  "mode": "lines",
                  "type": "scatter3d",
                  "x": [
                    -0.6806874871253967,
                    -0.011321663856506348
                  ],
                  "y": [
                    -0.41520094871520996,
                    0.11848324537277222
                  ],
                  "z": [
                    0.6035500764846802,
                    0.08670341968536377
                  ]
                },
                {
                  "line": {
                    "width": 5
                  },
                  "mode": "lines",
                  "type": "scatter3d",
                  "x": [
                    -0.6806874871253967,
                    -0.23633483052253723
                  ],
                  "y": [
                    -0.41520094871520996,
                    -0.1939513236284256
                  ],
                  "z": [
                    0.6035500764846802,
                    -0.26455092430114746
                  ]
                },
                {
                  "line": {
                    "width": 5
                  },
                  "mode": "lines",
                  "type": "scatter3d",
                  "x": [
                    -0.6806874871253967,
                    0.19138604402542114
                  ],
                  "y": [
                    -0.41520094871520996,
                    -0.46261176466941833
                  ],
                  "z": [
                    0.6035500764846802,
                    0.1164771318435669
                  ]
                },
                {
                  "line": {
                    "width": 5
                  },
                  "mode": "lines",
                  "type": "scatter3d",
                  "x": [
                    -0.6806874871253967,
                    0.007035672664642334
                  ],
                  "y": [
                    -0.41520094871520996,
                    0.03891909122467041
                  ],
                  "z": [
                    0.6035500764846802,
                    0.03714752197265625
                  ]
                },
                {
                  "line": {
                    "width": 5
                  },
                  "mode": "lines",
                  "type": "scatter3d",
                  "x": [
                    -0.6806874871253967,
                    0.05526047945022583
                  ],
                  "y": [
                    -0.41520094871520996,
                    0.1526508927345276
                  ],
                  "z": [
                    0.6035500764846802,
                    0.23487010598182678
                  ]
                },
                {
                  "line": {
                    "width": 5
                  },
                  "mode": "lines",
                  "type": "scatter3d",
                  "x": [
                    -0.6806874871253967,
                    -0.17049318552017212
                  ],
                  "y": [
                    -0.41520094871520996,
                    -0.03324800729751587
                  ],
                  "z": [
                    0.6035500764846802,
                    -0.1670430302619934
                  ]
                },
                {
                  "line": {
                    "width": 5
                  },
                  "mode": "lines",
                  "type": "scatter3d",
                  "x": [
                    -0.6806874871253967,
                    -0.018869996070861816
                  ],
                  "y": [
                    -0.41520094871520996,
                    0.15706384181976318
                  ],
                  "z": [
                    0.6035500764846802,
                    0.11928713321685791
                  ]
                },
                {
                  "line": {
                    "width": 5
                  },
                  "mode": "lines",
                  "type": "scatter3d",
                  "x": [
                    -0.6806874871253967,
                    -0.5577129125595093
                  ],
                  "y": [
                    -0.41520094871520996,
                    0.22350001335144043
                  ],
                  "z": [
                    0.6035500764846802,
                    -0.15601444244384766
                  ]
                },
                {
                  "line": {
                    "width": 5
                  },
                  "mode": "lines",
                  "type": "scatter3d",
                  "x": [
                    -0.6806874871253967,
                    -0.24089527130126953
                  ],
                  "y": [
                    -0.41520094871520996,
                    0.13695263862609863
                  ],
                  "z": [
                    0.6035500764846802,
                    -0.10476422309875488
                  ]
                },
                {
                  "line": {
                    "width": 5
                  },
                  "mode": "lines",
                  "type": "scatter3d",
                  "x": [
                    -0.6806874871253967,
                    -0.02913910150527954
                  ],
                  "y": [
                    -0.41520094871520996,
                    0.13509589433670044
                  ],
                  "z": [
                    0.6035500764846802,
                    0.08138328790664673
                  ]
                },
                {
                  "line": {
                    "width": 5
                  },
                  "mode": "lines",
                  "type": "scatter3d",
                  "x": [
                    -0.6806874871253967,
                    -0.5800775289535522
                  ],
                  "y": [
                    -0.41520094871520996,
                    0.14081192016601562
                  ],
                  "z": [
                    0.6035500764846802,
                    -0.22151190042495728
                  ]
                },
                {
                  "line": {
                    "width": 5
                  },
                  "mode": "lines",
                  "type": "scatter3d",
                  "x": [
                    -0.6806874871253967,
                    -0.16995924711227417
                  ],
                  "y": [
                    -0.41520094871520996,
                    0.36588597297668457
                  ],
                  "z": [
                    0.6035500764846802,
                    0.24430105090141296
                  ]
                },
                {
                  "line": {
                    "width": 5
                  },
                  "mode": "lines",
                  "type": "scatter3d",
                  "x": [
                    -0.6806874871253967,
                    0.061014533042907715
                  ],
                  "y": [
                    -0.41520094871520996,
                    0.11256712675094604
                  ],
                  "z": [
                    0.6035500764846802,
                    0.18961891531944275
                  ]
                },
                {
                  "line": {
                    "width": 5
                  },
                  "mode": "lines",
                  "type": "scatter3d",
                  "x": [
                    -0.6806874871253967,
                    0.07221168279647827
                  ],
                  "y": [
                    -0.41520094871520996,
                    -0.5646064281463623
                  ],
                  "z": [
                    0.6035500764846802,
                    -0.037402987480163574
                  ]
                },
                {
                  "line": {
                    "width": 5
                  },
                  "mode": "lines",
                  "type": "scatter3d",
                  "x": [
                    -0.6806874871253967,
                    -0.0009265542030334473
                  ],
                  "y": [
                    -0.41520094871520996,
                    0.16739553213119507
                  ],
                  "z": [
                    0.6035500764846802,
                    0.15800946950912476
                  ]
                },
                {
                  "line": {
                    "width": 5
                  },
                  "mode": "lines",
                  "type": "scatter3d",
                  "x": [
                    -0.6806874871253967,
                    -0.04869866371154785
                  ],
                  "y": [
                    -0.41520094871520996,
                    -0.08204233646392822
                  ],
                  "z": [
                    0.6035500764846802,
                    -0.096160888671875
                  ]
                },
                {
                  "line": {
                    "width": 5
                  },
                  "mode": "lines",
                  "type": "scatter3d",
                  "x": [
                    -0.6806874871253967,
                    -0.16496044397354126
                  ],
                  "y": [
                    -0.41520094871520996,
                    -0.0038564205169677734
                  ],
                  "z": [
                    0.6035500764846802,
                    -0.14799588918685913
                  ]
                },
                {
                  "line": {
                    "width": 5
                  },
                  "mode": "lines",
                  "type": "scatter3d",
                  "x": [
                    -0.6806874871253967,
                    0.27076977491378784
                  ],
                  "y": [
                    -0.41520094871520996,
                    -0.24486254155635834
                  ],
                  "z": [
                    0.6035500764846802,
                    0.3472028970718384
                  ]
                },
                {
                  "line": {
                    "width": 5
                  },
                  "mode": "lines",
                  "type": "scatter3d",
                  "x": [
                    -0.6806874871253967,
                    0.10490918159484863
                  ],
                  "y": [
                    -0.41520094871520996,
                    -0.1649443507194519
                  ],
                  "z": [
                    0.6035500764846802,
                    0.03767949342727661
                  ]
                },
                {
                  "line": {
                    "width": 5
                  },
                  "mode": "lines",
                  "type": "scatter3d",
                  "x": [
                    -0.6806874871253967,
                    -0.005175173282623291
                  ],
                  "y": [
                    -0.41520094871520996,
                    -0.010827183723449707
                  ],
                  "z": [
                    0.6035500764846802,
                    -0.013025104999542236
                  ]
                },
                {
                  "line": {
                    "width": 5
                  },
                  "mode": "lines",
                  "type": "scatter3d",
                  "x": [
                    -0.6806874871253967,
                    0.09165477752685547
                  ],
                  "y": [
                    -0.41520094871520996,
                    -0.06262022256851196
                  ],
                  "z": [
                    0.6035500764846802,
                    0.07518064975738525
                  ]
                },
                {
                  "line": {
                    "width": 5
                  },
                  "mode": "lines",
                  "type": "scatter3d",
                  "x": [
                    -0.6806874871253967,
                    0.011549890041351318
                  ],
                  "y": [
                    -0.41520094871520996,
                    -0.033864349126815796
                  ],
                  "z": [
                    0.6035500764846802,
                    -0.009140551090240479
                  ]
                },
                {
                  "line": {
                    "width": 5
                  },
                  "mode": "lines",
                  "type": "scatter3d",
                  "x": [
                    -0.6806874871253967,
                    -0.023670613765716553
                  ],
                  "y": [
                    -0.41520094871520996,
                    0.056020766496658325
                  ],
                  "z": [
                    0.6035500764846802,
                    0.015095412731170654
                  ]
                },
                {
                  "line": {
                    "width": 5
                  },
                  "mode": "lines",
                  "type": "scatter3d",
                  "x": [
                    -0.6806874871253967,
                    0.06065046787261963
                  ],
                  "y": [
                    -0.41520094871520996,
                    -0.28959041833877563
                  ],
                  "z": [
                    0.6035500764846802,
                    -0.05572223663330078
                  ]
                },
                {
                  "line": {
                    "width": 5
                  },
                  "mode": "lines",
                  "type": "scatter3d",
                  "x": [
                    -0.6806874871253967,
                    0.10824280977249146
                  ],
                  "y": [
                    -0.41520094871520996,
                    -0.10937541723251343
                  ],
                  "z": [
                    0.6035500764846802,
                    0.07057750225067139
                  ]
                },
                {
                  "line": {
                    "width": 5
                  },
                  "mode": "lines",
                  "type": "scatter3d",
                  "x": [
                    -0.6806874871253967,
                    -0.44862350821495056
                  ],
                  "y": [
                    -0.41520094871520996,
                    0.4728807210922241
                  ],
                  "z": [
                    0.6035500764846802,
                    0.2067413032054901
                  ]
                },
                {
                  "line": {
                    "width": 5
                  },
                  "mode": "lines",
                  "type": "scatter3d",
                  "x": [
                    -0.6806874871253967,
                    -0.0052915215492248535
                  ],
                  "y": [
                    -0.41520094871520996,
                    -0.041715651750564575
                  ],
                  "z": [
                    0.6035500764846802,
                    -0.03233438730239868
                  ]
                },
                {
                  "line": {
                    "width": 5
                  },
                  "mode": "lines",
                  "type": "scatter3d",
                  "x": [
                    -0.6806874871253967,
                    0.18861180543899536
                  ],
                  "y": [
                    -0.41520094871520996,
                    -0.19442065060138702
                  ],
                  "z": [
                    0.6035500764846802,
                    0.16131174564361572
                  ]
                },
                {
                  "line": {
                    "width": 5
                  },
                  "mode": "lines",
                  "type": "scatter3d",
                  "x": [
                    -0.6806874871253967,
                    0.09144467115402222
                  ],
                  "y": [
                    -0.41520094871520996,
                    0.042681753635406494
                  ],
                  "z": [
                    0.6035500764846802,
                    0.16291949152946472
                  ]
                },
                {
                  "line": {
                    "width": 5
                  },
                  "mode": "lines",
                  "type": "scatter3d",
                  "x": [
                    -0.6806874871253967,
                    0.179348886013031
                  ],
                  "y": [
                    -0.41520094871520996,
                    0.09466248750686646
                  ],
                  "z": [
                    0.6035500764846802,
                    0.5841413736343384
                  ]
                },
                {
                  "line": {
                    "width": 5
                  },
                  "mode": "lines",
                  "type": "scatter3d",
                  "x": [
                    -0.6806874871253967,
                    0.15937715768814087
                  ],
                  "y": [
                    -0.41520094871520996,
                    -0.565567135810852
                  ],
                  "z": [
                    0.6035500764846802,
                    0.08231955766677856
                  ]
                },
                {
                  "line": {
                    "width": 5
                  },
                  "mode": "lines",
                  "type": "scatter3d",
                  "x": [
                    -0.6806874871253967,
                    -0.014086306095123291
                  ],
                  "y": [
                    -0.41520094871520996,
                    0.21672165393829346
                  ],
                  "z": [
                    0.6035500764846802,
                    0.20818108320236206
                  ]
                },
                {
                  "line": {
                    "width": 5
                  },
                  "mode": "lines",
                  "type": "scatter3d",
                  "x": [
                    -0.6806874871253967,
                    0.18216633796691895
                  ],
                  "y": [
                    -0.41520094871520996,
                    -0.12284025549888611
                  ],
                  "z": [
                    0.6035500764846802,
                    0.1912292242050171
                  ]
                },
                {
                  "line": {
                    "width": 5
                  },
                  "mode": "lines",
                  "type": "scatter3d",
                  "x": [
                    -0.6806874871253967,
                    0.06034749746322632
                  ],
                  "y": [
                    -0.41520094871520996,
                    0.07399556040763855
                  ],
                  "z": [
                    0.6035500764846802,
                    0.14360028505325317
                  ]
                },
                {
                  "line": {
                    "width": 5
                  },
                  "mode": "lines",
                  "type": "scatter3d",
                  "x": [
                    -0.6806874871253967,
                    0.2560725808143616
                  ],
                  "y": [
                    -0.41520094871520996,
                    -0.07446923851966858
                  ],
                  "z": [
                    0.6035500764846802,
                    0.5236601829528809
                  ]
                },
                {
                  "line": {
                    "width": 5
                  },
                  "mode": "lines",
                  "type": "scatter3d",
                  "x": [
                    -0.6806874871253967,
                    0.018713295459747314
                  ],
                  "y": [
                    -0.41520094871520996,
                    -0.06239587068557739
                  ],
                  "z": [
                    0.6035500764846802,
                    -0.018034279346466064
                  ]
                },
                {
                  "line": {
                    "width": 5
                  },
                  "mode": "lines",
                  "type": "scatter3d",
                  "x": [
                    -0.6806874871253967,
                    0.004543483257293701
                  ],
                  "y": [
                    -0.41520094871520996,
                    -0.4748387038707733
                  ],
                  "z": [
                    0.6035500764846802,
                    -0.1223299503326416
                  ]
                },
                {
                  "line": {
                    "width": 5
                  },
                  "mode": "lines",
                  "type": "scatter3d",
                  "x": [
                    -0.6806874871253967,
                    -0.41594046354293823
                  ],
                  "y": [
                    -0.41520094871520996,
                    0.4847623109817505
                  ],
                  "z": [
                    0.6035500764846802,
                    0.25717583298683167
                  ]
                },
                {
                  "line": {
                    "width": 5
                  },
                  "mode": "lines",
                  "type": "scatter3d",
                  "x": [
                    -0.6806874871253967,
                    -0.0031606554985046387
                  ],
                  "y": [
                    -0.41520094871520996,
                    -0.1789136379957199
                  ],
                  "z": [
                    0.6035500764846802,
                    -0.09295958280563354
                  ]
                },
                {
                  "line": {
                    "width": 5
                  },
                  "mode": "lines",
                  "type": "scatter3d",
                  "x": [
                    -0.6806874871253967,
                    -0.1937403380870819
                  ],
                  "y": [
                    -0.41520094871520996,
                    0.11738014221191406
                  ],
                  "z": [
                    0.6035500764846802,
                    -0.08872145414352417
                  ]
                },
                {
                  "line": {
                    "width": 5
                  },
                  "mode": "lines",
                  "type": "scatter3d",
                  "x": [
                    -0.6806874871253967,
                    0.24532896280288696
                  ],
                  "y": [
                    -0.41520094871520996,
                    -0.23450757563114166
                  ],
                  "z": [
                    0.6035500764846802,
                    0.27212363481521606
                  ]
                },
                {
                  "line": {
                    "width": 5
                  },
                  "mode": "lines",
                  "type": "scatter3d",
                  "x": [
                    -0.6806874871253967,
                    0.04614388942718506
                  ],
                  "y": [
                    -0.41520094871520996,
                    -0.15655413269996643
                  ],
                  "z": [
                    0.6035500764846802,
                    -0.0327029824256897
                  ]
                },
                {
                  "line": {
                    "width": 5
                  },
                  "mode": "lines",
                  "type": "scatter3d",
                  "x": [
                    -0.6806874871253967,
                    -0.49839627742767334
                  ],
                  "y": [
                    -0.41520094871520996,
                    0.09045404195785522
                  ],
                  "z": [
                    0.6035500764846802,
                    -0.23970723152160645
                  ]
                },
                {
                  "line": {
                    "width": 5
                  },
                  "mode": "lines",
                  "type": "scatter3d",
                  "x": [
                    -0.6806874871253967,
                    -0.29125821590423584
                  ],
                  "y": [
                    -0.41520094871520996,
                    0.06447327136993408
                  ],
                  "z": [
                    0.6035500764846802,
                    -0.18274348974227905
                  ]
                },
                {
                  "line": {
                    "width": 5
                  },
                  "mode": "lines",
                  "type": "scatter3d",
                  "x": [
                    -0.6806874871253967,
                    -0.016380786895751953
                  ],
                  "y": [
                    -0.41520094871520996,
                    -0.5873231291770935
                  ],
                  "z": [
                    0.6035500764846802,
                    -0.12382233142852783
                  ]
                },
                {
                  "line": {
                    "width": 5
                  },
                  "mode": "lines",
                  "type": "scatter3d",
                  "x": [
                    -0.6806874871253967,
                    0.05288344621658325
                  ],
                  "y": [
                    -0.41520094871520996,
                    -0.011899620294570923
                  ],
                  "z": [
                    0.6035500764846802,
                    0.05653846263885498
                  ]
                },
                {
                  "line": {
                    "width": 5
                  },
                  "mode": "lines",
                  "type": "scatter3d",
                  "x": [
                    -0.6806874871253967,
                    -0.20289474725723267
                  ],
                  "y": [
                    -0.41520094871520996,
                    0.06290405988693237
                  ],
                  "z": [
                    0.6035500764846802,
                    -0.13342320919036865
                  ]
                },
                {
                  "line": {
                    "width": 5
                  },
                  "mode": "lines",
                  "type": "scatter3d",
                  "x": [
                    -0.6806874871253967,
                    -0.21015596389770508
                  ],
                  "y": [
                    -0.41520094871520996,
                    -0.22536979615688324
                  ],
                  "z": [
                    0.6035500764846802,
                    -0.25817155838012695
                  ]
                },
                {
                  "line": {
                    "width": 5
                  },
                  "mode": "lines",
                  "type": "scatter3d",
                  "x": [
                    -0.6806874871253967,
                    -0.02041691541671753
                  ],
                  "y": [
                    -0.41520094871520996,
                    -0.19948570430278778
                  ],
                  "z": [
                    0.6035500764846802,
                    -0.11583143472671509
                  ]
                },
                {
                  "line": {
                    "width": 5
                  },
                  "mode": "lines",
                  "type": "scatter3d",
                  "x": [
                    -0.6806874871253967,
                    -0.1647241711616516
                  ],
                  "y": [
                    -0.41520094871520996,
                    0.16803652048110962
                  ],
                  "z": [
                    0.6035500764846802,
                    -0.02383798360824585
                  ]
                },
                {
                  "line": {
                    "width": 5
                  },
                  "mode": "lines",
                  "type": "scatter3d",
                  "x": [
                    -0.6806874871253967,
                    0.00328904390335083
                  ],
                  "y": [
                    -0.41520094871520996,
                    -0.022389888763427734
                  ],
                  "z": [
                    0.6035500764846802,
                    -0.011165738105773926
                  ]
                },
                {
                  "line": {
                    "width": 5
                  },
                  "mode": "lines",
                  "type": "scatter3d",
                  "x": [
                    -0.6806874871253967,
                    -0.1940751075744629
                  ],
                  "y": [
                    -0.41520094871520996,
                    -0.12468752264976501
                  ],
                  "z": [
                    0.6035500764846802,
                    -0.22034931182861328
                  ]
                },
                {
                  "line": {
                    "width": 5
                  },
                  "mode": "lines",
                  "type": "scatter3d",
                  "x": [
                    -0.6806874871253967,
                    -0.07748913764953613
                  ],
                  "y": [
                    -0.41520094871520996,
                    0.06625747680664062
                  ],
                  "z": [
                    0.6035500764846802,
                    -0.032334744930267334
                  ]
                },
                {
                  "line": {
                    "width": 5
                  },
                  "mode": "lines",
                  "type": "scatter3d",
                  "x": [
                    -0.6806874871253967,
                    -0.0846947431564331
                  ],
                  "y": [
                    -0.41520094871520996,
                    0.05471599102020264
                  ],
                  "z": [
                    0.6035500764846802,
                    -0.04758024215698242
                  ]
                },
                {
                  "line": {
                    "width": 5
                  },
                  "mode": "lines",
                  "type": "scatter3d",
                  "x": [
                    -0.6806874871253967,
                    -0.11263597011566162
                  ],
                  "y": [
                    -0.41520094871520996,
                    0.00663420557975769
                  ],
                  "z": [
                    0.6035500764846802,
                    -0.10311293601989746
                  ]
                },
                {
                  "line": {
                    "width": 5
                  },
                  "mode": "lines",
                  "type": "scatter3d",
                  "x": [
                    -0.6806874871253967,
                    -0.12826770544052124
                  ],
                  "y": [
                    -0.41520094871520996,
                    0.11376619338989258
                  ],
                  "z": [
                    0.6035500764846802,
                    -0.04067510366439819
                  ]
                },
                {
                  "line": {
                    "width": 5
                  },
                  "mode": "lines",
                  "type": "scatter3d",
                  "x": [
                    -0.6806874871253967,
                    -0.0818474292755127
                  ],
                  "y": [
                    -0.41520094871520996,
                    -0.014560699462890625
                  ],
                  "z": [
                    0.6035500764846802,
                    -0.08990359306335449
                  ]
                },
                {
                  "line": {
                    "width": 5
                  },
                  "mode": "lines",
                  "type": "scatter3d",
                  "x": [
                    -0.6806874871253967,
                    -0.12963145971298218
                  ],
                  "y": [
                    -0.41520094871520996,
                    0.128503680229187
                  ],
                  "z": [
                    0.6035500764846802,
                    -0.029476404190063477
                  ]
                },
                {
                  "line": {
                    "width": 5
                  },
                  "mode": "lines",
                  "type": "scatter3d",
                  "x": [
                    -0.6806874871253967,
                    0.003984689712524414
                  ],
                  "y": [
                    -0.41520094871520996,
                    -0.043812066316604614
                  ],
                  "z": [
                    0.6035500764846802,
                    -0.02358180284500122
                  ]
                },
                {
                  "line": {
                    "width": 5
                  },
                  "mode": "lines",
                  "type": "scatter3d",
                  "x": [
                    -0.6806874871253967,
                    0.014456212520599365
                  ],
                  "y": [
                    -0.41520094871520996,
                    -0.23020407557487488
                  ],
                  "z": [
                    0.6035500764846802,
                    -0.09110903739929199
                  ]
                },
                {
                  "line": {
                    "width": 5
                  },
                  "mode": "lines",
                  "type": "scatter3d",
                  "x": [
                    -0.6806874871253967,
                    -0.2637922763824463
                  ],
                  "y": [
                    -0.41520094871520996,
                    0.07871043682098389
                  ],
                  "z": [
                    0.6035500764846802,
                    -0.15950292348861694
                  ]
                },
                {
                  "line": {
                    "width": 5
                  },
                  "mode": "lines",
                  "type": "scatter3d",
                  "x": [
                    -0.6806874871253967,
                    -0.12629073858261108
                  ],
                  "y": [
                    -0.41520094871520996,
                    -0.41801849007606506
                  ],
                  "z": [
                    0.6035500764846802,
                    -0.22869771718978882
                  ]
                },
                {
                  "line": {
                    "width": 5
                  },
                  "mode": "lines",
                  "type": "scatter3d",
                  "x": [
                    -0.6806874871253967,
                    0.008779942989349365
                  ],
                  "y": [
                    -0.41520094871520996,
                    0.1223488450050354
                  ],
                  "z": [
                    0.6035500764846802,
                    0.1180865466594696
                  ]
                },
                {
                  "line": {
                    "width": 5
                  },
                  "mode": "lines",
                  "type": "scatter3d",
                  "x": [
                    -0.6806874871253967,
                    -0.050154685974121094
                  ],
                  "y": [
                    -0.41520094871520996,
                    -0.4082171618938446
                  ],
                  "z": [
                    0.6035500764846802,
                    -0.17258119583129883
                  ]
                },
                {
                  "line": {
                    "width": 5
                  },
                  "mode": "lines",
                  "type": "scatter3d",
                  "x": [
                    -0.6806874871253967,
                    -0.04885435104370117
                  ],
                  "y": [
                    -0.41520094871520996,
                    -0.23614346981048584
                  ],
                  "z": [
                    0.6035500764846802,
                    -0.1505887508392334
                  ]
                },
                {
                  "line": {
                    "width": 5
                  },
                  "mode": "lines",
                  "type": "scatter3d",
                  "x": [
                    -0.6806874871253967,
                    -0.047170937061309814
                  ],
                  "y": [
                    -0.41520094871520996,
                    -0.15345555543899536
                  ],
                  "z": [
                    0.6035500764846802,
                    -0.12456130981445312
                  ]
                },
                {
                  "line": {
                    "width": 5
                  },
                  "mode": "lines",
                  "type": "scatter3d",
                  "x": [
                    -0.6806874871253967,
                    -0.00729745626449585
                  ],
                  "y": [
                    -0.41520094871520996,
                    -0.08080092072486877
                  ],
                  "z": [
                    0.6035500764846802,
                    -0.05578482151031494
                  ]
                },
                {
                  "line": {
                    "width": 5
                  },
                  "mode": "lines",
                  "type": "scatter3d",
                  "x": [
                    -0.6806874871253967,
                    0.05868476629257202
                  ],
                  "y": [
                    -0.41520094871520996,
                    -0.0025901198387145996
                  ],
                  "z": [
                    0.6035500764846802,
                    0.07149648666381836
                  ]
                },
                {
                  "line": {
                    "width": 5
                  },
                  "mode": "lines",
                  "type": "scatter3d",
                  "x": [
                    -0.6806874871253967,
                    -0.05229121446609497
                  ],
                  "y": [
                    -0.41520094871520996,
                    0.039846599102020264
                  ],
                  "z": [
                    0.6035500764846802,
                    -0.02736186981201172
                  ]
                },
                {
                  "line": {
                    "width": 5
                  },
                  "mode": "lines",
                  "type": "scatter3d",
                  "x": [
                    -0.6806874871253967,
                    -0.07593727111816406
                  ],
                  "y": [
                    -0.41520094871520996,
                    0.06486347317695618
                  ],
                  "z": [
                    0.6035500764846802,
                    -0.031914591789245605
                  ]
                },
                {
                  "line": {
                    "width": 5
                  },
                  "mode": "lines",
                  "type": "scatter3d",
                  "x": [
                    -0.6806874871253967,
                    0.0651887059211731
                  ],
                  "y": [
                    -0.41520094871520996,
                    0.019818246364593506
                  ],
                  "z": [
                    0.6035500764846802,
                    0.09914249181747437
                  ]
                },
                {
                  "line": {
                    "width": 5
                  },
                  "mode": "lines",
                  "type": "scatter3d",
                  "x": [
                    -0.6806874871253967,
                    0.14475864171981812
                  ],
                  "y": [
                    -0.41520094871520996,
                    -0.35156670212745667
                  ],
                  "z": [
                    0.6035500764846802,
                    0.0426674485206604
                  ]
                },
                {
                  "line": {
                    "width": 5
                  },
                  "mode": "lines",
                  "type": "scatter3d",
                  "x": [
                    -0.6806874871253967,
                    -0.1540117859840393
                  ],
                  "y": [
                    -0.41520094871520996,
                    0.1784428358078003
                  ],
                  "z": [
                    0.6035500764846802,
                    -0.004890322685241699
                  ]
                },
                {
                  "line": {
                    "width": 5
                  },
                  "mode": "lines",
                  "type": "scatter3d",
                  "x": [
                    -0.6806874871253967,
                    -0.2470257580280304
                  ],
                  "y": [
                    -0.41520094871520996,
                    0.12020355463027954
                  ],
                  "z": [
                    0.6035500764846802,
                    -0.12121158838272095
                  ]
                },
                {
                  "line": {
                    "width": 5
                  },
                  "mode": "lines",
                  "type": "scatter3d",
                  "x": [
                    -0.6806874871253967,
                    -0.23396575450897217
                  ],
                  "y": [
                    -0.41520094871520996,
                    0.3250221014022827
                  ],
                  "z": [
                    0.6035500764846802,
                    0.10104680061340332
                  ]
                },
                {
                  "line": {
                    "width": 5
                  },
                  "mode": "lines",
                  "type": "scatter3d",
                  "x": [
                    -0.6806874871253967,
                    -0.02060568332672119
                  ],
                  "y": [
                    -0.41520094871520996,
                    -0.08824276924133301
                  ],
                  "z": [
                    0.6035500764846802,
                    -0.07275635004043579
                  ]
                },
                {
                  "line": {
                    "width": 5
                  },
                  "mode": "lines",
                  "type": "scatter3d",
                  "x": [
                    -0.6806874871253967,
                    0.005225837230682373
                  ],
                  "y": [
                    -0.41520094871520996,
                    -0.07089710235595703
                  ],
                  "z": [
                    0.6035500764846802,
                    -0.03752541542053223
                  ]
                },
                {
                  "line": {
                    "width": 5
                  },
                  "mode": "lines",
                  "type": "scatter3d",
                  "x": [
                    -0.6806874871253967,
                    -0.018476486206054688
                  ],
                  "y": [
                    -0.41520094871520996,
                    -0.09097358584403992
                  ],
                  "z": [
                    0.6035500764846802,
                    -0.07198911905288696
                  ]
                },
                {
                  "line": {
                    "width": 5
                  },
                  "mode": "lines",
                  "type": "scatter3d",
                  "x": [
                    -0.6806874871253967,
                    0.000744163990020752
                  ],
                  "y": [
                    -0.41520094871520996,
                    -0.1839216649532318
                  ],
                  "z": [
                    0.6035500764846802,
                    -0.0908278226852417
                  ]
                },
                {
                  "line": {
                    "width": 5
                  },
                  "mode": "lines",
                  "type": "scatter3d",
                  "x": [
                    -0.6806874871253967,
                    0.1433355212211609
                  ],
                  "y": [
                    -0.41520094871520996,
                    -0.23596692085266113
                  ],
                  "z": [
                    0.6035500764846802,
                    0.06609195470809937
                  ]
                },
                {
                  "line": {
                    "width": 5
                  },
                  "mode": "lines",
                  "type": "scatter3d",
                  "x": [
                    -0.6806874871253967,
                    -0.031814634799957275
                  ],
                  "y": [
                    -0.41520094871520996,
                    -0.216116264462471
                  ],
                  "z": [
                    0.6035500764846802,
                    -0.13084030151367188
                  ]
                },
                {
                  "line": {
                    "width": 5
                  },
                  "mode": "lines",
                  "type": "scatter3d",
                  "x": [
                    -0.6806874871253967,
                    -0.11301898956298828
                  ],
                  "y": [
                    -0.41520094871520996,
                    0.030114591121673584
                  ],
                  "z": [
                    0.6035500764846802,
                    -0.08887070417404175
                  ]
                },
                {
                  "line": {
                    "width": 5
                  },
                  "mode": "lines",
                  "type": "scatter3d",
                  "x": [
                    -0.6806874871253967,
                    0.03820735216140747
                  ],
                  "y": [
                    -0.41520094871520996,
                    -0.033059895038604736
                  ],
                  "z": [
                    0.6035500764846802,
                    0.022896647453308105
                  ]
                },
                {
                  "line": {
                    "width": 5
                  },
                  "mode": "lines",
                  "type": "scatter3d",
                  "x": [
                    -0.6806874871253967,
                    -0.432102769613266
                  ],
                  "y": [
                    -0.41520094871520996,
                    0.2932949662208557
                  ],
                  "z": [
                    0.6035500764846802,
                    -0.0569339394569397
                  ]
                },
                {
                  "line": {
                    "width": 5
                  },
                  "mode": "lines",
                  "type": "scatter3d",
                  "x": [
                    -0.6806874871253967,
                    0.27173346281051636
                  ],
                  "y": [
                    -0.41520094871520996,
                    -0.26887044310569763
                  ],
                  "z": [
                    0.6035500764846802,
                    0.3361894488334656
                  ]
                },
                {
                  "line": {
                    "width": 5
                  },
                  "mode": "lines",
                  "type": "scatter3d",
                  "x": [
                    -0.6806874871253967,
                    -0.36510688066482544
                  ],
                  "y": [
                    -0.41520094871520996,
                    -0.045960456132888794
                  ],
                  "z": [
                    0.6035500764846802,
                    -0.2705610990524292
                  ]
                },
                {
                  "line": {
                    "width": 5
                  },
                  "mode": "lines",
                  "type": "scatter3d",
                  "x": [
                    -0.6806874871253967,
                    0.15802782773971558
                  ],
                  "y": [
                    -0.41520094871520996,
                    -0.04932275414466858
                  ],
                  "z": [
                    0.6035500764846802,
                    0.20020204782485962
                  ]
                },
                {
                  "line": {
                    "width": 5
                  },
                  "mode": "lines",
                  "type": "scatter3d",
                  "x": [
                    -0.6806874871253967,
                    -0.21221312880516052
                  ],
                  "y": [
                    -0.41520094871520996,
                    0.1734415888786316
                  ],
                  "z": [
                    0.6035500764846802,
                    -0.05526077747344971
                  ]
                },
                {
                  "line": {
                    "width": 5
                  },
                  "mode": "lines",
                  "type": "scatter3d",
                  "x": [
                    -0.6806874871253967,
                    0.24750423431396484
                  ],
                  "y": [
                    -0.41520094871520996,
                    -0.16824157536029816
                  ],
                  "z": [
                    0.6035500764846802,
                    0.32521355152130127
                  ]
                },
                {
                  "line": {
                    "width": 5
                  },
                  "mode": "lines",
                  "type": "scatter3d",
                  "x": [
                    -0.6806874871253967,
                    -0.3066057860851288
                  ],
                  "y": [
                    -0.41520094871520996,
                    0.14955711364746094
                  ],
                  "z": [
                    0.6035500764846802,
                    -0.13205254077911377
                  ]
                },
                {
                  "line": {
                    "width": 5
                  },
                  "mode": "lines",
                  "type": "scatter3d",
                  "x": [
                    -0.6806874871253967,
                    -0.17611163854599
                  ],
                  "y": [
                    -0.41520094871520996,
                    -0.36110836267471313
                  ],
                  "z": [
                    0.6035500764846802,
                    -0.258121132850647
                  ]
                }
              ],
              "layout": {
                "scene": {
                  "aspectmode": "cube",
                  "xaxis": {
                    "autorange": false,
                    "range": [
                      -2,
                      2
                    ],
                    "zeroline": false
                  },
                  "yaxis": {
                    "autorange": false,
                    "range": [
                      -2,
                      2
                    ],
                    "zeroline": false
                  },
                  "zaxis": {
                    "autorange": false,
                    "range": [
                      -2,
                      2
                    ],
                    "zeroline": false
                  }
                },
                "template": {
                  "data": {
                    "bar": [
                      {
                        "error_x": {
                          "color": "#2a3f5f"
                        },
                        "error_y": {
                          "color": "#2a3f5f"
                        },
                        "marker": {
                          "line": {
                            "color": "#E5ECF6",
                            "width": 0.5
                          },
                          "pattern": {
                            "fillmode": "overlay",
                            "size": 10,
                            "solidity": 0.2
                          }
                        },
                        "type": "bar"
                      }
                    ],
                    "barpolar": [
                      {
                        "marker": {
                          "line": {
                            "color": "#E5ECF6",
                            "width": 0.5
                          },
                          "pattern": {
                            "fillmode": "overlay",
                            "size": 10,
                            "solidity": 0.2
                          }
                        },
                        "type": "barpolar"
                      }
                    ],
                    "carpet": [
                      {
                        "aaxis": {
                          "endlinecolor": "#2a3f5f",
                          "gridcolor": "white",
                          "linecolor": "white",
                          "minorgridcolor": "white",
                          "startlinecolor": "#2a3f5f"
                        },
                        "baxis": {
                          "endlinecolor": "#2a3f5f",
                          "gridcolor": "white",
                          "linecolor": "white",
                          "minorgridcolor": "white",
                          "startlinecolor": "#2a3f5f"
                        },
                        "type": "carpet"
                      }
                    ],
                    "choropleth": [
                      {
                        "colorbar": {
                          "outlinewidth": 0,
                          "ticks": ""
                        },
                        "type": "choropleth"
                      }
                    ],
                    "contour": [
                      {
                        "colorbar": {
                          "outlinewidth": 0,
                          "ticks": ""
                        },
                        "colorscale": [
                          [
                            0,
                            "#0d0887"
                          ],
                          [
                            0.1111111111111111,
                            "#46039f"
                          ],
                          [
                            0.2222222222222222,
                            "#7201a8"
                          ],
                          [
                            0.3333333333333333,
                            "#9c179e"
                          ],
                          [
                            0.4444444444444444,
                            "#bd3786"
                          ],
                          [
                            0.5555555555555556,
                            "#d8576b"
                          ],
                          [
                            0.6666666666666666,
                            "#ed7953"
                          ],
                          [
                            0.7777777777777778,
                            "#fb9f3a"
                          ],
                          [
                            0.8888888888888888,
                            "#fdca26"
                          ],
                          [
                            1,
                            "#f0f921"
                          ]
                        ],
                        "type": "contour"
                      }
                    ],
                    "contourcarpet": [
                      {
                        "colorbar": {
                          "outlinewidth": 0,
                          "ticks": ""
                        },
                        "type": "contourcarpet"
                      }
                    ],
                    "heatmap": [
                      {
                        "colorbar": {
                          "outlinewidth": 0,
                          "ticks": ""
                        },
                        "colorscale": [
                          [
                            0,
                            "#0d0887"
                          ],
                          [
                            0.1111111111111111,
                            "#46039f"
                          ],
                          [
                            0.2222222222222222,
                            "#7201a8"
                          ],
                          [
                            0.3333333333333333,
                            "#9c179e"
                          ],
                          [
                            0.4444444444444444,
                            "#bd3786"
                          ],
                          [
                            0.5555555555555556,
                            "#d8576b"
                          ],
                          [
                            0.6666666666666666,
                            "#ed7953"
                          ],
                          [
                            0.7777777777777778,
                            "#fb9f3a"
                          ],
                          [
                            0.8888888888888888,
                            "#fdca26"
                          ],
                          [
                            1,
                            "#f0f921"
                          ]
                        ],
                        "type": "heatmap"
                      }
                    ],
                    "heatmapgl": [
                      {
                        "colorbar": {
                          "outlinewidth": 0,
                          "ticks": ""
                        },
                        "colorscale": [
                          [
                            0,
                            "#0d0887"
                          ],
                          [
                            0.1111111111111111,
                            "#46039f"
                          ],
                          [
                            0.2222222222222222,
                            "#7201a8"
                          ],
                          [
                            0.3333333333333333,
                            "#9c179e"
                          ],
                          [
                            0.4444444444444444,
                            "#bd3786"
                          ],
                          [
                            0.5555555555555556,
                            "#d8576b"
                          ],
                          [
                            0.6666666666666666,
                            "#ed7953"
                          ],
                          [
                            0.7777777777777778,
                            "#fb9f3a"
                          ],
                          [
                            0.8888888888888888,
                            "#fdca26"
                          ],
                          [
                            1,
                            "#f0f921"
                          ]
                        ],
                        "type": "heatmapgl"
                      }
                    ],
                    "histogram": [
                      {
                        "marker": {
                          "pattern": {
                            "fillmode": "overlay",
                            "size": 10,
                            "solidity": 0.2
                          }
                        },
                        "type": "histogram"
                      }
                    ],
                    "histogram2d": [
                      {
                        "colorbar": {
                          "outlinewidth": 0,
                          "ticks": ""
                        },
                        "colorscale": [
                          [
                            0,
                            "#0d0887"
                          ],
                          [
                            0.1111111111111111,
                            "#46039f"
                          ],
                          [
                            0.2222222222222222,
                            "#7201a8"
                          ],
                          [
                            0.3333333333333333,
                            "#9c179e"
                          ],
                          [
                            0.4444444444444444,
                            "#bd3786"
                          ],
                          [
                            0.5555555555555556,
                            "#d8576b"
                          ],
                          [
                            0.6666666666666666,
                            "#ed7953"
                          ],
                          [
                            0.7777777777777778,
                            "#fb9f3a"
                          ],
                          [
                            0.8888888888888888,
                            "#fdca26"
                          ],
                          [
                            1,
                            "#f0f921"
                          ]
                        ],
                        "type": "histogram2d"
                      }
                    ],
                    "histogram2dcontour": [
                      {
                        "colorbar": {
                          "outlinewidth": 0,
                          "ticks": ""
                        },
                        "colorscale": [
                          [
                            0,
                            "#0d0887"
                          ],
                          [
                            0.1111111111111111,
                            "#46039f"
                          ],
                          [
                            0.2222222222222222,
                            "#7201a8"
                          ],
                          [
                            0.3333333333333333,
                            "#9c179e"
                          ],
                          [
                            0.4444444444444444,
                            "#bd3786"
                          ],
                          [
                            0.5555555555555556,
                            "#d8576b"
                          ],
                          [
                            0.6666666666666666,
                            "#ed7953"
                          ],
                          [
                            0.7777777777777778,
                            "#fb9f3a"
                          ],
                          [
                            0.8888888888888888,
                            "#fdca26"
                          ],
                          [
                            1,
                            "#f0f921"
                          ]
                        ],
                        "type": "histogram2dcontour"
                      }
                    ],
                    "mesh3d": [
                      {
                        "colorbar": {
                          "outlinewidth": 0,
                          "ticks": ""
                        },
                        "type": "mesh3d"
                      }
                    ],
                    "parcoords": [
                      {
                        "line": {
                          "colorbar": {
                            "outlinewidth": 0,
                            "ticks": ""
                          }
                        },
                        "type": "parcoords"
                      }
                    ],
                    "pie": [
                      {
                        "automargin": true,
                        "type": "pie"
                      }
                    ],
                    "scatter": [
                      {
                        "fillpattern": {
                          "fillmode": "overlay",
                          "size": 10,
                          "solidity": 0.2
                        },
                        "type": "scatter"
                      }
                    ],
                    "scatter3d": [
                      {
                        "line": {
                          "colorbar": {
                            "outlinewidth": 0,
                            "ticks": ""
                          }
                        },
                        "marker": {
                          "colorbar": {
                            "outlinewidth": 0,
                            "ticks": ""
                          }
                        },
                        "type": "scatter3d"
                      }
                    ],
                    "scattercarpet": [
                      {
                        "marker": {
                          "colorbar": {
                            "outlinewidth": 0,
                            "ticks": ""
                          }
                        },
                        "type": "scattercarpet"
                      }
                    ],
                    "scattergeo": [
                      {
                        "marker": {
                          "colorbar": {
                            "outlinewidth": 0,
                            "ticks": ""
                          }
                        },
                        "type": "scattergeo"
                      }
                    ],
                    "scattergl": [
                      {
                        "marker": {
                          "colorbar": {
                            "outlinewidth": 0,
                            "ticks": ""
                          }
                        },
                        "type": "scattergl"
                      }
                    ],
                    "scattermapbox": [
                      {
                        "marker": {
                          "colorbar": {
                            "outlinewidth": 0,
                            "ticks": ""
                          }
                        },
                        "type": "scattermapbox"
                      }
                    ],
                    "scatterpolar": [
                      {
                        "marker": {
                          "colorbar": {
                            "outlinewidth": 0,
                            "ticks": ""
                          }
                        },
                        "type": "scatterpolar"
                      }
                    ],
                    "scatterpolargl": [
                      {
                        "marker": {
                          "colorbar": {
                            "outlinewidth": 0,
                            "ticks": ""
                          }
                        },
                        "type": "scatterpolargl"
                      }
                    ],
                    "scatterternary": [
                      {
                        "marker": {
                          "colorbar": {
                            "outlinewidth": 0,
                            "ticks": ""
                          }
                        },
                        "type": "scatterternary"
                      }
                    ],
                    "surface": [
                      {
                        "colorbar": {
                          "outlinewidth": 0,
                          "ticks": ""
                        },
                        "colorscale": [
                          [
                            0,
                            "#0d0887"
                          ],
                          [
                            0.1111111111111111,
                            "#46039f"
                          ],
                          [
                            0.2222222222222222,
                            "#7201a8"
                          ],
                          [
                            0.3333333333333333,
                            "#9c179e"
                          ],
                          [
                            0.4444444444444444,
                            "#bd3786"
                          ],
                          [
                            0.5555555555555556,
                            "#d8576b"
                          ],
                          [
                            0.6666666666666666,
                            "#ed7953"
                          ],
                          [
                            0.7777777777777778,
                            "#fb9f3a"
                          ],
                          [
                            0.8888888888888888,
                            "#fdca26"
                          ],
                          [
                            1,
                            "#f0f921"
                          ]
                        ],
                        "type": "surface"
                      }
                    ],
                    "table": [
                      {
                        "cells": {
                          "fill": {
                            "color": "#EBF0F8"
                          },
                          "line": {
                            "color": "white"
                          }
                        },
                        "header": {
                          "fill": {
                            "color": "#C8D4E3"
                          },
                          "line": {
                            "color": "white"
                          }
                        },
                        "type": "table"
                      }
                    ]
                  },
                  "layout": {
                    "annotationdefaults": {
                      "arrowcolor": "#2a3f5f",
                      "arrowhead": 0,
                      "arrowwidth": 1
                    },
                    "autotypenumbers": "strict",
                    "coloraxis": {
                      "colorbar": {
                        "outlinewidth": 0,
                        "ticks": ""
                      }
                    },
                    "colorscale": {
                      "diverging": [
                        [
                          0,
                          "#8e0152"
                        ],
                        [
                          0.1,
                          "#c51b7d"
                        ],
                        [
                          0.2,
                          "#de77ae"
                        ],
                        [
                          0.3,
                          "#f1b6da"
                        ],
                        [
                          0.4,
                          "#fde0ef"
                        ],
                        [
                          0.5,
                          "#f7f7f7"
                        ],
                        [
                          0.6,
                          "#e6f5d0"
                        ],
                        [
                          0.7,
                          "#b8e186"
                        ],
                        [
                          0.8,
                          "#7fbc41"
                        ],
                        [
                          0.9,
                          "#4d9221"
                        ],
                        [
                          1,
                          "#276419"
                        ]
                      ],
                      "sequential": [
                        [
                          0,
                          "#0d0887"
                        ],
                        [
                          0.1111111111111111,
                          "#46039f"
                        ],
                        [
                          0.2222222222222222,
                          "#7201a8"
                        ],
                        [
                          0.3333333333333333,
                          "#9c179e"
                        ],
                        [
                          0.4444444444444444,
                          "#bd3786"
                        ],
                        [
                          0.5555555555555556,
                          "#d8576b"
                        ],
                        [
                          0.6666666666666666,
                          "#ed7953"
                        ],
                        [
                          0.7777777777777778,
                          "#fb9f3a"
                        ],
                        [
                          0.8888888888888888,
                          "#fdca26"
                        ],
                        [
                          1,
                          "#f0f921"
                        ]
                      ],
                      "sequentialminus": [
                        [
                          0,
                          "#0d0887"
                        ],
                        [
                          0.1111111111111111,
                          "#46039f"
                        ],
                        [
                          0.2222222222222222,
                          "#7201a8"
                        ],
                        [
                          0.3333333333333333,
                          "#9c179e"
                        ],
                        [
                          0.4444444444444444,
                          "#bd3786"
                        ],
                        [
                          0.5555555555555556,
                          "#d8576b"
                        ],
                        [
                          0.6666666666666666,
                          "#ed7953"
                        ],
                        [
                          0.7777777777777778,
                          "#fb9f3a"
                        ],
                        [
                          0.8888888888888888,
                          "#fdca26"
                        ],
                        [
                          1,
                          "#f0f921"
                        ]
                      ]
                    },
                    "colorway": [
                      "#636efa",
                      "#EF553B",
                      "#00cc96",
                      "#ab63fa",
                      "#FFA15A",
                      "#19d3f3",
                      "#FF6692",
                      "#B6E880",
                      "#FF97FF",
                      "#FECB52"
                    ],
                    "font": {
                      "color": "#2a3f5f"
                    },
                    "geo": {
                      "bgcolor": "white",
                      "lakecolor": "white",
                      "landcolor": "#E5ECF6",
                      "showlakes": true,
                      "showland": true,
                      "subunitcolor": "white"
                    },
                    "hoverlabel": {
                      "align": "left"
                    },
                    "hovermode": "closest",
                    "mapbox": {
                      "style": "light"
                    },
                    "paper_bgcolor": "white",
                    "plot_bgcolor": "#E5ECF6",
                    "polar": {
                      "angularaxis": {
                        "gridcolor": "white",
                        "linecolor": "white",
                        "ticks": ""
                      },
                      "bgcolor": "#E5ECF6",
                      "radialaxis": {
                        "gridcolor": "white",
                        "linecolor": "white",
                        "ticks": ""
                      }
                    },
                    "scene": {
                      "xaxis": {
                        "backgroundcolor": "#E5ECF6",
                        "gridcolor": "white",
                        "gridwidth": 2,
                        "linecolor": "white",
                        "showbackground": true,
                        "ticks": "",
                        "zerolinecolor": "white"
                      },
                      "yaxis": {
                        "backgroundcolor": "#E5ECF6",
                        "gridcolor": "white",
                        "gridwidth": 2,
                        "linecolor": "white",
                        "showbackground": true,
                        "ticks": "",
                        "zerolinecolor": "white"
                      },
                      "zaxis": {
                        "backgroundcolor": "#E5ECF6",
                        "gridcolor": "white",
                        "gridwidth": 2,
                        "linecolor": "white",
                        "showbackground": true,
                        "ticks": "",
                        "zerolinecolor": "white"
                      }
                    },
                    "shapedefaults": {
                      "line": {
                        "color": "#2a3f5f"
                      }
                    },
                    "ternary": {
                      "aaxis": {
                        "gridcolor": "white",
                        "linecolor": "white",
                        "ticks": ""
                      },
                      "baxis": {
                        "gridcolor": "white",
                        "linecolor": "white",
                        "ticks": ""
                      },
                      "bgcolor": "#E5ECF6",
                      "caxis": {
                        "gridcolor": "white",
                        "linecolor": "white",
                        "ticks": ""
                      }
                    },
                    "title": {
                      "x": 0.05
                    },
                    "xaxis": {
                      "automargin": true,
                      "gridcolor": "white",
                      "linecolor": "white",
                      "ticks": "",
                      "title": {
                        "standoff": 15
                      },
                      "zerolinecolor": "white",
                      "zerolinewidth": 2
                    },
                    "yaxis": {
                      "automargin": true,
                      "gridcolor": "white",
                      "linecolor": "white",
                      "ticks": "",
                      "title": {
                        "standoff": 15
                      },
                      "zerolinecolor": "white",
                      "zerolinewidth": 2
                    }
                  }
                }
              }
            },
            "text/html": [
              "<div>                            <div id=\"42a80efa-596f-498d-8e5e-de92608fb95e\" class=\"plotly-graph-div\" style=\"height:525px; width:100%;\"></div>            <script type=\"text/javascript\">                require([\"plotly\"], function(Plotly) {                    window.PLOTLYENV=window.PLOTLYENV || {};                                    if (document.getElementById(\"42a80efa-596f-498d-8e5e-de92608fb95e\")) {                    Plotly.newPlot(                        \"42a80efa-596f-498d-8e5e-de92608fb95e\",                        [{\"mode\":\"markers\",\"x\":[-0.6806874871253967,-0.6806874871253967,-0.6806874871253967,-0.6806874871253967,-0.6806874871253967,-0.6806874871253967,-0.6806874871253967,-0.6806874871253967,-0.6806874871253967,-0.6806874871253967,-0.6806874871253967,-0.6806874871253967,-0.6806874871253967,-0.6806874871253967,-0.6806874871253967,-0.6806874871253967,-0.6806874871253967,-0.6806874871253967,-0.6806874871253967,-0.6806874871253967,-0.6806874871253967,-0.6806874871253967,-0.6806874871253967,-0.6806874871253967,-0.6806874871253967,-0.6806874871253967,-0.6806874871253967,-0.6806874871253967,-0.6806874871253967,-0.6806874871253967,-0.6806874871253967,-0.6806874871253967,-0.6806874871253967,-0.6806874871253967,-0.6806874871253967,-0.6806874871253967,-0.6806874871253967,-0.6806874871253967,-0.6806874871253967,-0.6806874871253967,-0.6806874871253967,-0.6806874871253967,-0.6806874871253967,-0.6806874871253967,-0.6806874871253967,-0.6806874871253967,-0.6806874871253967,-0.6806874871253967,-0.6806874871253967,-0.6806874871253967,-0.6806874871253967,-0.6806874871253967,-0.6806874871253967,-0.6806874871253967,-0.6806874871253967,-0.6806874871253967,-0.6806874871253967,-0.6806874871253967,-0.6806874871253967,-0.6806874871253967,-0.6806874871253967,-0.6806874871253967,-0.6806874871253967,-0.6806874871253967,-0.6806874871253967,-0.6806874871253967,-0.6806874871253967,-0.6806874871253967,-0.6806874871253967,-0.6806874871253967,-0.6806874871253967,-0.6806874871253967,-0.6806874871253967,-0.6806874871253967,-0.6806874871253967,-0.6806874871253967,-0.6806874871253967,-0.6806874871253967,-0.6806874871253967,-0.6806874871253967,-0.6806874871253967,-0.6806874871253967,-0.6806874871253967,-0.6806874871253967,-0.6806874871253967,-0.6806874871253967,-0.6806874871253967,-0.6806874871253967,-0.6806874871253967,-0.6806874871253967,-0.6806874871253967,-0.6806874871253967,-0.6806874871253967,-0.6806874871253967,-0.6806874871253967,-0.6806874871253967,-0.6806874871253967,-0.6806874871253967,-0.6806874871253967,-0.6806874871253967],\"y\":[-0.41520094871520996,-0.41520094871520996,-0.41520094871520996,-0.41520094871520996,-0.41520094871520996,-0.41520094871520996,-0.41520094871520996,-0.41520094871520996,-0.41520094871520996,-0.41520094871520996,-0.41520094871520996,-0.41520094871520996,-0.41520094871520996,-0.41520094871520996,-0.41520094871520996,-0.41520094871520996,-0.41520094871520996,-0.41520094871520996,-0.41520094871520996,-0.41520094871520996,-0.41520094871520996,-0.41520094871520996,-0.41520094871520996,-0.41520094871520996,-0.41520094871520996,-0.41520094871520996,-0.41520094871520996,-0.41520094871520996,-0.41520094871520996,-0.41520094871520996,-0.41520094871520996,-0.41520094871520996,-0.41520094871520996,-0.41520094871520996,-0.41520094871520996,-0.41520094871520996,-0.41520094871520996,-0.41520094871520996,-0.41520094871520996,-0.41520094871520996,-0.41520094871520996,-0.41520094871520996,-0.41520094871520996,-0.41520094871520996,-0.41520094871520996,-0.41520094871520996,-0.41520094871520996,-0.41520094871520996,-0.41520094871520996,-0.41520094871520996,-0.41520094871520996,-0.41520094871520996,-0.41520094871520996,-0.41520094871520996,-0.41520094871520996,-0.41520094871520996,-0.41520094871520996,-0.41520094871520996,-0.41520094871520996,-0.41520094871520996,-0.41520094871520996,-0.41520094871520996,-0.41520094871520996,-0.41520094871520996,-0.41520094871520996,-0.41520094871520996,-0.41520094871520996,-0.41520094871520996,-0.41520094871520996,-0.41520094871520996,-0.41520094871520996,-0.41520094871520996,-0.41520094871520996,-0.41520094871520996,-0.41520094871520996,-0.41520094871520996,-0.41520094871520996,-0.41520094871520996,-0.41520094871520996,-0.41520094871520996,-0.41520094871520996,-0.41520094871520996,-0.41520094871520996,-0.41520094871520996,-0.41520094871520996,-0.41520094871520996,-0.41520094871520996,-0.41520094871520996,-0.41520094871520996,-0.41520094871520996,-0.41520094871520996,-0.41520094871520996,-0.41520094871520996,-0.41520094871520996,-0.41520094871520996,-0.41520094871520996,-0.41520094871520996,-0.41520094871520996,-0.41520094871520996,-0.41520094871520996],\"z\":[0.6035500764846802,0.6035500764846802,0.6035500764846802,0.6035500764846802,0.6035500764846802,0.6035500764846802,0.6035500764846802,0.6035500764846802,0.6035500764846802,0.6035500764846802,0.6035500764846802,0.6035500764846802,0.6035500764846802,0.6035500764846802,0.6035500764846802,0.6035500764846802,0.6035500764846802,0.6035500764846802,0.6035500764846802,0.6035500764846802,0.6035500764846802,0.6035500764846802,0.6035500764846802,0.6035500764846802,0.6035500764846802,0.6035500764846802,0.6035500764846802,0.6035500764846802,0.6035500764846802,0.6035500764846802,0.6035500764846802,0.6035500764846802,0.6035500764846802,0.6035500764846802,0.6035500764846802,0.6035500764846802,0.6035500764846802,0.6035500764846802,0.6035500764846802,0.6035500764846802,0.6035500764846802,0.6035500764846802,0.6035500764846802,0.6035500764846802,0.6035500764846802,0.6035500764846802,0.6035500764846802,0.6035500764846802,0.6035500764846802,0.6035500764846802,0.6035500764846802,0.6035500764846802,0.6035500764846802,0.6035500764846802,0.6035500764846802,0.6035500764846802,0.6035500764846802,0.6035500764846802,0.6035500764846802,0.6035500764846802,0.6035500764846802,0.6035500764846802,0.6035500764846802,0.6035500764846802,0.6035500764846802,0.6035500764846802,0.6035500764846802,0.6035500764846802,0.6035500764846802,0.6035500764846802,0.6035500764846802,0.6035500764846802,0.6035500764846802,0.6035500764846802,0.6035500764846802,0.6035500764846802,0.6035500764846802,0.6035500764846802,0.6035500764846802,0.6035500764846802,0.6035500764846802,0.6035500764846802,0.6035500764846802,0.6035500764846802,0.6035500764846802,0.6035500764846802,0.6035500764846802,0.6035500764846802,0.6035500764846802,0.6035500764846802,0.6035500764846802,0.6035500764846802,0.6035500764846802,0.6035500764846802,0.6035500764846802,0.6035500764846802,0.6035500764846802,0.6035500764846802,0.6035500764846802,0.6035500764846802],\"type\":\"scatter3d\"},{\"line\":{\"width\":15},\"mode\":\"lines\",\"x\":[-0.6806874871253967,0.0],\"y\":[-0.41520094871520996,0.0],\"z\":[0.6035500764846802,0.0],\"type\":\"scatter3d\"},{\"line\":{\"width\":15},\"mode\":\"lines\",\"x\":[-0.6806874871253967,0.0],\"y\":[-0.41520094871520996,0.0],\"z\":[0.6035500764846802,0.0],\"type\":\"scatter3d\"},{\"line\":{\"width\":15},\"mode\":\"lines\",\"x\":[-0.6806874871253967,0.0],\"y\":[-0.41520094871520996,0.0],\"z\":[0.6035500764846802,0.0],\"type\":\"scatter3d\"},{\"line\":{\"width\":15},\"mode\":\"lines\",\"x\":[-0.6806874871253967,0.0],\"y\":[-0.41520094871520996,0.0],\"z\":[0.6035500764846802,0.0],\"type\":\"scatter3d\"},{\"line\":{\"width\":15},\"mode\":\"lines\",\"x\":[-0.6806874871253967,0.0],\"y\":[-0.41520094871520996,0.0],\"z\":[0.6035500764846802,0.0],\"type\":\"scatter3d\"},{\"line\":{\"width\":15},\"mode\":\"lines\",\"x\":[-0.6806874871253967,0.0],\"y\":[-0.41520094871520996,0.0],\"z\":[0.6035500764846802,0.0],\"type\":\"scatter3d\"},{\"line\":{\"width\":15},\"mode\":\"lines\",\"x\":[-0.6806874871253967,0.0],\"y\":[-0.41520094871520996,0.0],\"z\":[0.6035500764846802,0.0],\"type\":\"scatter3d\"},{\"line\":{\"width\":15},\"mode\":\"lines\",\"x\":[-0.6806874871253967,0.0],\"y\":[-0.41520094871520996,0.0],\"z\":[0.6035500764846802,0.0],\"type\":\"scatter3d\"},{\"line\":{\"width\":15},\"mode\":\"lines\",\"x\":[-0.6806874871253967,0.0],\"y\":[-0.41520094871520996,0.0],\"z\":[0.6035500764846802,0.0],\"type\":\"scatter3d\"},{\"line\":{\"width\":15},\"mode\":\"lines\",\"x\":[-0.6806874871253967,0.0],\"y\":[-0.41520094871520996,0.0],\"z\":[0.6035500764846802,0.0],\"type\":\"scatter3d\"},{\"line\":{\"width\":15},\"mode\":\"lines\",\"x\":[-0.6806874871253967,0.0],\"y\":[-0.41520094871520996,0.0],\"z\":[0.6035500764846802,0.0],\"type\":\"scatter3d\"},{\"line\":{\"width\":15},\"mode\":\"lines\",\"x\":[-0.6806874871253967,0.0],\"y\":[-0.41520094871520996,0.0],\"z\":[0.6035500764846802,0.0],\"type\":\"scatter3d\"},{\"line\":{\"width\":15},\"mode\":\"lines\",\"x\":[-0.6806874871253967,0.0],\"y\":[-0.41520094871520996,0.0],\"z\":[0.6035500764846802,0.0],\"type\":\"scatter3d\"},{\"line\":{\"width\":15},\"mode\":\"lines\",\"x\":[-0.6806874871253967,0.0],\"y\":[-0.41520094871520996,0.0],\"z\":[0.6035500764846802,0.0],\"type\":\"scatter3d\"},{\"line\":{\"width\":15},\"mode\":\"lines\",\"x\":[-0.6806874871253967,0.0],\"y\":[-0.41520094871520996,0.0],\"z\":[0.6035500764846802,0.0],\"type\":\"scatter3d\"},{\"line\":{\"width\":15},\"mode\":\"lines\",\"x\":[-0.6806874871253967,0.0],\"y\":[-0.41520094871520996,0.0],\"z\":[0.6035500764846802,0.0],\"type\":\"scatter3d\"},{\"line\":{\"width\":15},\"mode\":\"lines\",\"x\":[-0.6806874871253967,0.0],\"y\":[-0.41520094871520996,0.0],\"z\":[0.6035500764846802,0.0],\"type\":\"scatter3d\"},{\"line\":{\"width\":15},\"mode\":\"lines\",\"x\":[-0.6806874871253967,0.0],\"y\":[-0.41520094871520996,0.0],\"z\":[0.6035500764846802,0.0],\"type\":\"scatter3d\"},{\"line\":{\"width\":15},\"mode\":\"lines\",\"x\":[-0.6806874871253967,0.0],\"y\":[-0.41520094871520996,0.0],\"z\":[0.6035500764846802,0.0],\"type\":\"scatter3d\"},{\"line\":{\"width\":15},\"mode\":\"lines\",\"x\":[-0.6806874871253967,0.0],\"y\":[-0.41520094871520996,0.0],\"z\":[0.6035500764846802,0.0],\"type\":\"scatter3d\"},{\"line\":{\"width\":15},\"mode\":\"lines\",\"x\":[-0.6806874871253967,0.0],\"y\":[-0.41520094871520996,0.0],\"z\":[0.6035500764846802,0.0],\"type\":\"scatter3d\"},{\"line\":{\"width\":15},\"mode\":\"lines\",\"x\":[-0.6806874871253967,0.0],\"y\":[-0.41520094871520996,0.0],\"z\":[0.6035500764846802,0.0],\"type\":\"scatter3d\"},{\"line\":{\"width\":15},\"mode\":\"lines\",\"x\":[-0.6806874871253967,0.0],\"y\":[-0.41520094871520996,0.0],\"z\":[0.6035500764846802,0.0],\"type\":\"scatter3d\"},{\"line\":{\"width\":15},\"mode\":\"lines\",\"x\":[-0.6806874871253967,0.0],\"y\":[-0.41520094871520996,0.0],\"z\":[0.6035500764846802,0.0],\"type\":\"scatter3d\"},{\"line\":{\"width\":15},\"mode\":\"lines\",\"x\":[-0.6806874871253967,0.0],\"y\":[-0.41520094871520996,0.0],\"z\":[0.6035500764846802,0.0],\"type\":\"scatter3d\"},{\"line\":{\"width\":15},\"mode\":\"lines\",\"x\":[-0.6806874871253967,0.0],\"y\":[-0.41520094871520996,0.0],\"z\":[0.6035500764846802,0.0],\"type\":\"scatter3d\"},{\"line\":{\"width\":15},\"mode\":\"lines\",\"x\":[-0.6806874871253967,0.0],\"y\":[-0.41520094871520996,0.0],\"z\":[0.6035500764846802,0.0],\"type\":\"scatter3d\"},{\"line\":{\"width\":15},\"mode\":\"lines\",\"x\":[-0.6806874871253967,0.0],\"y\":[-0.41520094871520996,0.0],\"z\":[0.6035500764846802,0.0],\"type\":\"scatter3d\"},{\"line\":{\"width\":15},\"mode\":\"lines\",\"x\":[-0.6806874871253967,0.0],\"y\":[-0.41520094871520996,0.0],\"z\":[0.6035500764846802,0.0],\"type\":\"scatter3d\"},{\"line\":{\"width\":15},\"mode\":\"lines\",\"x\":[-0.6806874871253967,0.0],\"y\":[-0.41520094871520996,0.0],\"z\":[0.6035500764846802,0.0],\"type\":\"scatter3d\"},{\"line\":{\"width\":15},\"mode\":\"lines\",\"x\":[-0.6806874871253967,0.0],\"y\":[-0.41520094871520996,0.0],\"z\":[0.6035500764846802,0.0],\"type\":\"scatter3d\"},{\"line\":{\"width\":15},\"mode\":\"lines\",\"x\":[-0.6806874871253967,0.0],\"y\":[-0.41520094871520996,0.0],\"z\":[0.6035500764846802,0.0],\"type\":\"scatter3d\"},{\"line\":{\"width\":15},\"mode\":\"lines\",\"x\":[-0.6806874871253967,0.0],\"y\":[-0.41520094871520996,0.0],\"z\":[0.6035500764846802,0.0],\"type\":\"scatter3d\"},{\"line\":{\"width\":15},\"mode\":\"lines\",\"x\":[-0.6806874871253967,0.0],\"y\":[-0.41520094871520996,0.0],\"z\":[0.6035500764846802,0.0],\"type\":\"scatter3d\"},{\"line\":{\"width\":15},\"mode\":\"lines\",\"x\":[-0.6806874871253967,0.0],\"y\":[-0.41520094871520996,0.0],\"z\":[0.6035500764846802,0.0],\"type\":\"scatter3d\"},{\"line\":{\"width\":15},\"mode\":\"lines\",\"x\":[-0.6806874871253967,0.0],\"y\":[-0.41520094871520996,0.0],\"z\":[0.6035500764846802,0.0],\"type\":\"scatter3d\"},{\"line\":{\"width\":15},\"mode\":\"lines\",\"x\":[-0.6806874871253967,0.0],\"y\":[-0.41520094871520996,0.0],\"z\":[0.6035500764846802,0.0],\"type\":\"scatter3d\"},{\"line\":{\"width\":15},\"mode\":\"lines\",\"x\":[-0.6806874871253967,0.0],\"y\":[-0.41520094871520996,0.0],\"z\":[0.6035500764846802,0.0],\"type\":\"scatter3d\"},{\"line\":{\"width\":15},\"mode\":\"lines\",\"x\":[-0.6806874871253967,0.0],\"y\":[-0.41520094871520996,0.0],\"z\":[0.6035500764846802,0.0],\"type\":\"scatter3d\"},{\"line\":{\"width\":15},\"mode\":\"lines\",\"x\":[-0.6806874871253967,0.0],\"y\":[-0.41520094871520996,0.0],\"z\":[0.6035500764846802,0.0],\"type\":\"scatter3d\"},{\"line\":{\"width\":15},\"mode\":\"lines\",\"x\":[-0.6806874871253967,0.0],\"y\":[-0.41520094871520996,0.0],\"z\":[0.6035500764846802,0.0],\"type\":\"scatter3d\"},{\"line\":{\"width\":15},\"mode\":\"lines\",\"x\":[-0.6806874871253967,0.0],\"y\":[-0.41520094871520996,0.0],\"z\":[0.6035500764846802,0.0],\"type\":\"scatter3d\"},{\"line\":{\"width\":15},\"mode\":\"lines\",\"x\":[-0.6806874871253967,0.0],\"y\":[-0.41520094871520996,0.0],\"z\":[0.6035500764846802,0.0],\"type\":\"scatter3d\"},{\"line\":{\"width\":15},\"mode\":\"lines\",\"x\":[-0.6806874871253967,0.0],\"y\":[-0.41520094871520996,0.0],\"z\":[0.6035500764846802,0.0],\"type\":\"scatter3d\"},{\"line\":{\"width\":15},\"mode\":\"lines\",\"x\":[-0.6806874871253967,0.0],\"y\":[-0.41520094871520996,0.0],\"z\":[0.6035500764846802,0.0],\"type\":\"scatter3d\"},{\"line\":{\"width\":15},\"mode\":\"lines\",\"x\":[-0.6806874871253967,0.0],\"y\":[-0.41520094871520996,0.0],\"z\":[0.6035500764846802,0.0],\"type\":\"scatter3d\"},{\"line\":{\"width\":15},\"mode\":\"lines\",\"x\":[-0.6806874871253967,0.0],\"y\":[-0.41520094871520996,0.0],\"z\":[0.6035500764846802,0.0],\"type\":\"scatter3d\"},{\"line\":{\"width\":15},\"mode\":\"lines\",\"x\":[-0.6806874871253967,0.0],\"y\":[-0.41520094871520996,0.0],\"z\":[0.6035500764846802,0.0],\"type\":\"scatter3d\"},{\"line\":{\"width\":15},\"mode\":\"lines\",\"x\":[-0.6806874871253967,0.0],\"y\":[-0.41520094871520996,0.0],\"z\":[0.6035500764846802,0.0],\"type\":\"scatter3d\"},{\"line\":{\"width\":15},\"mode\":\"lines\",\"x\":[-0.6806874871253967,0.0],\"y\":[-0.41520094871520996,0.0],\"z\":[0.6035500764846802,0.0],\"type\":\"scatter3d\"},{\"line\":{\"width\":15},\"mode\":\"lines\",\"x\":[-0.6806874871253967,0.0],\"y\":[-0.41520094871520996,0.0],\"z\":[0.6035500764846802,0.0],\"type\":\"scatter3d\"},{\"line\":{\"width\":15},\"mode\":\"lines\",\"x\":[-0.6806874871253967,0.0],\"y\":[-0.41520094871520996,0.0],\"z\":[0.6035500764846802,0.0],\"type\":\"scatter3d\"},{\"line\":{\"width\":15},\"mode\":\"lines\",\"x\":[-0.6806874871253967,0.0],\"y\":[-0.41520094871520996,0.0],\"z\":[0.6035500764846802,0.0],\"type\":\"scatter3d\"},{\"line\":{\"width\":15},\"mode\":\"lines\",\"x\":[-0.6806874871253967,0.0],\"y\":[-0.41520094871520996,0.0],\"z\":[0.6035500764846802,0.0],\"type\":\"scatter3d\"},{\"line\":{\"width\":15},\"mode\":\"lines\",\"x\":[-0.6806874871253967,0.0],\"y\":[-0.41520094871520996,0.0],\"z\":[0.6035500764846802,0.0],\"type\":\"scatter3d\"},{\"line\":{\"width\":15},\"mode\":\"lines\",\"x\":[-0.6806874871253967,0.0],\"y\":[-0.41520094871520996,0.0],\"z\":[0.6035500764846802,0.0],\"type\":\"scatter3d\"},{\"line\":{\"width\":15},\"mode\":\"lines\",\"x\":[-0.6806874871253967,0.0],\"y\":[-0.41520094871520996,0.0],\"z\":[0.6035500764846802,0.0],\"type\":\"scatter3d\"},{\"line\":{\"width\":15},\"mode\":\"lines\",\"x\":[-0.6806874871253967,0.0],\"y\":[-0.41520094871520996,0.0],\"z\":[0.6035500764846802,0.0],\"type\":\"scatter3d\"},{\"line\":{\"width\":15},\"mode\":\"lines\",\"x\":[-0.6806874871253967,0.0],\"y\":[-0.41520094871520996,0.0],\"z\":[0.6035500764846802,0.0],\"type\":\"scatter3d\"},{\"line\":{\"width\":15},\"mode\":\"lines\",\"x\":[-0.6806874871253967,0.0],\"y\":[-0.41520094871520996,0.0],\"z\":[0.6035500764846802,0.0],\"type\":\"scatter3d\"},{\"line\":{\"width\":15},\"mode\":\"lines\",\"x\":[-0.6806874871253967,0.0],\"y\":[-0.41520094871520996,0.0],\"z\":[0.6035500764846802,0.0],\"type\":\"scatter3d\"},{\"line\":{\"width\":15},\"mode\":\"lines\",\"x\":[-0.6806874871253967,0.0],\"y\":[-0.41520094871520996,0.0],\"z\":[0.6035500764846802,0.0],\"type\":\"scatter3d\"},{\"line\":{\"width\":15},\"mode\":\"lines\",\"x\":[-0.6806874871253967,0.0],\"y\":[-0.41520094871520996,0.0],\"z\":[0.6035500764846802,0.0],\"type\":\"scatter3d\"},{\"line\":{\"width\":15},\"mode\":\"lines\",\"x\":[-0.6806874871253967,0.0],\"y\":[-0.41520094871520996,0.0],\"z\":[0.6035500764846802,0.0],\"type\":\"scatter3d\"},{\"line\":{\"width\":15},\"mode\":\"lines\",\"x\":[-0.6806874871253967,0.0],\"y\":[-0.41520094871520996,0.0],\"z\":[0.6035500764846802,0.0],\"type\":\"scatter3d\"},{\"line\":{\"width\":15},\"mode\":\"lines\",\"x\":[-0.6806874871253967,0.0],\"y\":[-0.41520094871520996,0.0],\"z\":[0.6035500764846802,0.0],\"type\":\"scatter3d\"},{\"line\":{\"width\":15},\"mode\":\"lines\",\"x\":[-0.6806874871253967,0.0],\"y\":[-0.41520094871520996,0.0],\"z\":[0.6035500764846802,0.0],\"type\":\"scatter3d\"},{\"line\":{\"width\":15},\"mode\":\"lines\",\"x\":[-0.6806874871253967,0.0],\"y\":[-0.41520094871520996,0.0],\"z\":[0.6035500764846802,0.0],\"type\":\"scatter3d\"},{\"line\":{\"width\":15},\"mode\":\"lines\",\"x\":[-0.6806874871253967,0.0],\"y\":[-0.41520094871520996,0.0],\"z\":[0.6035500764846802,0.0],\"type\":\"scatter3d\"},{\"line\":{\"width\":15},\"mode\":\"lines\",\"x\":[-0.6806874871253967,0.0],\"y\":[-0.41520094871520996,0.0],\"z\":[0.6035500764846802,0.0],\"type\":\"scatter3d\"},{\"line\":{\"width\":15},\"mode\":\"lines\",\"x\":[-0.6806874871253967,0.0],\"y\":[-0.41520094871520996,0.0],\"z\":[0.6035500764846802,0.0],\"type\":\"scatter3d\"},{\"line\":{\"width\":15},\"mode\":\"lines\",\"x\":[-0.6806874871253967,0.0],\"y\":[-0.41520094871520996,0.0],\"z\":[0.6035500764846802,0.0],\"type\":\"scatter3d\"},{\"line\":{\"width\":15},\"mode\":\"lines\",\"x\":[-0.6806874871253967,0.0],\"y\":[-0.41520094871520996,0.0],\"z\":[0.6035500764846802,0.0],\"type\":\"scatter3d\"},{\"line\":{\"width\":15},\"mode\":\"lines\",\"x\":[-0.6806874871253967,0.0],\"y\":[-0.41520094871520996,0.0],\"z\":[0.6035500764846802,0.0],\"type\":\"scatter3d\"},{\"line\":{\"width\":15},\"mode\":\"lines\",\"x\":[-0.6806874871253967,0.0],\"y\":[-0.41520094871520996,0.0],\"z\":[0.6035500764846802,0.0],\"type\":\"scatter3d\"},{\"line\":{\"width\":15},\"mode\":\"lines\",\"x\":[-0.6806874871253967,0.0],\"y\":[-0.41520094871520996,0.0],\"z\":[0.6035500764846802,0.0],\"type\":\"scatter3d\"},{\"line\":{\"width\":15},\"mode\":\"lines\",\"x\":[-0.6806874871253967,0.0],\"y\":[-0.41520094871520996,0.0],\"z\":[0.6035500764846802,0.0],\"type\":\"scatter3d\"},{\"line\":{\"width\":15},\"mode\":\"lines\",\"x\":[-0.6806874871253967,0.0],\"y\":[-0.41520094871520996,0.0],\"z\":[0.6035500764846802,0.0],\"type\":\"scatter3d\"},{\"line\":{\"width\":15},\"mode\":\"lines\",\"x\":[-0.6806874871253967,0.0],\"y\":[-0.41520094871520996,0.0],\"z\":[0.6035500764846802,0.0],\"type\":\"scatter3d\"},{\"line\":{\"width\":15},\"mode\":\"lines\",\"x\":[-0.6806874871253967,0.0],\"y\":[-0.41520094871520996,0.0],\"z\":[0.6035500764846802,0.0],\"type\":\"scatter3d\"},{\"line\":{\"width\":15},\"mode\":\"lines\",\"x\":[-0.6806874871253967,0.0],\"y\":[-0.41520094871520996,0.0],\"z\":[0.6035500764846802,0.0],\"type\":\"scatter3d\"},{\"line\":{\"width\":15},\"mode\":\"lines\",\"x\":[-0.6806874871253967,0.0],\"y\":[-0.41520094871520996,0.0],\"z\":[0.6035500764846802,0.0],\"type\":\"scatter3d\"},{\"line\":{\"width\":15},\"mode\":\"lines\",\"x\":[-0.6806874871253967,0.0],\"y\":[-0.41520094871520996,0.0],\"z\":[0.6035500764846802,0.0],\"type\":\"scatter3d\"},{\"line\":{\"width\":15},\"mode\":\"lines\",\"x\":[-0.6806874871253967,0.0],\"y\":[-0.41520094871520996,0.0],\"z\":[0.6035500764846802,0.0],\"type\":\"scatter3d\"},{\"line\":{\"width\":15},\"mode\":\"lines\",\"x\":[-0.6806874871253967,0.0],\"y\":[-0.41520094871520996,0.0],\"z\":[0.6035500764846802,0.0],\"type\":\"scatter3d\"},{\"line\":{\"width\":15},\"mode\":\"lines\",\"x\":[-0.6806874871253967,0.0],\"y\":[-0.41520094871520996,0.0],\"z\":[0.6035500764846802,0.0],\"type\":\"scatter3d\"},{\"line\":{\"width\":15},\"mode\":\"lines\",\"x\":[-0.6806874871253967,0.0],\"y\":[-0.41520094871520996,0.0],\"z\":[0.6035500764846802,0.0],\"type\":\"scatter3d\"},{\"line\":{\"width\":15},\"mode\":\"lines\",\"x\":[-0.6806874871253967,0.0],\"y\":[-0.41520094871520996,0.0],\"z\":[0.6035500764846802,0.0],\"type\":\"scatter3d\"},{\"line\":{\"width\":15},\"mode\":\"lines\",\"x\":[-0.6806874871253967,0.0],\"y\":[-0.41520094871520996,0.0],\"z\":[0.6035500764846802,0.0],\"type\":\"scatter3d\"},{\"line\":{\"width\":15},\"mode\":\"lines\",\"x\":[-0.6806874871253967,0.0],\"y\":[-0.41520094871520996,0.0],\"z\":[0.6035500764846802,0.0],\"type\":\"scatter3d\"},{\"line\":{\"width\":15},\"mode\":\"lines\",\"x\":[-0.6806874871253967,0.0],\"y\":[-0.41520094871520996,0.0],\"z\":[0.6035500764846802,0.0],\"type\":\"scatter3d\"},{\"line\":{\"width\":15},\"mode\":\"lines\",\"x\":[-0.6806874871253967,0.0],\"y\":[-0.41520094871520996,0.0],\"z\":[0.6035500764846802,0.0],\"type\":\"scatter3d\"},{\"line\":{\"width\":15},\"mode\":\"lines\",\"x\":[-0.6806874871253967,0.0],\"y\":[-0.41520094871520996,0.0],\"z\":[0.6035500764846802,0.0],\"type\":\"scatter3d\"},{\"line\":{\"width\":15},\"mode\":\"lines\",\"x\":[-0.6806874871253967,0.0],\"y\":[-0.41520094871520996,0.0],\"z\":[0.6035500764846802,0.0],\"type\":\"scatter3d\"},{\"line\":{\"width\":15},\"mode\":\"lines\",\"x\":[-0.6806874871253967,0.0],\"y\":[-0.41520094871520996,0.0],\"z\":[0.6035500764846802,0.0],\"type\":\"scatter3d\"},{\"line\":{\"width\":15},\"mode\":\"lines\",\"x\":[-0.6806874871253967,0.0],\"y\":[-0.41520094871520996,0.0],\"z\":[0.6035500764846802,0.0],\"type\":\"scatter3d\"},{\"line\":{\"width\":15},\"mode\":\"lines\",\"x\":[-0.6806874871253967,0.0],\"y\":[-0.41520094871520996,0.0],\"z\":[0.6035500764846802,0.0],\"type\":\"scatter3d\"},{\"line\":{\"width\":15},\"mode\":\"lines\",\"x\":[-0.6806874871253967,0.0],\"y\":[-0.41520094871520996,0.0],\"z\":[0.6035500764846802,0.0],\"type\":\"scatter3d\"},{\"line\":{\"width\":15},\"mode\":\"lines\",\"x\":[-0.6806874871253967,0.0],\"y\":[-0.41520094871520996,0.0],\"z\":[0.6035500764846802,0.0],\"type\":\"scatter3d\"},{\"line\":{\"width\":15},\"mode\":\"lines\",\"x\":[-0.6806874871253967,0.0],\"y\":[-0.41520094871520996,0.0],\"z\":[0.6035500764846802,0.0],\"type\":\"scatter3d\"},{\"line\":{\"width\":5},\"mode\":\"lines\",\"x\":[-0.6806874871253967,-0.0923236608505249],\"y\":[-0.41520094871520996,-0.04278111457824707],\"z\":[0.6035500764846802,-0.11417651176452637],\"type\":\"scatter3d\"},{\"line\":{\"width\":5},\"mode\":\"lines\",\"x\":[-0.6806874871253967,-0.010893642902374268],\"y\":[-0.41520094871520996,0.007467389106750488],\"z\":[0.6035500764846802,-0.006964206695556641],\"type\":\"scatter3d\"},{\"line\":{\"width\":5},\"mode\":\"lines\",\"x\":[-0.6806874871253967,-0.08278822898864746],\"y\":[-0.41520094871520996,-0.13014352321624756],\"z\":[0.6035500764846802,-0.14562201499938965],\"type\":\"scatter3d\"},{\"line\":{\"width\":5},\"mode\":\"lines\",\"x\":[-0.6806874871253967,0.14599335193634033],\"y\":[-0.41520094871520996,-0.13718047738075256],\"z\":[0.6035500764846802,0.11436361074447632],\"type\":\"scatter3d\"},{\"line\":{\"width\":5},\"mode\":\"lines\",\"x\":[-0.6806874871253967,-0.19155019521713257],\"y\":[-0.41520094871520996,0.17431992292404175],\"z\":[0.6035500764846802,-0.039263904094696045],\"type\":\"scatter3d\"},{\"line\":{\"width\":5},\"mode\":\"lines\",\"x\":[-0.6806874871253967,-0.02981722354888916],\"y\":[-0.41520094871520996,0.13288336992263794],\"z\":[0.6035500764846802,0.07822024822235107],\"type\":\"scatter3d\"},{\"line\":{\"width\":5},\"mode\":\"lines\",\"x\":[-0.6806874871253967,-0.0861632227897644],\"y\":[-0.41520094871520996,0.23098206520080566],\"z\":[0.6035500764846802,0.12502282857894897],\"type\":\"scatter3d\"},{\"line\":{\"width\":5},\"mode\":\"lines\",\"x\":[-0.6806874871253967,0.08256053924560547],\"y\":[-0.41520094871520996,-0.007124900817871094],\"z\":[0.6035500764846802,0.10262453556060791],\"type\":\"scatter3d\"},{\"line\":{\"width\":5},\"mode\":\"lines\",\"x\":[-0.6806874871253967,0.09203040599822998],\"y\":[-0.41520094871520996,-0.030001699924468994],\"z\":[0.6035500764846802,0.09904181957244873],\"type\":\"scatter3d\"},{\"line\":{\"width\":5},\"mode\":\"lines\",\"x\":[-0.6806874871253967,-0.011321663856506348],\"y\":[-0.41520094871520996,0.11848324537277222],\"z\":[0.6035500764846802,0.08670341968536377],\"type\":\"scatter3d\"},{\"line\":{\"width\":5},\"mode\":\"lines\",\"x\":[-0.6806874871253967,-0.23633483052253723],\"y\":[-0.41520094871520996,-0.1939513236284256],\"z\":[0.6035500764846802,-0.26455092430114746],\"type\":\"scatter3d\"},{\"line\":{\"width\":5},\"mode\":\"lines\",\"x\":[-0.6806874871253967,0.19138604402542114],\"y\":[-0.41520094871520996,-0.46261176466941833],\"z\":[0.6035500764846802,0.1164771318435669],\"type\":\"scatter3d\"},{\"line\":{\"width\":5},\"mode\":\"lines\",\"x\":[-0.6806874871253967,0.007035672664642334],\"y\":[-0.41520094871520996,0.03891909122467041],\"z\":[0.6035500764846802,0.03714752197265625],\"type\":\"scatter3d\"},{\"line\":{\"width\":5},\"mode\":\"lines\",\"x\":[-0.6806874871253967,0.05526047945022583],\"y\":[-0.41520094871520996,0.1526508927345276],\"z\":[0.6035500764846802,0.23487010598182678],\"type\":\"scatter3d\"},{\"line\":{\"width\":5},\"mode\":\"lines\",\"x\":[-0.6806874871253967,-0.17049318552017212],\"y\":[-0.41520094871520996,-0.03324800729751587],\"z\":[0.6035500764846802,-0.1670430302619934],\"type\":\"scatter3d\"},{\"line\":{\"width\":5},\"mode\":\"lines\",\"x\":[-0.6806874871253967,-0.018869996070861816],\"y\":[-0.41520094871520996,0.15706384181976318],\"z\":[0.6035500764846802,0.11928713321685791],\"type\":\"scatter3d\"},{\"line\":{\"width\":5},\"mode\":\"lines\",\"x\":[-0.6806874871253967,-0.5577129125595093],\"y\":[-0.41520094871520996,0.22350001335144043],\"z\":[0.6035500764846802,-0.15601444244384766],\"type\":\"scatter3d\"},{\"line\":{\"width\":5},\"mode\":\"lines\",\"x\":[-0.6806874871253967,-0.24089527130126953],\"y\":[-0.41520094871520996,0.13695263862609863],\"z\":[0.6035500764846802,-0.10476422309875488],\"type\":\"scatter3d\"},{\"line\":{\"width\":5},\"mode\":\"lines\",\"x\":[-0.6806874871253967,-0.02913910150527954],\"y\":[-0.41520094871520996,0.13509589433670044],\"z\":[0.6035500764846802,0.08138328790664673],\"type\":\"scatter3d\"},{\"line\":{\"width\":5},\"mode\":\"lines\",\"x\":[-0.6806874871253967,-0.5800775289535522],\"y\":[-0.41520094871520996,0.14081192016601562],\"z\":[0.6035500764846802,-0.22151190042495728],\"type\":\"scatter3d\"},{\"line\":{\"width\":5},\"mode\":\"lines\",\"x\":[-0.6806874871253967,-0.16995924711227417],\"y\":[-0.41520094871520996,0.36588597297668457],\"z\":[0.6035500764846802,0.24430105090141296],\"type\":\"scatter3d\"},{\"line\":{\"width\":5},\"mode\":\"lines\",\"x\":[-0.6806874871253967,0.061014533042907715],\"y\":[-0.41520094871520996,0.11256712675094604],\"z\":[0.6035500764846802,0.18961891531944275],\"type\":\"scatter3d\"},{\"line\":{\"width\":5},\"mode\":\"lines\",\"x\":[-0.6806874871253967,0.07221168279647827],\"y\":[-0.41520094871520996,-0.5646064281463623],\"z\":[0.6035500764846802,-0.037402987480163574],\"type\":\"scatter3d\"},{\"line\":{\"width\":5},\"mode\":\"lines\",\"x\":[-0.6806874871253967,-0.0009265542030334473],\"y\":[-0.41520094871520996,0.16739553213119507],\"z\":[0.6035500764846802,0.15800946950912476],\"type\":\"scatter3d\"},{\"line\":{\"width\":5},\"mode\":\"lines\",\"x\":[-0.6806874871253967,-0.04869866371154785],\"y\":[-0.41520094871520996,-0.08204233646392822],\"z\":[0.6035500764846802,-0.096160888671875],\"type\":\"scatter3d\"},{\"line\":{\"width\":5},\"mode\":\"lines\",\"x\":[-0.6806874871253967,-0.16496044397354126],\"y\":[-0.41520094871520996,-0.0038564205169677734],\"z\":[0.6035500764846802,-0.14799588918685913],\"type\":\"scatter3d\"},{\"line\":{\"width\":5},\"mode\":\"lines\",\"x\":[-0.6806874871253967,0.27076977491378784],\"y\":[-0.41520094871520996,-0.24486254155635834],\"z\":[0.6035500764846802,0.3472028970718384],\"type\":\"scatter3d\"},{\"line\":{\"width\":5},\"mode\":\"lines\",\"x\":[-0.6806874871253967,0.10490918159484863],\"y\":[-0.41520094871520996,-0.1649443507194519],\"z\":[0.6035500764846802,0.03767949342727661],\"type\":\"scatter3d\"},{\"line\":{\"width\":5},\"mode\":\"lines\",\"x\":[-0.6806874871253967,-0.005175173282623291],\"y\":[-0.41520094871520996,-0.010827183723449707],\"z\":[0.6035500764846802,-0.013025104999542236],\"type\":\"scatter3d\"},{\"line\":{\"width\":5},\"mode\":\"lines\",\"x\":[-0.6806874871253967,0.09165477752685547],\"y\":[-0.41520094871520996,-0.06262022256851196],\"z\":[0.6035500764846802,0.07518064975738525],\"type\":\"scatter3d\"},{\"line\":{\"width\":5},\"mode\":\"lines\",\"x\":[-0.6806874871253967,0.011549890041351318],\"y\":[-0.41520094871520996,-0.033864349126815796],\"z\":[0.6035500764846802,-0.009140551090240479],\"type\":\"scatter3d\"},{\"line\":{\"width\":5},\"mode\":\"lines\",\"x\":[-0.6806874871253967,-0.023670613765716553],\"y\":[-0.41520094871520996,0.056020766496658325],\"z\":[0.6035500764846802,0.015095412731170654],\"type\":\"scatter3d\"},{\"line\":{\"width\":5},\"mode\":\"lines\",\"x\":[-0.6806874871253967,0.06065046787261963],\"y\":[-0.41520094871520996,-0.28959041833877563],\"z\":[0.6035500764846802,-0.05572223663330078],\"type\":\"scatter3d\"},{\"line\":{\"width\":5},\"mode\":\"lines\",\"x\":[-0.6806874871253967,0.10824280977249146],\"y\":[-0.41520094871520996,-0.10937541723251343],\"z\":[0.6035500764846802,0.07057750225067139],\"type\":\"scatter3d\"},{\"line\":{\"width\":5},\"mode\":\"lines\",\"x\":[-0.6806874871253967,-0.44862350821495056],\"y\":[-0.41520094871520996,0.4728807210922241],\"z\":[0.6035500764846802,0.2067413032054901],\"type\":\"scatter3d\"},{\"line\":{\"width\":5},\"mode\":\"lines\",\"x\":[-0.6806874871253967,-0.0052915215492248535],\"y\":[-0.41520094871520996,-0.041715651750564575],\"z\":[0.6035500764846802,-0.03233438730239868],\"type\":\"scatter3d\"},{\"line\":{\"width\":5},\"mode\":\"lines\",\"x\":[-0.6806874871253967,0.18861180543899536],\"y\":[-0.41520094871520996,-0.19442065060138702],\"z\":[0.6035500764846802,0.16131174564361572],\"type\":\"scatter3d\"},{\"line\":{\"width\":5},\"mode\":\"lines\",\"x\":[-0.6806874871253967,0.09144467115402222],\"y\":[-0.41520094871520996,0.042681753635406494],\"z\":[0.6035500764846802,0.16291949152946472],\"type\":\"scatter3d\"},{\"line\":{\"width\":5},\"mode\":\"lines\",\"x\":[-0.6806874871253967,0.179348886013031],\"y\":[-0.41520094871520996,0.09466248750686646],\"z\":[0.6035500764846802,0.5841413736343384],\"type\":\"scatter3d\"},{\"line\":{\"width\":5},\"mode\":\"lines\",\"x\":[-0.6806874871253967,0.15937715768814087],\"y\":[-0.41520094871520996,-0.565567135810852],\"z\":[0.6035500764846802,0.08231955766677856],\"type\":\"scatter3d\"},{\"line\":{\"width\":5},\"mode\":\"lines\",\"x\":[-0.6806874871253967,-0.014086306095123291],\"y\":[-0.41520094871520996,0.21672165393829346],\"z\":[0.6035500764846802,0.20818108320236206],\"type\":\"scatter3d\"},{\"line\":{\"width\":5},\"mode\":\"lines\",\"x\":[-0.6806874871253967,0.18216633796691895],\"y\":[-0.41520094871520996,-0.12284025549888611],\"z\":[0.6035500764846802,0.1912292242050171],\"type\":\"scatter3d\"},{\"line\":{\"width\":5},\"mode\":\"lines\",\"x\":[-0.6806874871253967,0.06034749746322632],\"y\":[-0.41520094871520996,0.07399556040763855],\"z\":[0.6035500764846802,0.14360028505325317],\"type\":\"scatter3d\"},{\"line\":{\"width\":5},\"mode\":\"lines\",\"x\":[-0.6806874871253967,0.2560725808143616],\"y\":[-0.41520094871520996,-0.07446923851966858],\"z\":[0.6035500764846802,0.5236601829528809],\"type\":\"scatter3d\"},{\"line\":{\"width\":5},\"mode\":\"lines\",\"x\":[-0.6806874871253967,0.018713295459747314],\"y\":[-0.41520094871520996,-0.06239587068557739],\"z\":[0.6035500764846802,-0.018034279346466064],\"type\":\"scatter3d\"},{\"line\":{\"width\":5},\"mode\":\"lines\",\"x\":[-0.6806874871253967,0.004543483257293701],\"y\":[-0.41520094871520996,-0.4748387038707733],\"z\":[0.6035500764846802,-0.1223299503326416],\"type\":\"scatter3d\"},{\"line\":{\"width\":5},\"mode\":\"lines\",\"x\":[-0.6806874871253967,-0.41594046354293823],\"y\":[-0.41520094871520996,0.4847623109817505],\"z\":[0.6035500764846802,0.25717583298683167],\"type\":\"scatter3d\"},{\"line\":{\"width\":5},\"mode\":\"lines\",\"x\":[-0.6806874871253967,-0.0031606554985046387],\"y\":[-0.41520094871520996,-0.1789136379957199],\"z\":[0.6035500764846802,-0.09295958280563354],\"type\":\"scatter3d\"},{\"line\":{\"width\":5},\"mode\":\"lines\",\"x\":[-0.6806874871253967,-0.1937403380870819],\"y\":[-0.41520094871520996,0.11738014221191406],\"z\":[0.6035500764846802,-0.08872145414352417],\"type\":\"scatter3d\"},{\"line\":{\"width\":5},\"mode\":\"lines\",\"x\":[-0.6806874871253967,0.24532896280288696],\"y\":[-0.41520094871520996,-0.23450757563114166],\"z\":[0.6035500764846802,0.27212363481521606],\"type\":\"scatter3d\"},{\"line\":{\"width\":5},\"mode\":\"lines\",\"x\":[-0.6806874871253967,0.04614388942718506],\"y\":[-0.41520094871520996,-0.15655413269996643],\"z\":[0.6035500764846802,-0.0327029824256897],\"type\":\"scatter3d\"},{\"line\":{\"width\":5},\"mode\":\"lines\",\"x\":[-0.6806874871253967,-0.49839627742767334],\"y\":[-0.41520094871520996,0.09045404195785522],\"z\":[0.6035500764846802,-0.23970723152160645],\"type\":\"scatter3d\"},{\"line\":{\"width\":5},\"mode\":\"lines\",\"x\":[-0.6806874871253967,-0.29125821590423584],\"y\":[-0.41520094871520996,0.06447327136993408],\"z\":[0.6035500764846802,-0.18274348974227905],\"type\":\"scatter3d\"},{\"line\":{\"width\":5},\"mode\":\"lines\",\"x\":[-0.6806874871253967,-0.016380786895751953],\"y\":[-0.41520094871520996,-0.5873231291770935],\"z\":[0.6035500764846802,-0.12382233142852783],\"type\":\"scatter3d\"},{\"line\":{\"width\":5},\"mode\":\"lines\",\"x\":[-0.6806874871253967,0.05288344621658325],\"y\":[-0.41520094871520996,-0.011899620294570923],\"z\":[0.6035500764846802,0.05653846263885498],\"type\":\"scatter3d\"},{\"line\":{\"width\":5},\"mode\":\"lines\",\"x\":[-0.6806874871253967,-0.20289474725723267],\"y\":[-0.41520094871520996,0.06290405988693237],\"z\":[0.6035500764846802,-0.13342320919036865],\"type\":\"scatter3d\"},{\"line\":{\"width\":5},\"mode\":\"lines\",\"x\":[-0.6806874871253967,-0.21015596389770508],\"y\":[-0.41520094871520996,-0.22536979615688324],\"z\":[0.6035500764846802,-0.25817155838012695],\"type\":\"scatter3d\"},{\"line\":{\"width\":5},\"mode\":\"lines\",\"x\":[-0.6806874871253967,-0.02041691541671753],\"y\":[-0.41520094871520996,-0.19948570430278778],\"z\":[0.6035500764846802,-0.11583143472671509],\"type\":\"scatter3d\"},{\"line\":{\"width\":5},\"mode\":\"lines\",\"x\":[-0.6806874871253967,-0.1647241711616516],\"y\":[-0.41520094871520996,0.16803652048110962],\"z\":[0.6035500764846802,-0.02383798360824585],\"type\":\"scatter3d\"},{\"line\":{\"width\":5},\"mode\":\"lines\",\"x\":[-0.6806874871253967,0.00328904390335083],\"y\":[-0.41520094871520996,-0.022389888763427734],\"z\":[0.6035500764846802,-0.011165738105773926],\"type\":\"scatter3d\"},{\"line\":{\"width\":5},\"mode\":\"lines\",\"x\":[-0.6806874871253967,-0.1940751075744629],\"y\":[-0.41520094871520996,-0.12468752264976501],\"z\":[0.6035500764846802,-0.22034931182861328],\"type\":\"scatter3d\"},{\"line\":{\"width\":5},\"mode\":\"lines\",\"x\":[-0.6806874871253967,-0.07748913764953613],\"y\":[-0.41520094871520996,0.06625747680664062],\"z\":[0.6035500764846802,-0.032334744930267334],\"type\":\"scatter3d\"},{\"line\":{\"width\":5},\"mode\":\"lines\",\"x\":[-0.6806874871253967,-0.0846947431564331],\"y\":[-0.41520094871520996,0.05471599102020264],\"z\":[0.6035500764846802,-0.04758024215698242],\"type\":\"scatter3d\"},{\"line\":{\"width\":5},\"mode\":\"lines\",\"x\":[-0.6806874871253967,-0.11263597011566162],\"y\":[-0.41520094871520996,0.00663420557975769],\"z\":[0.6035500764846802,-0.10311293601989746],\"type\":\"scatter3d\"},{\"line\":{\"width\":5},\"mode\":\"lines\",\"x\":[-0.6806874871253967,-0.12826770544052124],\"y\":[-0.41520094871520996,0.11376619338989258],\"z\":[0.6035500764846802,-0.04067510366439819],\"type\":\"scatter3d\"},{\"line\":{\"width\":5},\"mode\":\"lines\",\"x\":[-0.6806874871253967,-0.0818474292755127],\"y\":[-0.41520094871520996,-0.014560699462890625],\"z\":[0.6035500764846802,-0.08990359306335449],\"type\":\"scatter3d\"},{\"line\":{\"width\":5},\"mode\":\"lines\",\"x\":[-0.6806874871253967,-0.12963145971298218],\"y\":[-0.41520094871520996,0.128503680229187],\"z\":[0.6035500764846802,-0.029476404190063477],\"type\":\"scatter3d\"},{\"line\":{\"width\":5},\"mode\":\"lines\",\"x\":[-0.6806874871253967,0.003984689712524414],\"y\":[-0.41520094871520996,-0.043812066316604614],\"z\":[0.6035500764846802,-0.02358180284500122],\"type\":\"scatter3d\"},{\"line\":{\"width\":5},\"mode\":\"lines\",\"x\":[-0.6806874871253967,0.014456212520599365],\"y\":[-0.41520094871520996,-0.23020407557487488],\"z\":[0.6035500764846802,-0.09110903739929199],\"type\":\"scatter3d\"},{\"line\":{\"width\":5},\"mode\":\"lines\",\"x\":[-0.6806874871253967,-0.2637922763824463],\"y\":[-0.41520094871520996,0.07871043682098389],\"z\":[0.6035500764846802,-0.15950292348861694],\"type\":\"scatter3d\"},{\"line\":{\"width\":5},\"mode\":\"lines\",\"x\":[-0.6806874871253967,-0.12629073858261108],\"y\":[-0.41520094871520996,-0.41801849007606506],\"z\":[0.6035500764846802,-0.22869771718978882],\"type\":\"scatter3d\"},{\"line\":{\"width\":5},\"mode\":\"lines\",\"x\":[-0.6806874871253967,0.008779942989349365],\"y\":[-0.41520094871520996,0.1223488450050354],\"z\":[0.6035500764846802,0.1180865466594696],\"type\":\"scatter3d\"},{\"line\":{\"width\":5},\"mode\":\"lines\",\"x\":[-0.6806874871253967,-0.050154685974121094],\"y\":[-0.41520094871520996,-0.4082171618938446],\"z\":[0.6035500764846802,-0.17258119583129883],\"type\":\"scatter3d\"},{\"line\":{\"width\":5},\"mode\":\"lines\",\"x\":[-0.6806874871253967,-0.04885435104370117],\"y\":[-0.41520094871520996,-0.23614346981048584],\"z\":[0.6035500764846802,-0.1505887508392334],\"type\":\"scatter3d\"},{\"line\":{\"width\":5},\"mode\":\"lines\",\"x\":[-0.6806874871253967,-0.047170937061309814],\"y\":[-0.41520094871520996,-0.15345555543899536],\"z\":[0.6035500764846802,-0.12456130981445312],\"type\":\"scatter3d\"},{\"line\":{\"width\":5},\"mode\":\"lines\",\"x\":[-0.6806874871253967,-0.00729745626449585],\"y\":[-0.41520094871520996,-0.08080092072486877],\"z\":[0.6035500764846802,-0.05578482151031494],\"type\":\"scatter3d\"},{\"line\":{\"width\":5},\"mode\":\"lines\",\"x\":[-0.6806874871253967,0.05868476629257202],\"y\":[-0.41520094871520996,-0.0025901198387145996],\"z\":[0.6035500764846802,0.07149648666381836],\"type\":\"scatter3d\"},{\"line\":{\"width\":5},\"mode\":\"lines\",\"x\":[-0.6806874871253967,-0.05229121446609497],\"y\":[-0.41520094871520996,0.039846599102020264],\"z\":[0.6035500764846802,-0.02736186981201172],\"type\":\"scatter3d\"},{\"line\":{\"width\":5},\"mode\":\"lines\",\"x\":[-0.6806874871253967,-0.07593727111816406],\"y\":[-0.41520094871520996,0.06486347317695618],\"z\":[0.6035500764846802,-0.031914591789245605],\"type\":\"scatter3d\"},{\"line\":{\"width\":5},\"mode\":\"lines\",\"x\":[-0.6806874871253967,0.0651887059211731],\"y\":[-0.41520094871520996,0.019818246364593506],\"z\":[0.6035500764846802,0.09914249181747437],\"type\":\"scatter3d\"},{\"line\":{\"width\":5},\"mode\":\"lines\",\"x\":[-0.6806874871253967,0.14475864171981812],\"y\":[-0.41520094871520996,-0.35156670212745667],\"z\":[0.6035500764846802,0.0426674485206604],\"type\":\"scatter3d\"},{\"line\":{\"width\":5},\"mode\":\"lines\",\"x\":[-0.6806874871253967,-0.1540117859840393],\"y\":[-0.41520094871520996,0.1784428358078003],\"z\":[0.6035500764846802,-0.004890322685241699],\"type\":\"scatter3d\"},{\"line\":{\"width\":5},\"mode\":\"lines\",\"x\":[-0.6806874871253967,-0.2470257580280304],\"y\":[-0.41520094871520996,0.12020355463027954],\"z\":[0.6035500764846802,-0.12121158838272095],\"type\":\"scatter3d\"},{\"line\":{\"width\":5},\"mode\":\"lines\",\"x\":[-0.6806874871253967,-0.23396575450897217],\"y\":[-0.41520094871520996,0.3250221014022827],\"z\":[0.6035500764846802,0.10104680061340332],\"type\":\"scatter3d\"},{\"line\":{\"width\":5},\"mode\":\"lines\",\"x\":[-0.6806874871253967,-0.02060568332672119],\"y\":[-0.41520094871520996,-0.08824276924133301],\"z\":[0.6035500764846802,-0.07275635004043579],\"type\":\"scatter3d\"},{\"line\":{\"width\":5},\"mode\":\"lines\",\"x\":[-0.6806874871253967,0.005225837230682373],\"y\":[-0.41520094871520996,-0.07089710235595703],\"z\":[0.6035500764846802,-0.03752541542053223],\"type\":\"scatter3d\"},{\"line\":{\"width\":5},\"mode\":\"lines\",\"x\":[-0.6806874871253967,-0.018476486206054688],\"y\":[-0.41520094871520996,-0.09097358584403992],\"z\":[0.6035500764846802,-0.07198911905288696],\"type\":\"scatter3d\"},{\"line\":{\"width\":5},\"mode\":\"lines\",\"x\":[-0.6806874871253967,0.000744163990020752],\"y\":[-0.41520094871520996,-0.1839216649532318],\"z\":[0.6035500764846802,-0.0908278226852417],\"type\":\"scatter3d\"},{\"line\":{\"width\":5},\"mode\":\"lines\",\"x\":[-0.6806874871253967,0.1433355212211609],\"y\":[-0.41520094871520996,-0.23596692085266113],\"z\":[0.6035500764846802,0.06609195470809937],\"type\":\"scatter3d\"},{\"line\":{\"width\":5},\"mode\":\"lines\",\"x\":[-0.6806874871253967,-0.031814634799957275],\"y\":[-0.41520094871520996,-0.216116264462471],\"z\":[0.6035500764846802,-0.13084030151367188],\"type\":\"scatter3d\"},{\"line\":{\"width\":5},\"mode\":\"lines\",\"x\":[-0.6806874871253967,-0.11301898956298828],\"y\":[-0.41520094871520996,0.030114591121673584],\"z\":[0.6035500764846802,-0.08887070417404175],\"type\":\"scatter3d\"},{\"line\":{\"width\":5},\"mode\":\"lines\",\"x\":[-0.6806874871253967,0.03820735216140747],\"y\":[-0.41520094871520996,-0.033059895038604736],\"z\":[0.6035500764846802,0.022896647453308105],\"type\":\"scatter3d\"},{\"line\":{\"width\":5},\"mode\":\"lines\",\"x\":[-0.6806874871253967,-0.432102769613266],\"y\":[-0.41520094871520996,0.2932949662208557],\"z\":[0.6035500764846802,-0.0569339394569397],\"type\":\"scatter3d\"},{\"line\":{\"width\":5},\"mode\":\"lines\",\"x\":[-0.6806874871253967,0.27173346281051636],\"y\":[-0.41520094871520996,-0.26887044310569763],\"z\":[0.6035500764846802,0.3361894488334656],\"type\":\"scatter3d\"},{\"line\":{\"width\":5},\"mode\":\"lines\",\"x\":[-0.6806874871253967,-0.36510688066482544],\"y\":[-0.41520094871520996,-0.045960456132888794],\"z\":[0.6035500764846802,-0.2705610990524292],\"type\":\"scatter3d\"},{\"line\":{\"width\":5},\"mode\":\"lines\",\"x\":[-0.6806874871253967,0.15802782773971558],\"y\":[-0.41520094871520996,-0.04932275414466858],\"z\":[0.6035500764846802,0.20020204782485962],\"type\":\"scatter3d\"},{\"line\":{\"width\":5},\"mode\":\"lines\",\"x\":[-0.6806874871253967,-0.21221312880516052],\"y\":[-0.41520094871520996,0.1734415888786316],\"z\":[0.6035500764846802,-0.05526077747344971],\"type\":\"scatter3d\"},{\"line\":{\"width\":5},\"mode\":\"lines\",\"x\":[-0.6806874871253967,0.24750423431396484],\"y\":[-0.41520094871520996,-0.16824157536029816],\"z\":[0.6035500764846802,0.32521355152130127],\"type\":\"scatter3d\"},{\"line\":{\"width\":5},\"mode\":\"lines\",\"x\":[-0.6806874871253967,-0.3066057860851288],\"y\":[-0.41520094871520996,0.14955711364746094],\"z\":[0.6035500764846802,-0.13205254077911377],\"type\":\"scatter3d\"},{\"line\":{\"width\":5},\"mode\":\"lines\",\"x\":[-0.6806874871253967,-0.17611163854599],\"y\":[-0.41520094871520996,-0.36110836267471313],\"z\":[0.6035500764846802,-0.258121132850647],\"type\":\"scatter3d\"}],                        {\"template\":{\"data\":{\"histogram2dcontour\":[{\"type\":\"histogram2dcontour\",\"colorbar\":{\"outlinewidth\":0,\"ticks\":\"\"},\"colorscale\":[[0.0,\"#0d0887\"],[0.1111111111111111,\"#46039f\"],[0.2222222222222222,\"#7201a8\"],[0.3333333333333333,\"#9c179e\"],[0.4444444444444444,\"#bd3786\"],[0.5555555555555556,\"#d8576b\"],[0.6666666666666666,\"#ed7953\"],[0.7777777777777778,\"#fb9f3a\"],[0.8888888888888888,\"#fdca26\"],[1.0,\"#f0f921\"]]}],\"choropleth\":[{\"type\":\"choropleth\",\"colorbar\":{\"outlinewidth\":0,\"ticks\":\"\"}}],\"histogram2d\":[{\"type\":\"histogram2d\",\"colorbar\":{\"outlinewidth\":0,\"ticks\":\"\"},\"colorscale\":[[0.0,\"#0d0887\"],[0.1111111111111111,\"#46039f\"],[0.2222222222222222,\"#7201a8\"],[0.3333333333333333,\"#9c179e\"],[0.4444444444444444,\"#bd3786\"],[0.5555555555555556,\"#d8576b\"],[0.6666666666666666,\"#ed7953\"],[0.7777777777777778,\"#fb9f3a\"],[0.8888888888888888,\"#fdca26\"],[1.0,\"#f0f921\"]]}],\"heatmap\":[{\"type\":\"heatmap\",\"colorbar\":{\"outlinewidth\":0,\"ticks\":\"\"},\"colorscale\":[[0.0,\"#0d0887\"],[0.1111111111111111,\"#46039f\"],[0.2222222222222222,\"#7201a8\"],[0.3333333333333333,\"#9c179e\"],[0.4444444444444444,\"#bd3786\"],[0.5555555555555556,\"#d8576b\"],[0.6666666666666666,\"#ed7953\"],[0.7777777777777778,\"#fb9f3a\"],[0.8888888888888888,\"#fdca26\"],[1.0,\"#f0f921\"]]}],\"heatmapgl\":[{\"type\":\"heatmapgl\",\"colorbar\":{\"outlinewidth\":0,\"ticks\":\"\"},\"colorscale\":[[0.0,\"#0d0887\"],[0.1111111111111111,\"#46039f\"],[0.2222222222222222,\"#7201a8\"],[0.3333333333333333,\"#9c179e\"],[0.4444444444444444,\"#bd3786\"],[0.5555555555555556,\"#d8576b\"],[0.6666666666666666,\"#ed7953\"],[0.7777777777777778,\"#fb9f3a\"],[0.8888888888888888,\"#fdca26\"],[1.0,\"#f0f921\"]]}],\"contourcarpet\":[{\"type\":\"contourcarpet\",\"colorbar\":{\"outlinewidth\":0,\"ticks\":\"\"}}],\"contour\":[{\"type\":\"contour\",\"colorbar\":{\"outlinewidth\":0,\"ticks\":\"\"},\"colorscale\":[[0.0,\"#0d0887\"],[0.1111111111111111,\"#46039f\"],[0.2222222222222222,\"#7201a8\"],[0.3333333333333333,\"#9c179e\"],[0.4444444444444444,\"#bd3786\"],[0.5555555555555556,\"#d8576b\"],[0.6666666666666666,\"#ed7953\"],[0.7777777777777778,\"#fb9f3a\"],[0.8888888888888888,\"#fdca26\"],[1.0,\"#f0f921\"]]}],\"surface\":[{\"type\":\"surface\",\"colorbar\":{\"outlinewidth\":0,\"ticks\":\"\"},\"colorscale\":[[0.0,\"#0d0887\"],[0.1111111111111111,\"#46039f\"],[0.2222222222222222,\"#7201a8\"],[0.3333333333333333,\"#9c179e\"],[0.4444444444444444,\"#bd3786\"],[0.5555555555555556,\"#d8576b\"],[0.6666666666666666,\"#ed7953\"],[0.7777777777777778,\"#fb9f3a\"],[0.8888888888888888,\"#fdca26\"],[1.0,\"#f0f921\"]]}],\"mesh3d\":[{\"type\":\"mesh3d\",\"colorbar\":{\"outlinewidth\":0,\"ticks\":\"\"}}],\"scatter\":[{\"fillpattern\":{\"fillmode\":\"overlay\",\"size\":10,\"solidity\":0.2},\"type\":\"scatter\"}],\"parcoords\":[{\"type\":\"parcoords\",\"line\":{\"colorbar\":{\"outlinewidth\":0,\"ticks\":\"\"}}}],\"scatterpolargl\":[{\"type\":\"scatterpolargl\",\"marker\":{\"colorbar\":{\"outlinewidth\":0,\"ticks\":\"\"}}}],\"bar\":[{\"error_x\":{\"color\":\"#2a3f5f\"},\"error_y\":{\"color\":\"#2a3f5f\"},\"marker\":{\"line\":{\"color\":\"#E5ECF6\",\"width\":0.5},\"pattern\":{\"fillmode\":\"overlay\",\"size\":10,\"solidity\":0.2}},\"type\":\"bar\"}],\"scattergeo\":[{\"type\":\"scattergeo\",\"marker\":{\"colorbar\":{\"outlinewidth\":0,\"ticks\":\"\"}}}],\"scatterpolar\":[{\"type\":\"scatterpolar\",\"marker\":{\"colorbar\":{\"outlinewidth\":0,\"ticks\":\"\"}}}],\"histogram\":[{\"marker\":{\"pattern\":{\"fillmode\":\"overlay\",\"size\":10,\"solidity\":0.2}},\"type\":\"histogram\"}],\"scattergl\":[{\"type\":\"scattergl\",\"marker\":{\"colorbar\":{\"outlinewidth\":0,\"ticks\":\"\"}}}],\"scatter3d\":[{\"type\":\"scatter3d\",\"line\":{\"colorbar\":{\"outlinewidth\":0,\"ticks\":\"\"}},\"marker\":{\"colorbar\":{\"outlinewidth\":0,\"ticks\":\"\"}}}],\"scattermapbox\":[{\"type\":\"scattermapbox\",\"marker\":{\"colorbar\":{\"outlinewidth\":0,\"ticks\":\"\"}}}],\"scatterternary\":[{\"type\":\"scatterternary\",\"marker\":{\"colorbar\":{\"outlinewidth\":0,\"ticks\":\"\"}}}],\"scattercarpet\":[{\"type\":\"scattercarpet\",\"marker\":{\"colorbar\":{\"outlinewidth\":0,\"ticks\":\"\"}}}],\"carpet\":[{\"aaxis\":{\"endlinecolor\":\"#2a3f5f\",\"gridcolor\":\"white\",\"linecolor\":\"white\",\"minorgridcolor\":\"white\",\"startlinecolor\":\"#2a3f5f\"},\"baxis\":{\"endlinecolor\":\"#2a3f5f\",\"gridcolor\":\"white\",\"linecolor\":\"white\",\"minorgridcolor\":\"white\",\"startlinecolor\":\"#2a3f5f\"},\"type\":\"carpet\"}],\"table\":[{\"cells\":{\"fill\":{\"color\":\"#EBF0F8\"},\"line\":{\"color\":\"white\"}},\"header\":{\"fill\":{\"color\":\"#C8D4E3\"},\"line\":{\"color\":\"white\"}},\"type\":\"table\"}],\"barpolar\":[{\"marker\":{\"line\":{\"color\":\"#E5ECF6\",\"width\":0.5},\"pattern\":{\"fillmode\":\"overlay\",\"size\":10,\"solidity\":0.2}},\"type\":\"barpolar\"}],\"pie\":[{\"automargin\":true,\"type\":\"pie\"}]},\"layout\":{\"autotypenumbers\":\"strict\",\"colorway\":[\"#636efa\",\"#EF553B\",\"#00cc96\",\"#ab63fa\",\"#FFA15A\",\"#19d3f3\",\"#FF6692\",\"#B6E880\",\"#FF97FF\",\"#FECB52\"],\"font\":{\"color\":\"#2a3f5f\"},\"hovermode\":\"closest\",\"hoverlabel\":{\"align\":\"left\"},\"paper_bgcolor\":\"white\",\"plot_bgcolor\":\"#E5ECF6\",\"polar\":{\"bgcolor\":\"#E5ECF6\",\"angularaxis\":{\"gridcolor\":\"white\",\"linecolor\":\"white\",\"ticks\":\"\"},\"radialaxis\":{\"gridcolor\":\"white\",\"linecolor\":\"white\",\"ticks\":\"\"}},\"ternary\":{\"bgcolor\":\"#E5ECF6\",\"aaxis\":{\"gridcolor\":\"white\",\"linecolor\":\"white\",\"ticks\":\"\"},\"baxis\":{\"gridcolor\":\"white\",\"linecolor\":\"white\",\"ticks\":\"\"},\"caxis\":{\"gridcolor\":\"white\",\"linecolor\":\"white\",\"ticks\":\"\"}},\"coloraxis\":{\"colorbar\":{\"outlinewidth\":0,\"ticks\":\"\"}},\"colorscale\":{\"sequential\":[[0.0,\"#0d0887\"],[0.1111111111111111,\"#46039f\"],[0.2222222222222222,\"#7201a8\"],[0.3333333333333333,\"#9c179e\"],[0.4444444444444444,\"#bd3786\"],[0.5555555555555556,\"#d8576b\"],[0.6666666666666666,\"#ed7953\"],[0.7777777777777778,\"#fb9f3a\"],[0.8888888888888888,\"#fdca26\"],[1.0,\"#f0f921\"]],\"sequentialminus\":[[0.0,\"#0d0887\"],[0.1111111111111111,\"#46039f\"],[0.2222222222222222,\"#7201a8\"],[0.3333333333333333,\"#9c179e\"],[0.4444444444444444,\"#bd3786\"],[0.5555555555555556,\"#d8576b\"],[0.6666666666666666,\"#ed7953\"],[0.7777777777777778,\"#fb9f3a\"],[0.8888888888888888,\"#fdca26\"],[1.0,\"#f0f921\"]],\"diverging\":[[0,\"#8e0152\"],[0.1,\"#c51b7d\"],[0.2,\"#de77ae\"],[0.3,\"#f1b6da\"],[0.4,\"#fde0ef\"],[0.5,\"#f7f7f7\"],[0.6,\"#e6f5d0\"],[0.7,\"#b8e186\"],[0.8,\"#7fbc41\"],[0.9,\"#4d9221\"],[1,\"#276419\"]]},\"xaxis\":{\"gridcolor\":\"white\",\"linecolor\":\"white\",\"ticks\":\"\",\"title\":{\"standoff\":15},\"zerolinecolor\":\"white\",\"automargin\":true,\"zerolinewidth\":2},\"yaxis\":{\"gridcolor\":\"white\",\"linecolor\":\"white\",\"ticks\":\"\",\"title\":{\"standoff\":15},\"zerolinecolor\":\"white\",\"automargin\":true,\"zerolinewidth\":2},\"scene\":{\"xaxis\":{\"backgroundcolor\":\"#E5ECF6\",\"gridcolor\":\"white\",\"linecolor\":\"white\",\"showbackground\":true,\"ticks\":\"\",\"zerolinecolor\":\"white\",\"gridwidth\":2},\"yaxis\":{\"backgroundcolor\":\"#E5ECF6\",\"gridcolor\":\"white\",\"linecolor\":\"white\",\"showbackground\":true,\"ticks\":\"\",\"zerolinecolor\":\"white\",\"gridwidth\":2},\"zaxis\":{\"backgroundcolor\":\"#E5ECF6\",\"gridcolor\":\"white\",\"linecolor\":\"white\",\"showbackground\":true,\"ticks\":\"\",\"zerolinecolor\":\"white\",\"gridwidth\":2}},\"shapedefaults\":{\"line\":{\"color\":\"#2a3f5f\"}},\"annotationdefaults\":{\"arrowcolor\":\"#2a3f5f\",\"arrowhead\":0,\"arrowwidth\":1},\"geo\":{\"bgcolor\":\"white\",\"landcolor\":\"#E5ECF6\",\"subunitcolor\":\"white\",\"showland\":true,\"showlakes\":true,\"lakecolor\":\"white\"},\"title\":{\"x\":0.05},\"mapbox\":{\"style\":\"light\"}}},\"scene\":{\"xaxis\":{\"range\":[-2,2],\"autorange\":false,\"zeroline\":false},\"yaxis\":{\"range\":[-2,2],\"autorange\":false,\"zeroline\":false},\"zaxis\":{\"range\":[-2,2],\"autorange\":false,\"zeroline\":false},\"aspectmode\":\"cube\"}},                        {\"responsive\": true}                    ).then(function(){\n",
              "                            \n",
              "var gd = document.getElementById('42a80efa-596f-498d-8e5e-de92608fb95e');\n",
              "var x = new MutationObserver(function (mutations, observer) {{\n",
              "        var display = window.getComputedStyle(gd).display;\n",
              "        if (!display || display === 'none') {{\n",
              "            console.log([gd, 'removed!']);\n",
              "            Plotly.purge(gd);\n",
              "            observer.disconnect();\n",
              "        }}\n",
              "}});\n",
              "\n",
              "// Listen for the removal of the full notebook cells\n",
              "var notebookContainer = gd.closest('#notebook-container');\n",
              "if (notebookContainer) {{\n",
              "    x.observe(notebookContainer, {childList: true});\n",
              "}}\n",
              "\n",
              "// Listen for the clearing of the current output cell\n",
              "var outputEl = gd.closest('.output');\n",
              "if (outputEl) {{\n",
              "    x.observe(outputEl, {childList: true});\n",
              "}}\n",
              "\n",
              "                        })                };                });            </script>        </div>"
            ]
          },
          "metadata": {},
          "output_type": "display_data"
        }
      ],
      "source": [
        "# plot position as point and normal as line with arrow head using plotly\n",
        "import plotly.graph_objects as go\n",
        "import numpy as np\n",
        "\n",
        "positions = samples.origins.cpu().detach().numpy() # [N, 3]\n",
        "directions = samples.directions.cpu().detach().numpy() # [N, 3]\n",
        "normals = -positions\n",
        "# plot position as point and normal as line with arrow head using plotly\n",
        "fig = go.Figure()\n",
        "\n",
        "# Add position points\n",
        "fig.add_trace(go.Scatter3d(x=positions[:, 0], y=positions[:, 1], z=positions[:, 2], mode='markers'))\n",
        "\n",
        "position = positions[0]\n",
        "\n",
        "# Add normal vector lines\n",
        "for i, normal in enumerate(normals):\n",
        "    fig.add_trace(go.Scatter3d(x=[position[0], normal[0]+position[0]], y=[position[1], normal[1]+position[1]], z=[position[2], normal[2]+position[2]], mode='lines', line=dict(width=15)))\n",
        "\n",
        "\n",
        "for j, direction in enumerate(directions):\n",
        "    # Add direction vector lines\n",
        "    fig.add_trace(go.Scatter3d(x=[position[0], direction[0]+position[0]], y=[position[1], direction[1]+position[1]], z=[position[2], direction[2]+position[2]], mode='lines', line=dict(width=5)))\n",
        "\n",
        "\n",
        "# set square and all axes equal\n",
        "fig.update_layout(\n",
        "    scene=dict(\n",
        "        aspectmode='cube',\n",
        "        xaxis=dict(range=[-2, 2], autorange=False, zeroline=False),\n",
        "        yaxis=dict(range=[-2, 2], autorange=False, zeroline=False),\n",
        "        zaxis=dict(range=[-2, 2], autorange=False, zeroline=False),\n",
        "    )\n",
        ")\n",
        "\n",
        "fig.show()"
      ]
    },
    {
      "cell_type": "code",
      "execution_count": 16,
      "metadata": {},
      "outputs": [
        {
          "name": "stdout",
          "output_type": "stream",
          "text": [
            "[0.99999994 0.99999994 1.         1.         0.99999994 1.\n",
            " 1.         0.99999994 0.99999994 1.        ]\n"
          ]
        }
      ],
      "source": [
        "# print the norms of the directions\n",
        "print(np.linalg.norm(directions, axis=1))"
      ]
    },
    {
      "cell_type": "code",
      "execution_count": 11,
      "metadata": {},
      "outputs": [
        {
          "name": "stdout",
          "output_type": "stream",
          "text": [
            "[1. 1. 1. 1. 1. 1. 1. 1. 1. 1.]\n"
          ]
        }
      ],
      "source": [
        "print(np.linalg.norm(positions, axis=1))"
      ]
    },
    {
      "cell_type": "code",
      "execution_count": 3,
      "metadata": {},
      "outputs": [
        {
          "data": {
            "application/vnd.plotly.v1+json": {
              "config": {
                "plotlyServerURL": "https://plot.ly"
              },
              "data": [
                {
                  "line": {
                    "width": 5
                  },
                  "marker": {
                    "size": 1
                  },
                  "mode": "lines",
                  "type": "scatter3d",
                  "x": [
                    -0.8116552829742432,
                    0
                  ],
                  "y": [
                    0.22163844108581543,
                    0
                  ],
                  "z": [
                    -0.5404554605484009,
                    0
                  ]
                },
                {
                  "marker": {
                    "size": 1
                  },
                  "mode": "markers",
                  "type": "scatter3d",
                  "x": [
                    0.897982656955719,
                    0.7219313383102417,
                    0.6571714878082275,
                    0.8104338049888611,
                    0.7214471101760864,
                    0.8775702118873596,
                    0.2911229431629181,
                    0.8375489711761475,
                    0.6513507962226868,
                    0.9097984433174133,
                    0.8299897313117981,
                    0.8870172500610352,
                    0.9403630495071411,
                    0.9948338270187378,
                    0.5251405239105225,
                    0.7694789171218872,
                    0.9621612429618835,
                    0.9086024761199951,
                    0.8131635785102844,
                    0.7030050754547119,
                    0.5616933107376099,
                    0.29430243372917175,
                    0.6670153737068176,
                    0.7380115389823914,
                    0.9367145299911499,
                    0.39622676372528076,
                    0.788059413433075,
                    0.8398663401603699,
                    0.864450216293335,
                    0.9212933778762817,
                    0.7792111039161682,
                    0.8596011400222778,
                    0.672232449054718,
                    0.49001383781433105,
                    0.921742856502533,
                    0.5575623512268066,
                    0.6073543429374695,
                    0.8008061647415161,
                    0.5640548467636108,
                    0.7905396223068237,
                    0.8865705728530884,
                    0.5751501321792603,
                    0.6971482634544373,
                    0.9254368543624878,
                    0.821526050567627,
                    0.9882504940032959,
                    0.8471223711967468,
                    0.875604510307312,
                    0.9943035840988159,
                    0.8274443745613098,
                    0.8242490887641907,
                    0.8725313544273376,
                    0.7806716561317444,
                    0.977215051651001,
                    0.7866759896278381,
                    0.8691886067390442,
                    0.7056305408477783,
                    0.9139595031738281,
                    0.8037632703781128,
                    0.7633294463157654,
                    0.6445627212524414,
                    0.8582859635353088,
                    0.8953549265861511,
                    0.5508710145950317,
                    0.9915474653244019,
                    0.4898364543914795,
                    0.7862759828567505,
                    0.9981323480606079,
                    0.46553125977516174,
                    0.9308043122291565,
                    0.6649129390716553,
                    0.7160852551460266,
                    0.9731003046035767,
                    0.4777335524559021,
                    0.7272477746009827,
                    0.9896279573440552,
                    0.8781280517578125,
                    0.9852731823921204,
                    0.7378262877464294,
                    0.905781626701355,
                    0.6834938526153564,
                    0.9844772219657898,
                    0.6181434392929077,
                    0.636282205581665,
                    0.9811687469482422,
                    0.7749540209770203,
                    0.9085724353790283,
                    0.8184828758239746,
                    0.7799087166786194,
                    0.8249726891517639,
                    0.8922359943389893,
                    0.9180548191070557,
                    0.8810349702835083,
                    0.7065079808235168,
                    0.46687209606170654,
                    0.6372809410095215,
                    0.5611083507537842,
                    0.9070998430252075,
                    0.8270994424819946,
                    0.7040992975234985,
                    0.502439022064209,
                    0.4781002700328827,
                    0.573016881942749,
                    0.9375773668289185,
                    0.33267107605934143,
                    0.5505918264389038,
                    0.23427006602287292,
                    0.505351722240448,
                    0.9820525646209717,
                    0.5777749419212341,
                    0.8600558638572693,
                    0.8378320932388306,
                    0.8771757483482361,
                    0.6683862805366516,
                    0.7039496302604675,
                    0.8108348250389099,
                    0.7726730108261108,
                    0.5565152168273926,
                    0.9268139600753784,
                    0.7442583441734314,
                    0.7897526025772095,
                    0.8130808472633362,
                    0.8239551782608032,
                    0.900051474571228,
                    0.6716905832290649,
                    0.841412365436554,
                    0.8974511623382568,
                    0.9691978096961975,
                    0.8679442405700684,
                    0.8065459728240967,
                    0.40122973918914795,
                    0.9800884127616882,
                    0.807877779006958,
                    0.654469907283783,
                    0.6865469217300415,
                    0.8658620119094849,
                    0.7388162016868591,
                    0.9565175771713257,
                    0.8390214443206787,
                    0.7364815473556519,
                    0.7706224918365479,
                    0.4651367664337158,
                    0.7802609801292419,
                    0.7867847084999084,
                    0.8529609441757202,
                    0.675127387046814,
                    0.9756359457969666,
                    0.7090417146682739,
                    0.5971358418464661,
                    0.7945683598518372,
                    0.8177849054336548,
                    0.6869798302650452,
                    0.7763704061508179,
                    0.7312489748001099,
                    0.8313958644866943,
                    0.2960335612297058,
                    0.6524728536605835,
                    0.8840003609657288,
                    0.578325629234314,
                    0.673548698425293,
                    0.8396571278572083,
                    0.8833172917366028,
                    0.7862012386322021,
                    0.6493253707885742,
                    0.8757827281951904,
                    0.5823993682861328,
                    0.8864440321922302,
                    0.8202491402626038,
                    0.7295974493026733,
                    0.722957193851471,
                    0.8738084435462952,
                    0.8299815058708191,
                    0.4808773398399353,
                    0.5702015161514282,
                    0.9861918687820435,
                    0.8959759473800659,
                    0.9142338633537292,
                    0.769061803817749,
                    0.9338885545730591,
                    0.8348582983016968,
                    0.7621884346008301,
                    0.9059523940086365,
                    0.6164193153381348,
                    0.9654136896133423,
                    0.7801513671875,
                    0.6499836444854736,
                    0.8294307589530945,
                    0.9001306295394897,
                    0.5088698267936707,
                    0.8152002692222595,
                    0.8084571957588196,
                    0.5713115930557251,
                    0.5111913084983826,
                    0.7719973921775818,
                    0.8048612475395203,
                    0.7887051701545715,
                    0.7672560214996338,
                    0.5867350697517395,
                    0.7315872311592102,
                    0.7774571776390076,
                    0.8193324208259583,
                    0.6872822046279907,
                    0.8259313702583313,
                    0.5988860726356506,
                    0.8673986792564392,
                    0.8509957790374756,
                    0.8554957509040833,
                    0.754400908946991,
                    0.5359010696411133,
                    0.33702346682548523,
                    0.6265183687210083,
                    0.8430206775665283,
                    0.6417288184165955,
                    0.7234805822372437,
                    0.6015992164611816,
                    0.8363777995109558,
                    0.6859146356582642,
                    0.6767220497131348,
                    0.7912715673446655,
                    0.8592422604560852,
                    0.910063624382019,
                    0.4583246111869812,
                    0.841119647026062,
                    0.8169364333152771,
                    0.7034367322921753,
                    0.8398217558860779,
                    0.883635938167572,
                    0.9175963401794434,
                    0.6745848655700684,
                    0.8831773996353149,
                    0.934746265411377,
                    0.649867832660675,
                    0.700559139251709,
                    0.6643575429916382,
                    0.6240944862365723,
                    0.753584623336792,
                    0.711219072341919,
                    0.8130252361297607,
                    0.6477957367897034,
                    0.6867796182632446,
                    0.8178458213806152,
                    0.5405728816986084,
                    0.8286172747612,
                    0.8422930240631104,
                    0.723596453666687,
                    0.7674311995506287,
                    0.9602481126785278,
                    0.7456597685813904,
                    0.3506948947906494,
                    0.9931269288063049,
                    0.4500848054885864,
                    0.6090938448905945,
                    0.5168072581291199,
                    0.7642201781272888,
                    0.8369854688644409,
                    0.8098601698875427,
                    0.8826835751533508,
                    0.5616703033447266,
                    0.8826302886009216,
                    0.939638078212738,
                    0.942812442779541,
                    0.6207830905914307,
                    0.7917425632476807,
                    0.43329647183418274,
                    0.958989143371582,
                    0.9131231904029846,
                    0.34492191672325134,
                    0.9138971567153931,
                    0.8412328958511353,
                    0.5686004161834717,
                    0.8071176409721375,
                    0.6545424461364746,
                    0.9354703426361084,
                    0.8051309585571289,
                    0.5466818809509277,
                    0.6948729753494263,
                    0.7868017554283142,
                    0.4828121066093445,
                    0.6998586654663086,
                    0.9560106992721558,
                    0.74360191822052,
                    0.7995469570159912,
                    0.8487070798873901,
                    0.8092689514160156,
                    0.6631868481636047,
                    0.8902742862701416,
                    0.7937372326850891,
                    0.41320258378982544,
                    0.5858994126319885,
                    0.7692492008209229,
                    0.7277477979660034,
                    0.8474482297897339,
                    0.5824792385101318,
                    0.18605464696884155,
                    0.7780824303627014,
                    0.6625436544418335,
                    0.7137975096702576,
                    0.7853643894195557,
                    0.5173349380493164,
                    0.7972052097320557,
                    0.5620784163475037,
                    0.828701913356781,
                    0.9474926590919495,
                    0.3204050660133362,
                    0.7267551422119141,
                    0.6221783757209778,
                    0.7890436053276062,
                    0.9154248237609863,
                    0.7352951765060425,
                    0.5641171336174011,
                    0.6940626502037048,
                    0.6531720757484436,
                    0.7482134699821472,
                    0.7755073308944702,
                    0.8824447393417358,
                    0.7521414160728455,
                    0.8047305941581726,
                    0.8210841417312622,
                    0.9044263362884521,
                    0.9310660362243652,
                    0.5969147682189941,
                    0.5850178599357605,
                    0.89128577709198,
                    0.9626518487930298,
                    0.9149606227874756,
                    0.47464680671691895,
                    0.7986042499542236,
                    0.9547088146209717,
                    0.4068625867366791,
                    0.7630199790000916,
                    0.7539470791816711,
                    0.2135767936706543,
                    0.8275275826454163,
                    0.9332698583602905,
                    0.42583805322647095,
                    0.6894553899765015,
                    0.7481992244720459,
                    0.902787446975708,
                    0.8138512372970581,
                    0.8374907374382019,
                    0.8705743551254272,
                    0.6732912659645081,
                    0.35104188323020935,
                    0.9654563665390015,
                    0.7083545327186584,
                    0.9996313452720642,
                    0.7835386991500854,
                    0.7961388826370239,
                    0.8264421224594116,
                    0.714773952960968,
                    0.948249340057373,
                    0.7259975075721741,
                    0.6476040482521057,
                    0.6657552719116211,
                    0.6226276159286499,
                    0.7781160473823547,
                    0.5571132898330688,
                    0.7129875421524048,
                    0.8990098834037781,
                    0.7515483498573303,
                    0.7169449925422668,
                    0.8348647952079773,
                    0.581445574760437,
                    0.6485726833343506,
                    0.8289716839790344,
                    0.8327881693840027,
                    0.8703567385673523,
                    0.6987356543540955,
                    0.6115397214889526,
                    0.7811655402183533,
                    0.65716552734375,
                    0.9070289731025696,
                    0.6654434204101562,
                    0.783427894115448,
                    0.9507849812507629,
                    0.947242021560669,
                    0.8704806566238403,
                    0.8651930689811707,
                    0.9222763180732727,
                    0.7315087914466858,
                    0.8437765836715698,
                    0.8038713335990906,
                    0.6534196734428406,
                    0.6084856390953064,
                    0.706432580947876,
                    0.8532620072364807,
                    0.7809981107711792,
                    0.8413462042808533,
                    0.9276159405708313,
                    0.4718899726867676,
                    0.5120160579681396,
                    0.7602404356002808,
                    0.9370175004005432,
                    0.5963877439498901,
                    0.5621654391288757,
                    0.9299155473709106,
                    0.7843043208122253,
                    0.789747416973114,
                    0.8840950131416321,
                    0.8422146439552307,
                    0.3840176463127136,
                    0.6866605877876282,
                    0.4730186462402344,
                    0.9424437284469604,
                    0.6151749491691589,
                    0.9846322536468506,
                    0.7116809487342834,
                    0.8539788722991943,
                    0.6144248247146606,
                    0.7492404580116272,
                    0.6946083307266235,
                    0.754167377948761,
                    0.8078001737594604,
                    0.26069268584251404,
                    0.914340615272522,
                    0.7210520505905151,
                    0.722478985786438,
                    0.5464016795158386,
                    0.9082140922546387,
                    0.8226576447486877,
                    0.6907533407211304,
                    0.8636337518692017,
                    0.8778191208839417,
                    0.45221206545829773,
                    0.7575885653495789,
                    0.6296511888504028,
                    0.5418727397918701,
                    0.9860700368881226,
                    0.8351033329963684,
                    0.535304069519043,
                    0.9136354923248291,
                    0.8320966362953186,
                    0.8814699649810791,
                    0.8587301969528198,
                    0.6009805202484131,
                    0.9989525079727173,
                    0.6588520407676697,
                    0.5409134030342102,
                    0.8057772517204285,
                    0.6005931496620178,
                    0.720740556716919,
                    0.6582958102226257,
                    0.5561786890029907,
                    0.7609378695487976,
                    0.8444446921348572,
                    0.8036463260650635,
                    0.8007038235664368,
                    0.7102251648902893,
                    0.9155256748199463,
                    0.5040292739868164,
                    0.7653661370277405,
                    0.8580694198608398,
                    0.8233509659767151,
                    0.9151164293289185,
                    0.28722965717315674,
                    0.6274473071098328,
                    0.7775697112083435,
                    0.7925137281417847,
                    0.7432414889335632,
                    0.9483159184455872,
                    0.9054579138755798,
                    0.7166182994842529,
                    0.3598642945289612,
                    0.6303149461746216,
                    0.6637917160987854,
                    0.7637219429016113,
                    0.9239697456359863,
                    0.8572683334350586,
                    0.8961770534515381,
                    0.7609966397285461,
                    0.6434816122055054,
                    0.7877461314201355,
                    0.8025457262992859,
                    0.9150067567825317,
                    0.9323034286499023,
                    0.9313159584999084,
                    0.9263942241668701,
                    0.8305244445800781,
                    0.5469938516616821,
                    0.534467339515686,
                    0.9978549480438232,
                    0.7237849235534668,
                    0.8980949521064758,
                    0.8513045310974121,
                    0.8818275332450867,
                    0.937631368637085,
                    0.8425990343093872,
                    0.7794901728630066,
                    0.7537097930908203,
                    0.8683544397354126,
                    0.8725327849388123,
                    0.7764369249343872,
                    0.822426974773407,
                    0.6265206336975098,
                    0.5827076435089111,
                    0.7731776833534241,
                    0.9298847913742065,
                    0.8555272817611694,
                    0.6602954268455505,
                    0.8072084784507751
                  ],
                  "y": [
                    0.11869777739048004,
                    -0.009524121880531311,
                    -0.03250876069068909,
                    -0.08480489253997803,
                    -0.5318946242332458,
                    -0.44079869985580444,
                    -0.6393029093742371,
                    -0.013037174940109253,
                    -0.1240701973438263,
                    0.10452777147293091,
                    -0.1539997160434723,
                    -0.04937681555747986,
                    -0.21529188752174377,
                    0.054032206535339355,
                    -0.030468598008155823,
                    -0.4795837700366974,
                    0.215814471244812,
                    0.19614872336387634,
                    -0.12470537424087524,
                    -0.5108292102813721,
                    -0.7493926286697388,
                    -0.7876399159431458,
                    -0.09315197914838791,
                    -0.4268946051597595,
                    -0.05889779329299927,
                    -0.17775997519493103,
                    -0.06912806630134583,
                    -0.20969492197036743,
                    0.0413215309381485,
                    -0.3575190305709839,
                    -0.42849448323249817,
                    -0.10013601183891296,
                    -0.35901105403900146,
                    0.08328160643577576,
                    -0.06505991518497467,
                    -0.6255881190299988,
                    -0.4233120083808899,
                    -0.28454017639160156,
                    -0.49429479241371155,
                    -0.18413875997066498,
                    -0.3557114005088806,
                    0.238372340798378,
                    -0.28152358531951904,
                    -0.27694422006607056,
                    -0.24486283957958221,
                    -0.14579959213733673,
                    -0.004858046770095825,
                    -0.2544693946838379,
                    -0.03224372863769531,
                    -0.5459409952163696,
                    -0.3885082006454468,
                    -0.16533352434635162,
                    -0.3533819317817688,
                    -0.21125926077365875,
                    -0.21763432025909424,
                    0.4110420048236847,
                    -0.7068531513214111,
                    -0.17082343995571136,
                    0.09503549337387085,
                    0.31238460540771484,
                    -0.24603889882564545,
                    0.2443028688430786,
                    -0.2129608541727066,
                    -0.3677492141723633,
                    0.07946859300136566,
                    -0.3614926338195801,
                    -0.3915545344352722,
                    0.06092081964015961,
                    -0.21046310663223267,
                    -0.29909539222717285,
                    0.10446609556674957,
                    0.1553722470998764,
                    -0.2150261104106903,
                    0.3368154764175415,
                    -0.28200453519821167,
                    -0.13779322803020477,
                    -0.1738377809524536,
                    -0.1588040292263031,
                    -0.5536915063858032,
                    -0.3451974391937256,
                    -0.41216719150543213,
                    0.1736670434474945,
                    -0.33568131923675537,
                    -0.20198918879032135,
                    -0.19294697046279907,
                    -0.29244858026504517,
                    -0.1124391183257103,
                    -0.042800188064575195,
                    -0.5281422138214111,
                    -0.210594043135643,
                    -0.32986223697662354,
                    -0.3310936987400055,
                    -0.19181790947914124,
                    -0.26351919770240784,
                    -0.6699298620223999,
                    -0.37464264035224915,
                    -0.39239954948425293,
                    -0.3695359528064728,
                    -0.5526670813560486,
                    -0.5496006608009338,
                    0.46741968393325806,
                    -0.29927706718444824,
                    -0.3674311339855194,
                    -0.25047510862350464,
                    -0.5714471936225891,
                    0.14144282042980194,
                    -0.4968508780002594,
                    -0.7668097019195557,
                    0.07540778815746307,
                    -0.4019671678543091,
                    -0.31966984272003174,
                    -0.5248700380325317,
                    0.04003399610519409,
                    -0.3256472945213318,
                    -0.6352865099906921,
                    -0.24223332107067108,
                    -0.15511472523212433,
                    -0.1960783302783966,
                    -0.12227368354797363,
                    -0.2810378670692444,
                    -0.18334847688674927,
                    -0.17166078090667725,
                    -0.23618823289871216,
                    -0.11257795244455338,
                    -0.6908713579177856,
                    -0.19868479669094086,
                    -0.09213724732398987,
                    0.1063927710056305,
                    -0.4361666738986969,
                    -0.026305273175239563,
                    -0.6879063844680786,
                    -0.1624341905117035,
                    -0.4842383861541748,
                    -0.2863120436668396,
                    -0.08279630541801453,
                    -0.4032779932022095,
                    -0.46668335795402527,
                    0.2340604066848755,
                    -0.245530366897583,
                    -0.4114045798778534,
                    -0.3170911967754364,
                    -0.1318163424730301,
                    -0.16365821659564972,
                    -0.17119775712490082,
                    -0.059119805693626404,
                    -0.7376703023910522,
                    -0.025394976139068604,
                    -0.4563116431236267,
                    -0.5503260493278503,
                    -0.33921441435813904,
                    0.06976714730262756,
                    -0.45603978633880615,
                    -0.33317357301712036,
                    -0.2818910479545593,
                    -0.15324975550174713,
                    -0.587569534778595,
                    -0.36145317554473877,
                    0.04788994789123535,
                    -0.43110811710357666,
                    -0.7387572526931763,
                    0.20804740488529205,
                    -0.35837626457214355,
                    -0.12431124597787857,
                    0.01590763032436371,
                    -0.3037708103656769,
                    -0.704971194267273,
                    -0.3909549415111542,
                    -0.4389733672142029,
                    -0.20876018702983856,
                    0.003744572401046753,
                    0.10824820399284363,
                    -0.2385432869195938,
                    -0.6266129612922668,
                    -0.24698638916015625,
                    -0.1650647670030594,
                    -0.27778345346450806,
                    -0.1725960075855255,
                    -0.3896738886833191,
                    -0.24790693819522858,
                    0.12669827044010162,
                    -0.14255984127521515,
                    -0.4038560688495636,
                    -0.38326215744018555,
                    -0.09712926298379898,
                    -0.2140248864889145,
                    -0.6018393039703369,
                    -0.44431328773498535,
                    0.31211739778518677,
                    0.008534178137779236,
                    -0.023382052779197693,
                    -0.30164262652397156,
                    0.06163682043552399,
                    -0.11306261271238327,
                    -0.45780789852142334,
                    -0.4451391398906708,
                    -0.2620660662651062,
                    -0.24130621552467346,
                    -0.7034251689910889,
                    -0.38312220573425293,
                    -0.14951303601264954,
                    -0.43530261516571045,
                    -0.5175317525863647,
                    -0.3624749481678009,
                    -0.3249761760234833,
                    -0.15409395098686218,
                    -0.38752496242523193,
                    -0.2884461283683777,
                    -0.02928696572780609,
                    -0.24854275584220886,
                    0.17310436069965363,
                    -0.07884688675403595,
                    -0.17179886996746063,
                    0.14647908508777618,
                    -0.585206151008606,
                    -0.5514870285987854,
                    -0.5316562652587891,
                    -0.546845555305481,
                    -0.4689555764198303,
                    0.11651720106601715,
                    -0.0898962914943695,
                    -0.26281657814979553,
                    -0.2830745577812195,
                    -0.04767799377441406,
                    -0.4004318118095398,
                    -0.6695922613143921,
                    -0.4773004651069641,
                    -0.4206915497779846,
                    -0.2109667956829071,
                    -0.5820791721343994,
                    -0.21570797264575958,
                    -0.32328173518180847,
                    -0.23996961116790771,
                    -0.20882441103458405,
                    -0.48587238788604736,
                    -0.43553733825683594,
                    -0.5396931767463684,
                    -0.10507800430059433,
                    -0.5822280645370483,
                    -0.4585767388343811,
                    -0.5312665700912476,
                    -0.24352099001407623,
                    0.12681011855602264,
                    -0.059516385197639465,
                    -0.31343185901641846,
                    -0.32016992568969727,
                    -0.3527120053768158,
                    -0.020284906029701233,
                    0.06450715661048889,
                    -0.6636892557144165,
                    0.11273093521595001,
                    -0.3860021233558655,
                    0.1658283770084381,
                    -0.13000130653381348,
                    -0.18844935297966003,
                    -0.3265107274055481,
                    -0.41222983598709106,
                    -0.24106985330581665,
                    -0.21631336212158203,
                    -0.14309273660182953,
                    0.08229608833789825,
                    -0.10297827422618866,
                    -0.07881344854831696,
                    -0.575758159160614,
                    -0.5639082193374634,
                    -0.0677986890077591,
                    -0.21539364755153656,
                    -0.4252468943595886,
                    -0.2667343318462372,
                    -0.3939354419708252,
                    -0.4349691867828369,
                    -0.3942328691482544,
                    -0.33562108874320984,
                    -0.15530075132846832,
                    -0.5073569416999817,
                    -0.5383533239364624,
                    -0.0007914155721664429,
                    -0.12622734904289246,
                    -0.5307766199111938,
                    0.10421678423881531,
                    0.04167921841144562,
                    -0.5188573002815247,
                    -0.37752196192741394,
                    -0.13290688395500183,
                    0.13656270503997803,
                    -0.7409608364105225,
                    -0.3491519093513489,
                    -0.3080887198448181,
                    -0.19864962995052338,
                    -0.45018044114112854,
                    -0.34856510162353516,
                    -0.5238569378852844,
                    -0.145378977060318,
                    -0.5016985535621643,
                    -0.23663946986198425,
                    -0.4686368703842163,
                    -0.25882720947265625,
                    -0.10413122177124023,
                    -0.0788087546825409,
                    -0.4071884751319885,
                    -0.23478835821151733,
                    -0.3233872950077057,
                    0.08716835081577301,
                    -0.12146203219890594,
                    -0.5927706360816956,
                    -0.290562242269516,
                    0.17965339124202728,
                    -0.34483587741851807,
                    -0.04038040339946747,
                    -0.45689499378204346,
                    -0.061170563101768494,
                    -0.12997126579284668,
                    -0.30845385789871216,
                    -0.22351910173892975,
                    -0.29882895946502686,
                    0.04058358073234558,
                    -0.46218234300613403,
                    -0.3844028115272522,
                    -0.1835271716117859,
                    -0.24164652824401855,
                    -0.104349784553051,
                    -0.5044898986816406,
                    -0.7623089551925659,
                    -0.2977585792541504,
                    -0.2664555311203003,
                    -0.40149515867233276,
                    -0.25987619161605835,
                    -0.5253239870071411,
                    -0.06078396737575531,
                    0.042896851897239685,
                    -0.19708643853664398,
                    -0.2883598208427429,
                    -0.7029292583465576,
                    -0.25349748134613037,
                    -0.3581153154373169,
                    -0.3206052780151367,
                    -0.38071054220199585,
                    -0.2635623514652252,
                    -0.03811013698577881,
                    -0.5810519456863403,
                    -0.2494114637374878,
                    0.4290091097354889,
                    -0.3721051812171936,
                    0.15431715548038483,
                    -0.18819519877433777,
                    -0.3410617411136627,
                    -0.026454776525497437,
                    -0.38601016998291016,
                    -0.408924400806427,
                    -0.2164948582649231,
                    -0.4096313416957855,
                    -0.15486472845077515,
                    -0.24820148944854736,
                    0.1569494754076004,
                    -0.409932017326355,
                    0.063937246799469,
                    -0.26198810338974,
                    -0.22531038522720337,
                    -0.27479925751686096,
                    -0.2611633539199829,
                    0.14694054424762726,
                    -0.41112881898880005,
                    -0.12280566245317459,
                    -0.12203487008810043,
                    -0.29827117919921875,
                    -0.0433453768491745,
                    -0.3256394863128662,
                    -0.21062365174293518,
                    -0.616053581237793,
                    -0.48670244216918945,
                    -0.25430047512054443,
                    -0.44926831126213074,
                    -0.08137811720371246,
                    -0.4668935239315033,
                    -0.27212536334991455,
                    0.15870310366153717,
                    0.07229219377040863,
                    0.009378701448440552,
                    -0.06928510963916779,
                    0.09451238811016083,
                    -0.04557071626186371,
                    -0.052056893706321716,
                    -0.1462639570236206,
                    -0.1420600265264511,
                    0.3141461908817291,
                    -0.5865882039070129,
                    -0.488567590713501,
                    0.15822367370128632,
                    -0.44735124707221985,
                    -0.029438093304634094,
                    -0.6681204438209534,
                    0.1835784912109375,
                    -0.20924150943756104,
                    -0.20278336107730865,
                    0.22614626586437225,
                    -0.36397016048431396,
                    0.35479268431663513,
                    0.07746726274490356,
                    -0.43973100185394287,
                    -0.06742088496685028,
                    -0.47181981801986694,
                    -0.6218814849853516,
                    -0.2335420846939087,
                    -0.5857020616531372,
                    -0.22003887593746185,
                    -0.499677836894989,
                    -0.16754071414470673,
                    -0.30942508578300476,
                    -0.30335143208503723,
                    -0.3563632369041443,
                    -0.11936827749013901,
                    -0.307513028383255,
                    -0.3145327568054199,
                    -0.18257412314414978,
                    -0.22268065810203552,
                    -0.2905980944633484,
                    -0.6591200828552246,
                    -0.348697304725647,
                    -0.02052435278892517,
                    0.3280629515647888,
                    -0.1541365683078766,
                    -0.37953564524650574,
                    -0.3283121883869171,
                    -0.28706514835357666,
                    0.33688056468963623,
                    0.3517841398715973,
                    -0.15898080170154572,
                    -0.501918375492096,
                    -0.049430444836616516,
                    0.20513257384300232,
                    -0.3099420964717865,
                    0.16186049580574036,
                    0.15987282991409302,
                    -0.19452182948589325,
                    -0.02018238604068756,
                    -0.4166320860385895,
                    0.03857296705245972,
                    -0.3787408769130707,
                    0.22611799836158752,
                    -0.2485809028148651,
                    -0.7453160285949707,
                    -0.1912456601858139,
                    0.39331260323524475,
                    -0.2626628875732422,
                    -0.23068352043628693,
                    0.2269650250673294,
                    -0.1614196002483368,
                    -0.33537811040878296,
                    -0.21656589210033417,
                    -0.1893642097711563,
                    -0.5738276839256287,
                    0.10523337125778198,
                    -0.2264622002840042,
                    -0.2437753677368164,
                    -0.2433032989501953,
                    -0.791506290435791,
                    -0.751318097114563,
                    -0.5974957346916199,
                    -0.34662842750549316,
                    -0.18214461207389832,
                    -0.23385661840438843,
                    -0.16757427155971527,
                    0.1470746248960495,
                    -0.8227924704551697,
                    -0.34788066148757935,
                    -0.04126225411891937,
                    -0.32054978609085083,
                    0.011225506663322449,
                    0.12343466281890869,
                    -0.4275101125240326,
                    -0.44870132207870483,
                    -0.3731960356235504,
                    -0.09076769649982452,
                    -0.4505586624145508,
                    -0.14578545093536377,
                    -0.13408507406711578,
                    0.18226420879364014,
                    -0.37646064162254333,
                    -0.13123494386672974,
                    -0.3555206060409546,
                    -0.03933894634246826,
                    0.003608986735343933,
                    -0.37690967321395874,
                    -0.2113768309354782,
                    0.0014011263847351074,
                    -0.31329625844955444,
                    -0.04158766567707062,
                    -0.07709746062755585,
                    0.005699127912521362,
                    -0.630868673324585,
                    -0.2776431441307068,
                    -0.098032146692276,
                    -0.1497594714164734,
                    -0.0795895904302597,
                    -0.0027918070554733276,
                    -0.5670427083969116,
                    -0.2000415176153183,
                    -0.12593603134155273,
                    -0.05918145179748535,
                    -0.52177494764328,
                    -0.35330572724342346
                  ],
                  "z": [
                    0.42371928691864014,
                    0.6918991804122925,
                    0.7530392408370972,
                    0.579659640789032,
                    0.4433986246585846,
                    0.18859267234802246,
                    0.7117156386375427,
                    0.5462067723274231,
                    0.748564600944519,
                    0.40167236328125,
                    0.5360981822013855,
                    0.45908868312835693,
                    0.26337552070617676,
                    -0.08594390749931335,
                    0.8504700064659119,
                    0.42178404331207275,
                    0.16634076833724976,
                    0.36873751878738403,
                    0.568518877029419,
                    0.4948105812072754,
                    0.35058724880218506,
                    0.5413037538528442,
                    0.7391977906227112,
                    0.5225898623466492,
                    0.3451043367385864,
                    0.9007806181907654,
                    0.6117057204246521,
                    0.5006522536277771,
                    0.5010174512863159,
                    0.15296614170074463,
                    0.4574087858200073,
                    0.5010577440261841,
                    0.6474679708480835,
                    0.8677273988723755,
                    0.382305383682251,
                    0.5456773042678833,
                    0.67225581407547,
                    0.5270166397094727,
                    0.661449134349823,
                    0.5840720534324646,
                    0.29573988914489746,
                    0.7825478315353394,
                    0.6593398451805115,
                    0.25858956575393677,
                    0.514914870262146,
                    -0.04586336016654968,
                    0.531375527381897,
                    0.41056346893310547,
                    0.10159093141555786,
                    0.13147008419036865,
                    0.4119163453578949,
                    0.4597325325012207,
                    0.515434980392456,
                    0.0205041766166687,
                    0.5777338147163391,
                    0.27487432956695557,
                    0.04943928122520447,
                    0.3680999279022217,
                    0.5873098969459534,
                    0.5654592514038086,
                    0.7238811254501343,
                    0.45128870010375977,
                    0.3911360800266266,
                    0.7492008209228516,
                    0.10255923867225647,
                    0.7933369874954224,
                    0.4779697358608246,
                    0.004553556442260742,
                    0.8596429824829102,
                    0.2101081907749176,
                    0.739579439163208,
                    0.6805009245872498,
                    -0.08270272612571716,
                    0.8113729953765869,
                    0.625766932964325,
                    0.0406152606010437,
                    0.44572603702545166,
                    0.06338974833488464,
                    0.3860548138618469,
                    0.24576133489608765,
                    0.6024569869041443,
                    -0.02538648247718811,
                    0.7107861042022705,
                    0.7445437908172607,
                    0.008923649787902832,
                    0.5602858066558838,
                    0.40231049060821533,
                    0.5729345679283142,
                    0.33586961030960083,
                    0.5244715809822083,
                    0.30839240550994873,
                    0.2180653214454651,
                    0.4324158728122711,
                    0.6568136811256409,
                    0.5772559642791748,
                    0.6734359860420227,
                    0.7288210988044739,
                    0.20152750611305237,
                    0.10230305790901184,
                    0.44964826107025146,
                    0.727374792098999,
                    0.8257441520690918,
                    0.7325612306594849,
                    0.24126961827278137,
                    0.7501855492591858,
                    0.8227043151855469,
                    0.8356175422668457,
                    0.39575570821762085,
                    0.17287734150886536,
                    0.7103509306907654,
                    0.39763718843460083,
                    0.15016335248947144,
                    0.47849786281585693,
                    0.668740451335907,
                    0.31759434938430786,
                    0.5327945947647095,
                    0.6155616044998169,
                    0.8073688745498657,
                    0.3550565540790558,
                    0.6058856248855591,
                    0.5853840112686157,
                    0.5562663674354553,
                    0.5150855183601379,
                    0.42099136114120483,
                    0.267447829246521,
                    0.5025430917739868,
                    0.43138423562049866,
                    0.22211766242980957,
                    0.2375536561012268,
                    0.5905860066413879,
                    0.6048136949539185,
                    0.1142018735408783,
                    0.33592721819877625,
                    0.6997818946838379,
                    0.7223559617996216,
                    0.2960573434829712,
                    0.48616600036621094,
                    0.17404010891914368,
                    0.4855491518974304,
                    0.5369746088981628,
                    0.5528057813644409,
                    0.8753697872161865,
                    0.6036629676818848,
                    0.5930104851722717,
                    0.5186160802841187,
                    0.006794542074203491,
                    0.21792173385620117,
                    0.5376240611076355,
                    0.5835838317871094,
                    0.5035820007324219,
                    0.5712797045707703,
                    0.5657618641853333,
                    0.5350182056427002,
                    0.6211380958557129,
                    0.5341305136680603,
                    0.7530779838562012,
                    0.6660561561584473,
                    0.46502700448036194,
                    0.6925932765007019,
                    0.023871392011642456,
                    0.5016894340515137,
                    0.3021870255470276,
                    0.6053383946418762,
                    0.7603442668914795,
                    0.3751371502876282,
                    0.4047551453113556,
                    0.24773234128952026,
                    0.36673370003700256,
                    0.651235044002533,
                    0.6908828020095825,
                    0.47406888008117676,
                    0.5042102336883545,
                    0.613280713558197,
                    0.7834973335266113,
                    -0.01339799165725708,
                    0.3465019762516022,
                    0.3665885925292969,
                    0.5066540837287903,
                    0.25767144560813904,
                    0.5356858968734741,
                    0.6314630508422852,
                    0.12708455324172974,
                    0.6878496408462524,
                    0.24195492267608643,
                    0.5878412127494812,
                    0.46401575207710266,
                    0.3385714888572693,
                    0.30388808250427246,
                    0.8608012199401855,
                    0.578707218170166,
                    0.5053799152374268,
                    0.818415641784668,
                    0.8519979119300842,
                    0.4409445822238922,
                    0.39249157905578613,
                    0.5561166405677795,
                    0.5942134857177734,
                    0.4011673331260681,
                    0.5639128684997559,
                    0.610906183719635,
                    0.37310361862182617,
                    0.509709894657135,
                    0.43179795145988464,
                    0.7319331169128418,
                    0.4731541574001312,
                    0.35444411635398865,
                    0.4300302267074585,
                    0.6557604074478149,
                    0.8068684339523315,
                    0.9254460334777832,
                    0.7754080891609192,
                    0.5097072124481201,
                    0.752813458442688,
                    0.36620986461639404,
                    0.5778759121894836,
                    0.1334676444530487,
                    0.48008444905281067,
                    0.5675633549690247,
                    0.6002609133720398,
                    0.5036086440086365,
                    0.32048678398132324,
                    0.8425007462501526,
                    0.5387436747550964,
                    0.4150533974170685,
                    0.23837518692016602,
                    0.2586190700531006,
                    0.2054418921470642,
                    0.33691269159317017,
                    0.4540035128593445,
                    0.4164947271347046,
                    0.14743950963020325,
                    0.7211703062057495,
                    0.6823557615280151,
                    0.5679413080215454,
                    0.6487014293670654,
                    0.37528878450393677,
                    0.6950727701187134,
                    -0.0006223917007446289,
                    0.6083323359489441,
                    0.4960741698741913,
                    0.5213693380355835,
                    0.8316851854324341,
                    0.5566428303718567,
                    0.4385238289833069,
                    0.6114732623100281,
                    0.5353912711143494,
                    0.278410404920578,
                    0.6631971597671509,
                    0.6607038974761963,
                    0.031477898359298706,
                    0.8052492141723633,
                    0.7755680084228516,
                    0.8461737632751465,
                    0.6168099045753479,
                    0.43914252519607544,
                    0.41736462712287903,
                    0.4034292995929718,
                    0.7985833287239075,
                    0.447759211063385,
                    0.3321266770362854,
                    0.31701770424842834,
                    0.7800109386444092,
                    0.20407313108444214,
                    0.7030375599861145,
                    0.27521538734436035,
                    0.34613853693008423,
                    0.8367761373519897,
                    0.30601438879966736,
                    0.3703274726867676,
                    0.6982088088989258,
                    0.4394790828227997,
                    0.6774458885192871,
                    0.3174540400505066,
                    0.3071698546409607,
                    0.6413384079933167,
                    0.7191321849822998,
                    0.604160487651825,
                    0.6965404152870178,
                    0.7066376805305481,
                    0.29035577178001404,
                    0.42171511054039,
                    0.4671209454536438,
                    0.5118905901908875,
                    0.5713444948196411,
                    0.10564157366752625,
                    0.29241394996643066,
                    0.5244641900062561,
                    0.8887081146240234,
                    0.6738394498825073,
                    0.5354979634284973,
                    0.44267088174819946,
                    0.5105845928192139,
                    0.6395440697669983,
                    0.9536170959472656,
                    0.41829097270965576,
                    0.7028828859329224,
                    0.6925677061080933,
                    0.6139969825744629,
                    0.7527032494544983,
                    0.5561819672584534,
                    0.7612411975860596,
                    0.552860677242279,
                    0.2958122193813324,
                    0.7388936281204224,
                    0.6224152445793152,
                    0.7619834542274475,
                    0.5084275007247925,
                    0.4004579186439514,
                    0.500587522983551,
                    0.8234259486198425,
                    0.7080852389335632,
                    0.6915363669395447,
                    0.6246724128723145,
                    0.556138277053833,
                    0.4686625599861145,
                    0.4697566330432892,
                    0.4523753523826599,
                    0.5404986143112183,
                    0.35159653425216675,
                    0.3496103584766388,
                    0.6238453388214111,
                    0.276838481426239,
                    0.3419792056083679,
                    0.04799041152000427,
                    0.04062700271606445,
                    0.8409368991851807,
                    0.29371097683906555,
                    0.2912667691707611,
                    0.912481427192688,
                    0.6155953407287598,
                    0.5902648568153381,
                    0.6784361004829407,
                    0.5009363889694214,
                    -0.027579575777053833,
                    0.8460936546325684,
                    0.6162068247795105,
                    0.6088785529136658,
                    0.42839547991752625,
                    0.004997193813323975,
                    0.4862132668495178,
                    0.24093911051750183,
                    0.6389188766479492,
                    0.9235560894012451,
                    0.18021243810653687,
                    0.6179894208908081,
                    -0.00614580512046814,
                    0.48689162731170654,
                    0.4460311532020569,
                    0.5197341442108154,
                    0.5668337941169739,
                    0.2772006392478943,
                    0.6413452625274658,
                    0.7456380128860474,
                    0.6234787702560425,
                    0.7799018621444702,
                    0.5708746910095215,
                    0.7992872595787048,
                    0.6450846791267395,
                    0.35153257846832275,
                    0.6431047320365906,
                    0.5629948973655701,
                    0.5365815758705139,
                    0.8043811321258545,
                    0.7002773284912109,
                    0.5576086044311523,
                    0.44768625497817993,
                    0.44510337710380554,
                    0.3636570870876312,
                    0.6238109469413757,
                    0.5701857805252075,
                    0.6052201986312866,
                    0.41312992572784424,
                    0.5824050307273865,
                    0.5587383508682251,
                    0.2661227881908417,
                    0.31226056814193726,
                    0.4921134114265442,
                    0.49662935733795166,
                    0.37479859590530396,
                    0.6803075671195984,
                    0.5341642498970032,
                    0.5765395760536194,
                    0.743546724319458,
                    0.7287368774414062,
                    0.39606499671936035,
                    0.18233418464660645,
                    0.6041584014892578,
                    0.30333781242370605,
                    0.37237346172332764,
                    0.5752695798873901,
                    0.8391296863555908,
                    0.6150224208831787,
                    0.28438907861709595,
                    0.7701812982559204,
                    0.7426276206970215,
                    0.09684678912162781,
                    0.615520715713501,
                    0.4277099668979645,
                    0.46241819858551025,
                    0.2608851492404938,
                    0.6824910640716553,
                    0.6884442567825317,
                    0.658184289932251,
                    0.2517595589160919,
                    0.6098213195800781,
                    0.0492892861366272,
                    0.630687415599823,
                    0.422727108001709,
                    0.7039088010787964,
                    0.6514522433280945,
                    0.650350034236908,
                    0.5764554738998413,
                    0.5604691505432129,
                    0.9393895864486694,
                    0.2820180058479309,
                    0.21364593505859375,
                    0.5970214009284973,
                    0.8372718095779419,
                    0.25985008478164673,
                    0.5472444295883179,
                    0.6154775619506836,
                    0.3825545907020569,
                    0.38344138860702515,
                    0.8258426189422607,
                    0.5498255491256714,
                    0.7604370713233948,
                    0.6741310358047485,
                    0.15881696343421936,
                    0.5104146003723145,
                    0.785739004611969,
                    0.37292301654815674,
                    0.5310894846916199,
                    0.4303165078163147,
                    0.5120306015014648,
                    0.6820852756500244,
                    -0.024620145559310913,
                    0.6499764919281006,
                    0.810113251209259,
                    0.5375228524208069,
                    0.289468377828598,
                    0.666301965713501,
                    0.6418346166610718,
                    0.7884628176689148,
                    0.606431245803833,
                    0.4851805567741394,
                    0.5727970600128174,
                    0.4963819682598114,
                    0.6698355078697205,
                    0.35490018129348755,
                    0.6455047726631165,
                    0.634933590888977,
                    0.4609033167362213,
                    0.5125104188919067,
                    0.32150518894195557,
                    0.5394599437713623,
                    0.20452678203582764,
                    0.195919007062912,
                    0.5017677545547485,
                    0.6437512040138245,
                    0.21449515223503113,
                    0.38995516300201416,
                    0.6817825436592102,
                    0.43989768624305725,
                    0.6940333843231201,
                    0.7467784285545349,
                    0.5603364109992981,
                    0.38230088353157043,
                    0.49985501170158386,
                    0.11875152587890625,
                    0.4685632586479187,
                    0.6683234572410583,
                    0.6092761158943176,
                    0.3910459876060486,
                    0.37617743015289307,
                    0.3359041213989258,
                    0.31532612442970276,
                    0.008440792560577393,
                    0.541300892829895,
                    0.7578936815261841,
                    0.8442732095718384,
                    -0.06536564230918884,
                    0.5779920816421509,
                    0.38567519187927246,
                    0.5246701836585999,
                    0.35245662927627563,
                    0.34513482451438904,
                    0.5329943895339966,
                    0.6263887286186218,
                    0.1841917634010315,
                    0.4109438955783844,
                    0.478619247674942,
                    0.6121422052383423,
                    0.5632756948471069,
                    0.7793999910354614,
                    0.5821637511253357,
                    0.6018137335777283,
                    0.3456219732761383,
                    0.5143644213676453,
                    0.5401491522789001,
                    0.4728526771068573
                  ]
                }
              ],
              "layout": {
                "scene": {
                  "aspectmode": "cube",
                  "xaxis": {
                    "autorange": false,
                    "range": [
                      -2,
                      2
                    ],
                    "zeroline": false
                  },
                  "yaxis": {
                    "autorange": false,
                    "range": [
                      -2,
                      2
                    ],
                    "zeroline": false
                  },
                  "zaxis": {
                    "autorange": false,
                    "range": [
                      -2,
                      2
                    ],
                    "zeroline": false
                  }
                },
                "template": {
                  "data": {
                    "bar": [
                      {
                        "error_x": {
                          "color": "#2a3f5f"
                        },
                        "error_y": {
                          "color": "#2a3f5f"
                        },
                        "marker": {
                          "line": {
                            "color": "#E5ECF6",
                            "width": 0.5
                          },
                          "pattern": {
                            "fillmode": "overlay",
                            "size": 10,
                            "solidity": 0.2
                          }
                        },
                        "type": "bar"
                      }
                    ],
                    "barpolar": [
                      {
                        "marker": {
                          "line": {
                            "color": "#E5ECF6",
                            "width": 0.5
                          },
                          "pattern": {
                            "fillmode": "overlay",
                            "size": 10,
                            "solidity": 0.2
                          }
                        },
                        "type": "barpolar"
                      }
                    ],
                    "carpet": [
                      {
                        "aaxis": {
                          "endlinecolor": "#2a3f5f",
                          "gridcolor": "white",
                          "linecolor": "white",
                          "minorgridcolor": "white",
                          "startlinecolor": "#2a3f5f"
                        },
                        "baxis": {
                          "endlinecolor": "#2a3f5f",
                          "gridcolor": "white",
                          "linecolor": "white",
                          "minorgridcolor": "white",
                          "startlinecolor": "#2a3f5f"
                        },
                        "type": "carpet"
                      }
                    ],
                    "choropleth": [
                      {
                        "colorbar": {
                          "outlinewidth": 0,
                          "ticks": ""
                        },
                        "type": "choropleth"
                      }
                    ],
                    "contour": [
                      {
                        "colorbar": {
                          "outlinewidth": 0,
                          "ticks": ""
                        },
                        "colorscale": [
                          [
                            0,
                            "#0d0887"
                          ],
                          [
                            0.1111111111111111,
                            "#46039f"
                          ],
                          [
                            0.2222222222222222,
                            "#7201a8"
                          ],
                          [
                            0.3333333333333333,
                            "#9c179e"
                          ],
                          [
                            0.4444444444444444,
                            "#bd3786"
                          ],
                          [
                            0.5555555555555556,
                            "#d8576b"
                          ],
                          [
                            0.6666666666666666,
                            "#ed7953"
                          ],
                          [
                            0.7777777777777778,
                            "#fb9f3a"
                          ],
                          [
                            0.8888888888888888,
                            "#fdca26"
                          ],
                          [
                            1,
                            "#f0f921"
                          ]
                        ],
                        "type": "contour"
                      }
                    ],
                    "contourcarpet": [
                      {
                        "colorbar": {
                          "outlinewidth": 0,
                          "ticks": ""
                        },
                        "type": "contourcarpet"
                      }
                    ],
                    "heatmap": [
                      {
                        "colorbar": {
                          "outlinewidth": 0,
                          "ticks": ""
                        },
                        "colorscale": [
                          [
                            0,
                            "#0d0887"
                          ],
                          [
                            0.1111111111111111,
                            "#46039f"
                          ],
                          [
                            0.2222222222222222,
                            "#7201a8"
                          ],
                          [
                            0.3333333333333333,
                            "#9c179e"
                          ],
                          [
                            0.4444444444444444,
                            "#bd3786"
                          ],
                          [
                            0.5555555555555556,
                            "#d8576b"
                          ],
                          [
                            0.6666666666666666,
                            "#ed7953"
                          ],
                          [
                            0.7777777777777778,
                            "#fb9f3a"
                          ],
                          [
                            0.8888888888888888,
                            "#fdca26"
                          ],
                          [
                            1,
                            "#f0f921"
                          ]
                        ],
                        "type": "heatmap"
                      }
                    ],
                    "heatmapgl": [
                      {
                        "colorbar": {
                          "outlinewidth": 0,
                          "ticks": ""
                        },
                        "colorscale": [
                          [
                            0,
                            "#0d0887"
                          ],
                          [
                            0.1111111111111111,
                            "#46039f"
                          ],
                          [
                            0.2222222222222222,
                            "#7201a8"
                          ],
                          [
                            0.3333333333333333,
                            "#9c179e"
                          ],
                          [
                            0.4444444444444444,
                            "#bd3786"
                          ],
                          [
                            0.5555555555555556,
                            "#d8576b"
                          ],
                          [
                            0.6666666666666666,
                            "#ed7953"
                          ],
                          [
                            0.7777777777777778,
                            "#fb9f3a"
                          ],
                          [
                            0.8888888888888888,
                            "#fdca26"
                          ],
                          [
                            1,
                            "#f0f921"
                          ]
                        ],
                        "type": "heatmapgl"
                      }
                    ],
                    "histogram": [
                      {
                        "marker": {
                          "pattern": {
                            "fillmode": "overlay",
                            "size": 10,
                            "solidity": 0.2
                          }
                        },
                        "type": "histogram"
                      }
                    ],
                    "histogram2d": [
                      {
                        "colorbar": {
                          "outlinewidth": 0,
                          "ticks": ""
                        },
                        "colorscale": [
                          [
                            0,
                            "#0d0887"
                          ],
                          [
                            0.1111111111111111,
                            "#46039f"
                          ],
                          [
                            0.2222222222222222,
                            "#7201a8"
                          ],
                          [
                            0.3333333333333333,
                            "#9c179e"
                          ],
                          [
                            0.4444444444444444,
                            "#bd3786"
                          ],
                          [
                            0.5555555555555556,
                            "#d8576b"
                          ],
                          [
                            0.6666666666666666,
                            "#ed7953"
                          ],
                          [
                            0.7777777777777778,
                            "#fb9f3a"
                          ],
                          [
                            0.8888888888888888,
                            "#fdca26"
                          ],
                          [
                            1,
                            "#f0f921"
                          ]
                        ],
                        "type": "histogram2d"
                      }
                    ],
                    "histogram2dcontour": [
                      {
                        "colorbar": {
                          "outlinewidth": 0,
                          "ticks": ""
                        },
                        "colorscale": [
                          [
                            0,
                            "#0d0887"
                          ],
                          [
                            0.1111111111111111,
                            "#46039f"
                          ],
                          [
                            0.2222222222222222,
                            "#7201a8"
                          ],
                          [
                            0.3333333333333333,
                            "#9c179e"
                          ],
                          [
                            0.4444444444444444,
                            "#bd3786"
                          ],
                          [
                            0.5555555555555556,
                            "#d8576b"
                          ],
                          [
                            0.6666666666666666,
                            "#ed7953"
                          ],
                          [
                            0.7777777777777778,
                            "#fb9f3a"
                          ],
                          [
                            0.8888888888888888,
                            "#fdca26"
                          ],
                          [
                            1,
                            "#f0f921"
                          ]
                        ],
                        "type": "histogram2dcontour"
                      }
                    ],
                    "mesh3d": [
                      {
                        "colorbar": {
                          "outlinewidth": 0,
                          "ticks": ""
                        },
                        "type": "mesh3d"
                      }
                    ],
                    "parcoords": [
                      {
                        "line": {
                          "colorbar": {
                            "outlinewidth": 0,
                            "ticks": ""
                          }
                        },
                        "type": "parcoords"
                      }
                    ],
                    "pie": [
                      {
                        "automargin": true,
                        "type": "pie"
                      }
                    ],
                    "scatter": [
                      {
                        "fillpattern": {
                          "fillmode": "overlay",
                          "size": 10,
                          "solidity": 0.2
                        },
                        "type": "scatter"
                      }
                    ],
                    "scatter3d": [
                      {
                        "line": {
                          "colorbar": {
                            "outlinewidth": 0,
                            "ticks": ""
                          }
                        },
                        "marker": {
                          "colorbar": {
                            "outlinewidth": 0,
                            "ticks": ""
                          }
                        },
                        "type": "scatter3d"
                      }
                    ],
                    "scattercarpet": [
                      {
                        "marker": {
                          "colorbar": {
                            "outlinewidth": 0,
                            "ticks": ""
                          }
                        },
                        "type": "scattercarpet"
                      }
                    ],
                    "scattergeo": [
                      {
                        "marker": {
                          "colorbar": {
                            "outlinewidth": 0,
                            "ticks": ""
                          }
                        },
                        "type": "scattergeo"
                      }
                    ],
                    "scattergl": [
                      {
                        "marker": {
                          "colorbar": {
                            "outlinewidth": 0,
                            "ticks": ""
                          }
                        },
                        "type": "scattergl"
                      }
                    ],
                    "scattermapbox": [
                      {
                        "marker": {
                          "colorbar": {
                            "outlinewidth": 0,
                            "ticks": ""
                          }
                        },
                        "type": "scattermapbox"
                      }
                    ],
                    "scatterpolar": [
                      {
                        "marker": {
                          "colorbar": {
                            "outlinewidth": 0,
                            "ticks": ""
                          }
                        },
                        "type": "scatterpolar"
                      }
                    ],
                    "scatterpolargl": [
                      {
                        "marker": {
                          "colorbar": {
                            "outlinewidth": 0,
                            "ticks": ""
                          }
                        },
                        "type": "scatterpolargl"
                      }
                    ],
                    "scatterternary": [
                      {
                        "marker": {
                          "colorbar": {
                            "outlinewidth": 0,
                            "ticks": ""
                          }
                        },
                        "type": "scatterternary"
                      }
                    ],
                    "surface": [
                      {
                        "colorbar": {
                          "outlinewidth": 0,
                          "ticks": ""
                        },
                        "colorscale": [
                          [
                            0,
                            "#0d0887"
                          ],
                          [
                            0.1111111111111111,
                            "#46039f"
                          ],
                          [
                            0.2222222222222222,
                            "#7201a8"
                          ],
                          [
                            0.3333333333333333,
                            "#9c179e"
                          ],
                          [
                            0.4444444444444444,
                            "#bd3786"
                          ],
                          [
                            0.5555555555555556,
                            "#d8576b"
                          ],
                          [
                            0.6666666666666666,
                            "#ed7953"
                          ],
                          [
                            0.7777777777777778,
                            "#fb9f3a"
                          ],
                          [
                            0.8888888888888888,
                            "#fdca26"
                          ],
                          [
                            1,
                            "#f0f921"
                          ]
                        ],
                        "type": "surface"
                      }
                    ],
                    "table": [
                      {
                        "cells": {
                          "fill": {
                            "color": "#EBF0F8"
                          },
                          "line": {
                            "color": "white"
                          }
                        },
                        "header": {
                          "fill": {
                            "color": "#C8D4E3"
                          },
                          "line": {
                            "color": "white"
                          }
                        },
                        "type": "table"
                      }
                    ]
                  },
                  "layout": {
                    "annotationdefaults": {
                      "arrowcolor": "#2a3f5f",
                      "arrowhead": 0,
                      "arrowwidth": 1
                    },
                    "autotypenumbers": "strict",
                    "coloraxis": {
                      "colorbar": {
                        "outlinewidth": 0,
                        "ticks": ""
                      }
                    },
                    "colorscale": {
                      "diverging": [
                        [
                          0,
                          "#8e0152"
                        ],
                        [
                          0.1,
                          "#c51b7d"
                        ],
                        [
                          0.2,
                          "#de77ae"
                        ],
                        [
                          0.3,
                          "#f1b6da"
                        ],
                        [
                          0.4,
                          "#fde0ef"
                        ],
                        [
                          0.5,
                          "#f7f7f7"
                        ],
                        [
                          0.6,
                          "#e6f5d0"
                        ],
                        [
                          0.7,
                          "#b8e186"
                        ],
                        [
                          0.8,
                          "#7fbc41"
                        ],
                        [
                          0.9,
                          "#4d9221"
                        ],
                        [
                          1,
                          "#276419"
                        ]
                      ],
                      "sequential": [
                        [
                          0,
                          "#0d0887"
                        ],
                        [
                          0.1111111111111111,
                          "#46039f"
                        ],
                        [
                          0.2222222222222222,
                          "#7201a8"
                        ],
                        [
                          0.3333333333333333,
                          "#9c179e"
                        ],
                        [
                          0.4444444444444444,
                          "#bd3786"
                        ],
                        [
                          0.5555555555555556,
                          "#d8576b"
                        ],
                        [
                          0.6666666666666666,
                          "#ed7953"
                        ],
                        [
                          0.7777777777777778,
                          "#fb9f3a"
                        ],
                        [
                          0.8888888888888888,
                          "#fdca26"
                        ],
                        [
                          1,
                          "#f0f921"
                        ]
                      ],
                      "sequentialminus": [
                        [
                          0,
                          "#0d0887"
                        ],
                        [
                          0.1111111111111111,
                          "#46039f"
                        ],
                        [
                          0.2222222222222222,
                          "#7201a8"
                        ],
                        [
                          0.3333333333333333,
                          "#9c179e"
                        ],
                        [
                          0.4444444444444444,
                          "#bd3786"
                        ],
                        [
                          0.5555555555555556,
                          "#d8576b"
                        ],
                        [
                          0.6666666666666666,
                          "#ed7953"
                        ],
                        [
                          0.7777777777777778,
                          "#fb9f3a"
                        ],
                        [
                          0.8888888888888888,
                          "#fdca26"
                        ],
                        [
                          1,
                          "#f0f921"
                        ]
                      ]
                    },
                    "colorway": [
                      "#636efa",
                      "#EF553B",
                      "#00cc96",
                      "#ab63fa",
                      "#FFA15A",
                      "#19d3f3",
                      "#FF6692",
                      "#B6E880",
                      "#FF97FF",
                      "#FECB52"
                    ],
                    "font": {
                      "color": "#2a3f5f"
                    },
                    "geo": {
                      "bgcolor": "white",
                      "lakecolor": "white",
                      "landcolor": "#E5ECF6",
                      "showlakes": true,
                      "showland": true,
                      "subunitcolor": "white"
                    },
                    "hoverlabel": {
                      "align": "left"
                    },
                    "hovermode": "closest",
                    "mapbox": {
                      "style": "light"
                    },
                    "paper_bgcolor": "white",
                    "plot_bgcolor": "#E5ECF6",
                    "polar": {
                      "angularaxis": {
                        "gridcolor": "white",
                        "linecolor": "white",
                        "ticks": ""
                      },
                      "bgcolor": "#E5ECF6",
                      "radialaxis": {
                        "gridcolor": "white",
                        "linecolor": "white",
                        "ticks": ""
                      }
                    },
                    "scene": {
                      "xaxis": {
                        "backgroundcolor": "#E5ECF6",
                        "gridcolor": "white",
                        "gridwidth": 2,
                        "linecolor": "white",
                        "showbackground": true,
                        "ticks": "",
                        "zerolinecolor": "white"
                      },
                      "yaxis": {
                        "backgroundcolor": "#E5ECF6",
                        "gridcolor": "white",
                        "gridwidth": 2,
                        "linecolor": "white",
                        "showbackground": true,
                        "ticks": "",
                        "zerolinecolor": "white"
                      },
                      "zaxis": {
                        "backgroundcolor": "#E5ECF6",
                        "gridcolor": "white",
                        "gridwidth": 2,
                        "linecolor": "white",
                        "showbackground": true,
                        "ticks": "",
                        "zerolinecolor": "white"
                      }
                    },
                    "shapedefaults": {
                      "line": {
                        "color": "#2a3f5f"
                      }
                    },
                    "ternary": {
                      "aaxis": {
                        "gridcolor": "white",
                        "linecolor": "white",
                        "ticks": ""
                      },
                      "baxis": {
                        "gridcolor": "white",
                        "linecolor": "white",
                        "ticks": ""
                      },
                      "bgcolor": "#E5ECF6",
                      "caxis": {
                        "gridcolor": "white",
                        "linecolor": "white",
                        "ticks": ""
                      }
                    },
                    "title": {
                      "x": 0.05
                    },
                    "xaxis": {
                      "automargin": true,
                      "gridcolor": "white",
                      "linecolor": "white",
                      "ticks": "",
                      "title": {
                        "standoff": 15
                      },
                      "zerolinecolor": "white",
                      "zerolinewidth": 2
                    },
                    "yaxis": {
                      "automargin": true,
                      "gridcolor": "white",
                      "linecolor": "white",
                      "ticks": "",
                      "title": {
                        "standoff": 15
                      },
                      "zerolinecolor": "white",
                      "zerolinewidth": 2
                    }
                  }
                }
              }
            },
            "text/html": [
              "<div>                            <div id=\"8305fa5c-a8ad-4f1e-918d-3deb4421a7d6\" class=\"plotly-graph-div\" style=\"height:525px; width:100%;\"></div>            <script type=\"text/javascript\">                require([\"plotly\"], function(Plotly) {                    window.PLOTLYENV=window.PLOTLYENV || {};                                    if (document.getElementById(\"8305fa5c-a8ad-4f1e-918d-3deb4421a7d6\")) {                    Plotly.newPlot(                        \"8305fa5c-a8ad-4f1e-918d-3deb4421a7d6\",                        [{\"line\":{\"width\":5},\"mode\":\"lines\",\"x\":[-0.8116552829742432,0],\"y\":[0.22163844108581543,0],\"z\":[-0.5404554605484009,0],\"type\":\"scatter3d\",\"marker\":{\"size\":1}},{\"mode\":\"markers\",\"x\":[0.897982656955719,0.7219313383102417,0.6571714878082275,0.8104338049888611,0.7214471101760864,0.8775702118873596,0.2911229431629181,0.8375489711761475,0.6513507962226868,0.9097984433174133,0.8299897313117981,0.8870172500610352,0.9403630495071411,0.9948338270187378,0.5251405239105225,0.7694789171218872,0.9621612429618835,0.9086024761199951,0.8131635785102844,0.7030050754547119,0.5616933107376099,0.29430243372917175,0.6670153737068176,0.7380115389823914,0.9367145299911499,0.39622676372528076,0.788059413433075,0.8398663401603699,0.864450216293335,0.9212933778762817,0.7792111039161682,0.8596011400222778,0.672232449054718,0.49001383781433105,0.921742856502533,0.5575623512268066,0.6073543429374695,0.8008061647415161,0.5640548467636108,0.7905396223068237,0.8865705728530884,0.5751501321792603,0.6971482634544373,0.9254368543624878,0.821526050567627,0.9882504940032959,0.8471223711967468,0.875604510307312,0.9943035840988159,0.8274443745613098,0.8242490887641907,0.8725313544273376,0.7806716561317444,0.977215051651001,0.7866759896278381,0.8691886067390442,0.7056305408477783,0.9139595031738281,0.8037632703781128,0.7633294463157654,0.6445627212524414,0.8582859635353088,0.8953549265861511,0.5508710145950317,0.9915474653244019,0.4898364543914795,0.7862759828567505,0.9981323480606079,0.46553125977516174,0.9308043122291565,0.6649129390716553,0.7160852551460266,0.9731003046035767,0.4777335524559021,0.7272477746009827,0.9896279573440552,0.8781280517578125,0.9852731823921204,0.7378262877464294,0.905781626701355,0.6834938526153564,0.9844772219657898,0.6181434392929077,0.636282205581665,0.9811687469482422,0.7749540209770203,0.9085724353790283,0.8184828758239746,0.7799087166786194,0.8249726891517639,0.8922359943389893,0.9180548191070557,0.8810349702835083,0.7065079808235168,0.46687209606170654,0.6372809410095215,0.5611083507537842,0.9070998430252075,0.8270994424819946,0.7040992975234985,0.502439022064209,0.4781002700328827,0.573016881942749,0.9375773668289185,0.33267107605934143,0.5505918264389038,0.23427006602287292,0.505351722240448,0.9820525646209717,0.5777749419212341,0.8600558638572693,0.8378320932388306,0.8771757483482361,0.6683862805366516,0.7039496302604675,0.8108348250389099,0.7726730108261108,0.5565152168273926,0.9268139600753784,0.7442583441734314,0.7897526025772095,0.8130808472633362,0.8239551782608032,0.900051474571228,0.6716905832290649,0.841412365436554,0.8974511623382568,0.9691978096961975,0.8679442405700684,0.8065459728240967,0.40122973918914795,0.9800884127616882,0.807877779006958,0.654469907283783,0.6865469217300415,0.8658620119094849,0.7388162016868591,0.9565175771713257,0.8390214443206787,0.7364815473556519,0.7706224918365479,0.4651367664337158,0.7802609801292419,0.7867847084999084,0.8529609441757202,0.675127387046814,0.9756359457969666,0.7090417146682739,0.5971358418464661,0.7945683598518372,0.8177849054336548,0.6869798302650452,0.7763704061508179,0.7312489748001099,0.8313958644866943,0.2960335612297058,0.6524728536605835,0.8840003609657288,0.578325629234314,0.673548698425293,0.8396571278572083,0.8833172917366028,0.7862012386322021,0.6493253707885742,0.8757827281951904,0.5823993682861328,0.8864440321922302,0.8202491402626038,0.7295974493026733,0.722957193851471,0.8738084435462952,0.8299815058708191,0.4808773398399353,0.5702015161514282,0.9861918687820435,0.8959759473800659,0.9142338633537292,0.769061803817749,0.9338885545730591,0.8348582983016968,0.7621884346008301,0.9059523940086365,0.6164193153381348,0.9654136896133423,0.7801513671875,0.6499836444854736,0.8294307589530945,0.9001306295394897,0.5088698267936707,0.8152002692222595,0.8084571957588196,0.5713115930557251,0.5111913084983826,0.7719973921775818,0.8048612475395203,0.7887051701545715,0.7672560214996338,0.5867350697517395,0.7315872311592102,0.7774571776390076,0.8193324208259583,0.6872822046279907,0.8259313702583313,0.5988860726356506,0.8673986792564392,0.8509957790374756,0.8554957509040833,0.754400908946991,0.5359010696411133,0.33702346682548523,0.6265183687210083,0.8430206775665283,0.6417288184165955,0.7234805822372437,0.6015992164611816,0.8363777995109558,0.6859146356582642,0.6767220497131348,0.7912715673446655,0.8592422604560852,0.910063624382019,0.4583246111869812,0.841119647026062,0.8169364333152771,0.7034367322921753,0.8398217558860779,0.883635938167572,0.9175963401794434,0.6745848655700684,0.8831773996353149,0.934746265411377,0.649867832660675,0.700559139251709,0.6643575429916382,0.6240944862365723,0.753584623336792,0.711219072341919,0.8130252361297607,0.6477957367897034,0.6867796182632446,0.8178458213806152,0.5405728816986084,0.8286172747612,0.8422930240631104,0.723596453666687,0.7674311995506287,0.9602481126785278,0.7456597685813904,0.3506948947906494,0.9931269288063049,0.4500848054885864,0.6090938448905945,0.5168072581291199,0.7642201781272888,0.8369854688644409,0.8098601698875427,0.8826835751533508,0.5616703033447266,0.8826302886009216,0.939638078212738,0.942812442779541,0.6207830905914307,0.7917425632476807,0.43329647183418274,0.958989143371582,0.9131231904029846,0.34492191672325134,0.9138971567153931,0.8412328958511353,0.5686004161834717,0.8071176409721375,0.6545424461364746,0.9354703426361084,0.8051309585571289,0.5466818809509277,0.6948729753494263,0.7868017554283142,0.4828121066093445,0.6998586654663086,0.9560106992721558,0.74360191822052,0.7995469570159912,0.8487070798873901,0.8092689514160156,0.6631868481636047,0.8902742862701416,0.7937372326850891,0.41320258378982544,0.5858994126319885,0.7692492008209229,0.7277477979660034,0.8474482297897339,0.5824792385101318,0.18605464696884155,0.7780824303627014,0.6625436544418335,0.7137975096702576,0.7853643894195557,0.5173349380493164,0.7972052097320557,0.5620784163475037,0.828701913356781,0.9474926590919495,0.3204050660133362,0.7267551422119141,0.6221783757209778,0.7890436053276062,0.9154248237609863,0.7352951765060425,0.5641171336174011,0.6940626502037048,0.6531720757484436,0.7482134699821472,0.7755073308944702,0.8824447393417358,0.7521414160728455,0.8047305941581726,0.8210841417312622,0.9044263362884521,0.9310660362243652,0.5969147682189941,0.5850178599357605,0.89128577709198,0.9626518487930298,0.9149606227874756,0.47464680671691895,0.7986042499542236,0.9547088146209717,0.4068625867366791,0.7630199790000916,0.7539470791816711,0.2135767936706543,0.8275275826454163,0.9332698583602905,0.42583805322647095,0.6894553899765015,0.7481992244720459,0.902787446975708,0.8138512372970581,0.8374907374382019,0.8705743551254272,0.6732912659645081,0.35104188323020935,0.9654563665390015,0.7083545327186584,0.9996313452720642,0.7835386991500854,0.7961388826370239,0.8264421224594116,0.714773952960968,0.948249340057373,0.7259975075721741,0.6476040482521057,0.6657552719116211,0.6226276159286499,0.7781160473823547,0.5571132898330688,0.7129875421524048,0.8990098834037781,0.7515483498573303,0.7169449925422668,0.8348647952079773,0.581445574760437,0.6485726833343506,0.8289716839790344,0.8327881693840027,0.8703567385673523,0.6987356543540955,0.6115397214889526,0.7811655402183533,0.65716552734375,0.9070289731025696,0.6654434204101562,0.783427894115448,0.9507849812507629,0.947242021560669,0.8704806566238403,0.8651930689811707,0.9222763180732727,0.7315087914466858,0.8437765836715698,0.8038713335990906,0.6534196734428406,0.6084856390953064,0.706432580947876,0.8532620072364807,0.7809981107711792,0.8413462042808533,0.9276159405708313,0.4718899726867676,0.5120160579681396,0.7602404356002808,0.9370175004005432,0.5963877439498901,0.5621654391288757,0.9299155473709106,0.7843043208122253,0.789747416973114,0.8840950131416321,0.8422146439552307,0.3840176463127136,0.6866605877876282,0.4730186462402344,0.9424437284469604,0.6151749491691589,0.9846322536468506,0.7116809487342834,0.8539788722991943,0.6144248247146606,0.7492404580116272,0.6946083307266235,0.754167377948761,0.8078001737594604,0.26069268584251404,0.914340615272522,0.7210520505905151,0.722478985786438,0.5464016795158386,0.9082140922546387,0.8226576447486877,0.6907533407211304,0.8636337518692017,0.8778191208839417,0.45221206545829773,0.7575885653495789,0.6296511888504028,0.5418727397918701,0.9860700368881226,0.8351033329963684,0.535304069519043,0.9136354923248291,0.8320966362953186,0.8814699649810791,0.8587301969528198,0.6009805202484131,0.9989525079727173,0.6588520407676697,0.5409134030342102,0.8057772517204285,0.6005931496620178,0.720740556716919,0.6582958102226257,0.5561786890029907,0.7609378695487976,0.8444446921348572,0.8036463260650635,0.8007038235664368,0.7102251648902893,0.9155256748199463,0.5040292739868164,0.7653661370277405,0.8580694198608398,0.8233509659767151,0.9151164293289185,0.28722965717315674,0.6274473071098328,0.7775697112083435,0.7925137281417847,0.7432414889335632,0.9483159184455872,0.9054579138755798,0.7166182994842529,0.3598642945289612,0.6303149461746216,0.6637917160987854,0.7637219429016113,0.9239697456359863,0.8572683334350586,0.8961770534515381,0.7609966397285461,0.6434816122055054,0.7877461314201355,0.8025457262992859,0.9150067567825317,0.9323034286499023,0.9313159584999084,0.9263942241668701,0.8305244445800781,0.5469938516616821,0.534467339515686,0.9978549480438232,0.7237849235534668,0.8980949521064758,0.8513045310974121,0.8818275332450867,0.937631368637085,0.8425990343093872,0.7794901728630066,0.7537097930908203,0.8683544397354126,0.8725327849388123,0.7764369249343872,0.822426974773407,0.6265206336975098,0.5827076435089111,0.7731776833534241,0.9298847913742065,0.8555272817611694,0.6602954268455505,0.8072084784507751],\"y\":[0.11869777739048004,-0.009524121880531311,-0.03250876069068909,-0.08480489253997803,-0.5318946242332458,-0.44079869985580444,-0.6393029093742371,-0.013037174940109253,-0.1240701973438263,0.10452777147293091,-0.1539997160434723,-0.04937681555747986,-0.21529188752174377,0.054032206535339355,-0.030468598008155823,-0.4795837700366974,0.215814471244812,0.19614872336387634,-0.12470537424087524,-0.5108292102813721,-0.7493926286697388,-0.7876399159431458,-0.09315197914838791,-0.4268946051597595,-0.05889779329299927,-0.17775997519493103,-0.06912806630134583,-0.20969492197036743,0.0413215309381485,-0.3575190305709839,-0.42849448323249817,-0.10013601183891296,-0.35901105403900146,0.08328160643577576,-0.06505991518497467,-0.6255881190299988,-0.4233120083808899,-0.28454017639160156,-0.49429479241371155,-0.18413875997066498,-0.3557114005088806,0.238372340798378,-0.28152358531951904,-0.27694422006607056,-0.24486283957958221,-0.14579959213733673,-0.004858046770095825,-0.2544693946838379,-0.03224372863769531,-0.5459409952163696,-0.3885082006454468,-0.16533352434635162,-0.3533819317817688,-0.21125926077365875,-0.21763432025909424,0.4110420048236847,-0.7068531513214111,-0.17082343995571136,0.09503549337387085,0.31238460540771484,-0.24603889882564545,0.2443028688430786,-0.2129608541727066,-0.3677492141723633,0.07946859300136566,-0.3614926338195801,-0.3915545344352722,0.06092081964015961,-0.21046310663223267,-0.29909539222717285,0.10446609556674957,0.1553722470998764,-0.2150261104106903,0.3368154764175415,-0.28200453519821167,-0.13779322803020477,-0.1738377809524536,-0.1588040292263031,-0.5536915063858032,-0.3451974391937256,-0.41216719150543213,0.1736670434474945,-0.33568131923675537,-0.20198918879032135,-0.19294697046279907,-0.29244858026504517,-0.1124391183257103,-0.042800188064575195,-0.5281422138214111,-0.210594043135643,-0.32986223697662354,-0.3310936987400055,-0.19181790947914124,-0.26351919770240784,-0.6699298620223999,-0.37464264035224915,-0.39239954948425293,-0.3695359528064728,-0.5526670813560486,-0.5496006608009338,0.46741968393325806,-0.29927706718444824,-0.3674311339855194,-0.25047510862350464,-0.5714471936225891,0.14144282042980194,-0.4968508780002594,-0.7668097019195557,0.07540778815746307,-0.4019671678543091,-0.31966984272003174,-0.5248700380325317,0.04003399610519409,-0.3256472945213318,-0.6352865099906921,-0.24223332107067108,-0.15511472523212433,-0.1960783302783966,-0.12227368354797363,-0.2810378670692444,-0.18334847688674927,-0.17166078090667725,-0.23618823289871216,-0.11257795244455338,-0.6908713579177856,-0.19868479669094086,-0.09213724732398987,0.1063927710056305,-0.4361666738986969,-0.026305273175239563,-0.6879063844680786,-0.1624341905117035,-0.4842383861541748,-0.2863120436668396,-0.08279630541801453,-0.4032779932022095,-0.46668335795402527,0.2340604066848755,-0.245530366897583,-0.4114045798778534,-0.3170911967754364,-0.1318163424730301,-0.16365821659564972,-0.17119775712490082,-0.059119805693626404,-0.7376703023910522,-0.025394976139068604,-0.4563116431236267,-0.5503260493278503,-0.33921441435813904,0.06976714730262756,-0.45603978633880615,-0.33317357301712036,-0.2818910479545593,-0.15324975550174713,-0.587569534778595,-0.36145317554473877,0.04788994789123535,-0.43110811710357666,-0.7387572526931763,0.20804740488529205,-0.35837626457214355,-0.12431124597787857,0.01590763032436371,-0.3037708103656769,-0.704971194267273,-0.3909549415111542,-0.4389733672142029,-0.20876018702983856,0.003744572401046753,0.10824820399284363,-0.2385432869195938,-0.6266129612922668,-0.24698638916015625,-0.1650647670030594,-0.27778345346450806,-0.1725960075855255,-0.3896738886833191,-0.24790693819522858,0.12669827044010162,-0.14255984127521515,-0.4038560688495636,-0.38326215744018555,-0.09712926298379898,-0.2140248864889145,-0.6018393039703369,-0.44431328773498535,0.31211739778518677,0.008534178137779236,-0.023382052779197693,-0.30164262652397156,0.06163682043552399,-0.11306261271238327,-0.45780789852142334,-0.4451391398906708,-0.2620660662651062,-0.24130621552467346,-0.7034251689910889,-0.38312220573425293,-0.14951303601264954,-0.43530261516571045,-0.5175317525863647,-0.3624749481678009,-0.3249761760234833,-0.15409395098686218,-0.38752496242523193,-0.2884461283683777,-0.02928696572780609,-0.24854275584220886,0.17310436069965363,-0.07884688675403595,-0.17179886996746063,0.14647908508777618,-0.585206151008606,-0.5514870285987854,-0.5316562652587891,-0.546845555305481,-0.4689555764198303,0.11651720106601715,-0.0898962914943695,-0.26281657814979553,-0.2830745577812195,-0.04767799377441406,-0.4004318118095398,-0.6695922613143921,-0.4773004651069641,-0.4206915497779846,-0.2109667956829071,-0.5820791721343994,-0.21570797264575958,-0.32328173518180847,-0.23996961116790771,-0.20882441103458405,-0.48587238788604736,-0.43553733825683594,-0.5396931767463684,-0.10507800430059433,-0.5822280645370483,-0.4585767388343811,-0.5312665700912476,-0.24352099001407623,0.12681011855602264,-0.059516385197639465,-0.31343185901641846,-0.32016992568969727,-0.3527120053768158,-0.020284906029701233,0.06450715661048889,-0.6636892557144165,0.11273093521595001,-0.3860021233558655,0.1658283770084381,-0.13000130653381348,-0.18844935297966003,-0.3265107274055481,-0.41222983598709106,-0.24106985330581665,-0.21631336212158203,-0.14309273660182953,0.08229608833789825,-0.10297827422618866,-0.07881344854831696,-0.575758159160614,-0.5639082193374634,-0.0677986890077591,-0.21539364755153656,-0.4252468943595886,-0.2667343318462372,-0.3939354419708252,-0.4349691867828369,-0.3942328691482544,-0.33562108874320984,-0.15530075132846832,-0.5073569416999817,-0.5383533239364624,-0.0007914155721664429,-0.12622734904289246,-0.5307766199111938,0.10421678423881531,0.04167921841144562,-0.5188573002815247,-0.37752196192741394,-0.13290688395500183,0.13656270503997803,-0.7409608364105225,-0.3491519093513489,-0.3080887198448181,-0.19864962995052338,-0.45018044114112854,-0.34856510162353516,-0.5238569378852844,-0.145378977060318,-0.5016985535621643,-0.23663946986198425,-0.4686368703842163,-0.25882720947265625,-0.10413122177124023,-0.0788087546825409,-0.4071884751319885,-0.23478835821151733,-0.3233872950077057,0.08716835081577301,-0.12146203219890594,-0.5927706360816956,-0.290562242269516,0.17965339124202728,-0.34483587741851807,-0.04038040339946747,-0.45689499378204346,-0.061170563101768494,-0.12997126579284668,-0.30845385789871216,-0.22351910173892975,-0.29882895946502686,0.04058358073234558,-0.46218234300613403,-0.3844028115272522,-0.1835271716117859,-0.24164652824401855,-0.104349784553051,-0.5044898986816406,-0.7623089551925659,-0.2977585792541504,-0.2664555311203003,-0.40149515867233276,-0.25987619161605835,-0.5253239870071411,-0.06078396737575531,0.042896851897239685,-0.19708643853664398,-0.2883598208427429,-0.7029292583465576,-0.25349748134613037,-0.3581153154373169,-0.3206052780151367,-0.38071054220199585,-0.2635623514652252,-0.03811013698577881,-0.5810519456863403,-0.2494114637374878,0.4290091097354889,-0.3721051812171936,0.15431715548038483,-0.18819519877433777,-0.3410617411136627,-0.026454776525497437,-0.38601016998291016,-0.408924400806427,-0.2164948582649231,-0.4096313416957855,-0.15486472845077515,-0.24820148944854736,0.1569494754076004,-0.409932017326355,0.063937246799469,-0.26198810338974,-0.22531038522720337,-0.27479925751686096,-0.2611633539199829,0.14694054424762726,-0.41112881898880005,-0.12280566245317459,-0.12203487008810043,-0.29827117919921875,-0.0433453768491745,-0.3256394863128662,-0.21062365174293518,-0.616053581237793,-0.48670244216918945,-0.25430047512054443,-0.44926831126213074,-0.08137811720371246,-0.4668935239315033,-0.27212536334991455,0.15870310366153717,0.07229219377040863,0.009378701448440552,-0.06928510963916779,0.09451238811016083,-0.04557071626186371,-0.052056893706321716,-0.1462639570236206,-0.1420600265264511,0.3141461908817291,-0.5865882039070129,-0.488567590713501,0.15822367370128632,-0.44735124707221985,-0.029438093304634094,-0.6681204438209534,0.1835784912109375,-0.20924150943756104,-0.20278336107730865,0.22614626586437225,-0.36397016048431396,0.35479268431663513,0.07746726274490356,-0.43973100185394287,-0.06742088496685028,-0.47181981801986694,-0.6218814849853516,-0.2335420846939087,-0.5857020616531372,-0.22003887593746185,-0.499677836894989,-0.16754071414470673,-0.30942508578300476,-0.30335143208503723,-0.3563632369041443,-0.11936827749013901,-0.307513028383255,-0.3145327568054199,-0.18257412314414978,-0.22268065810203552,-0.2905980944633484,-0.6591200828552246,-0.348697304725647,-0.02052435278892517,0.3280629515647888,-0.1541365683078766,-0.37953564524650574,-0.3283121883869171,-0.28706514835357666,0.33688056468963623,0.3517841398715973,-0.15898080170154572,-0.501918375492096,-0.049430444836616516,0.20513257384300232,-0.3099420964717865,0.16186049580574036,0.15987282991409302,-0.19452182948589325,-0.02018238604068756,-0.4166320860385895,0.03857296705245972,-0.3787408769130707,0.22611799836158752,-0.2485809028148651,-0.7453160285949707,-0.1912456601858139,0.39331260323524475,-0.2626628875732422,-0.23068352043628693,0.2269650250673294,-0.1614196002483368,-0.33537811040878296,-0.21656589210033417,-0.1893642097711563,-0.5738276839256287,0.10523337125778198,-0.2264622002840042,-0.2437753677368164,-0.2433032989501953,-0.791506290435791,-0.751318097114563,-0.5974957346916199,-0.34662842750549316,-0.18214461207389832,-0.23385661840438843,-0.16757427155971527,0.1470746248960495,-0.8227924704551697,-0.34788066148757935,-0.04126225411891937,-0.32054978609085083,0.011225506663322449,0.12343466281890869,-0.4275101125240326,-0.44870132207870483,-0.3731960356235504,-0.09076769649982452,-0.4505586624145508,-0.14578545093536377,-0.13408507406711578,0.18226420879364014,-0.37646064162254333,-0.13123494386672974,-0.3555206060409546,-0.03933894634246826,0.003608986735343933,-0.37690967321395874,-0.2113768309354782,0.0014011263847351074,-0.31329625844955444,-0.04158766567707062,-0.07709746062755585,0.005699127912521362,-0.630868673324585,-0.2776431441307068,-0.098032146692276,-0.1497594714164734,-0.0795895904302597,-0.0027918070554733276,-0.5670427083969116,-0.2000415176153183,-0.12593603134155273,-0.05918145179748535,-0.52177494764328,-0.35330572724342346],\"z\":[0.42371928691864014,0.6918991804122925,0.7530392408370972,0.579659640789032,0.4433986246585846,0.18859267234802246,0.7117156386375427,0.5462067723274231,0.748564600944519,0.40167236328125,0.5360981822013855,0.45908868312835693,0.26337552070617676,-0.08594390749931335,0.8504700064659119,0.42178404331207275,0.16634076833724976,0.36873751878738403,0.568518877029419,0.4948105812072754,0.35058724880218506,0.5413037538528442,0.7391977906227112,0.5225898623466492,0.3451043367385864,0.9007806181907654,0.6117057204246521,0.5006522536277771,0.5010174512863159,0.15296614170074463,0.4574087858200073,0.5010577440261841,0.6474679708480835,0.8677273988723755,0.382305383682251,0.5456773042678833,0.67225581407547,0.5270166397094727,0.661449134349823,0.5840720534324646,0.29573988914489746,0.7825478315353394,0.6593398451805115,0.25858956575393677,0.514914870262146,-0.04586336016654968,0.531375527381897,0.41056346893310547,0.10159093141555786,0.13147008419036865,0.4119163453578949,0.4597325325012207,0.515434980392456,0.0205041766166687,0.5777338147163391,0.27487432956695557,0.04943928122520447,0.3680999279022217,0.5873098969459534,0.5654592514038086,0.7238811254501343,0.45128870010375977,0.3911360800266266,0.7492008209228516,0.10255923867225647,0.7933369874954224,0.4779697358608246,0.004553556442260742,0.8596429824829102,0.2101081907749176,0.739579439163208,0.6805009245872498,-0.08270272612571716,0.8113729953765869,0.625766932964325,0.0406152606010437,0.44572603702545166,0.06338974833488464,0.3860548138618469,0.24576133489608765,0.6024569869041443,-0.02538648247718811,0.7107861042022705,0.7445437908172607,0.008923649787902832,0.5602858066558838,0.40231049060821533,0.5729345679283142,0.33586961030960083,0.5244715809822083,0.30839240550994873,0.2180653214454651,0.4324158728122711,0.6568136811256409,0.5772559642791748,0.6734359860420227,0.7288210988044739,0.20152750611305237,0.10230305790901184,0.44964826107025146,0.727374792098999,0.8257441520690918,0.7325612306594849,0.24126961827278137,0.7501855492591858,0.8227043151855469,0.8356175422668457,0.39575570821762085,0.17287734150886536,0.7103509306907654,0.39763718843460083,0.15016335248947144,0.47849786281585693,0.668740451335907,0.31759434938430786,0.5327945947647095,0.6155616044998169,0.8073688745498657,0.3550565540790558,0.6058856248855591,0.5853840112686157,0.5562663674354553,0.5150855183601379,0.42099136114120483,0.267447829246521,0.5025430917739868,0.43138423562049866,0.22211766242980957,0.2375536561012268,0.5905860066413879,0.6048136949539185,0.1142018735408783,0.33592721819877625,0.6997818946838379,0.7223559617996216,0.2960573434829712,0.48616600036621094,0.17404010891914368,0.4855491518974304,0.5369746088981628,0.5528057813644409,0.8753697872161865,0.6036629676818848,0.5930104851722717,0.5186160802841187,0.006794542074203491,0.21792173385620117,0.5376240611076355,0.5835838317871094,0.5035820007324219,0.5712797045707703,0.5657618641853333,0.5350182056427002,0.6211380958557129,0.5341305136680603,0.7530779838562012,0.6660561561584473,0.46502700448036194,0.6925932765007019,0.023871392011642456,0.5016894340515137,0.3021870255470276,0.6053383946418762,0.7603442668914795,0.3751371502876282,0.4047551453113556,0.24773234128952026,0.36673370003700256,0.651235044002533,0.6908828020095825,0.47406888008117676,0.5042102336883545,0.613280713558197,0.7834973335266113,-0.01339799165725708,0.3465019762516022,0.3665885925292969,0.5066540837287903,0.25767144560813904,0.5356858968734741,0.6314630508422852,0.12708455324172974,0.6878496408462524,0.24195492267608643,0.5878412127494812,0.46401575207710266,0.3385714888572693,0.30388808250427246,0.8608012199401855,0.578707218170166,0.5053799152374268,0.818415641784668,0.8519979119300842,0.4409445822238922,0.39249157905578613,0.5561166405677795,0.5942134857177734,0.4011673331260681,0.5639128684997559,0.610906183719635,0.37310361862182617,0.509709894657135,0.43179795145988464,0.7319331169128418,0.4731541574001312,0.35444411635398865,0.4300302267074585,0.6557604074478149,0.8068684339523315,0.9254460334777832,0.7754080891609192,0.5097072124481201,0.752813458442688,0.36620986461639404,0.5778759121894836,0.1334676444530487,0.48008444905281067,0.5675633549690247,0.6002609133720398,0.5036086440086365,0.32048678398132324,0.8425007462501526,0.5387436747550964,0.4150533974170685,0.23837518692016602,0.2586190700531006,0.2054418921470642,0.33691269159317017,0.4540035128593445,0.4164947271347046,0.14743950963020325,0.7211703062057495,0.6823557615280151,0.5679413080215454,0.6487014293670654,0.37528878450393677,0.6950727701187134,-0.0006223917007446289,0.6083323359489441,0.4960741698741913,0.5213693380355835,0.8316851854324341,0.5566428303718567,0.4385238289833069,0.6114732623100281,0.5353912711143494,0.278410404920578,0.6631971597671509,0.6607038974761963,0.031477898359298706,0.8052492141723633,0.7755680084228516,0.8461737632751465,0.6168099045753479,0.43914252519607544,0.41736462712287903,0.4034292995929718,0.7985833287239075,0.447759211063385,0.3321266770362854,0.31701770424842834,0.7800109386444092,0.20407313108444214,0.7030375599861145,0.27521538734436035,0.34613853693008423,0.8367761373519897,0.30601438879966736,0.3703274726867676,0.6982088088989258,0.4394790828227997,0.6774458885192871,0.3174540400505066,0.3071698546409607,0.6413384079933167,0.7191321849822998,0.604160487651825,0.6965404152870178,0.7066376805305481,0.29035577178001404,0.42171511054039,0.4671209454536438,0.5118905901908875,0.5713444948196411,0.10564157366752625,0.29241394996643066,0.5244641900062561,0.8887081146240234,0.6738394498825073,0.5354979634284973,0.44267088174819946,0.5105845928192139,0.6395440697669983,0.9536170959472656,0.41829097270965576,0.7028828859329224,0.6925677061080933,0.6139969825744629,0.7527032494544983,0.5561819672584534,0.7612411975860596,0.552860677242279,0.2958122193813324,0.7388936281204224,0.6224152445793152,0.7619834542274475,0.5084275007247925,0.4004579186439514,0.500587522983551,0.8234259486198425,0.7080852389335632,0.6915363669395447,0.6246724128723145,0.556138277053833,0.4686625599861145,0.4697566330432892,0.4523753523826599,0.5404986143112183,0.35159653425216675,0.3496103584766388,0.6238453388214111,0.276838481426239,0.3419792056083679,0.04799041152000427,0.04062700271606445,0.8409368991851807,0.29371097683906555,0.2912667691707611,0.912481427192688,0.6155953407287598,0.5902648568153381,0.6784361004829407,0.5009363889694214,-0.027579575777053833,0.8460936546325684,0.6162068247795105,0.6088785529136658,0.42839547991752625,0.004997193813323975,0.4862132668495178,0.24093911051750183,0.6389188766479492,0.9235560894012451,0.18021243810653687,0.6179894208908081,-0.00614580512046814,0.48689162731170654,0.4460311532020569,0.5197341442108154,0.5668337941169739,0.2772006392478943,0.6413452625274658,0.7456380128860474,0.6234787702560425,0.7799018621444702,0.5708746910095215,0.7992872595787048,0.6450846791267395,0.35153257846832275,0.6431047320365906,0.5629948973655701,0.5365815758705139,0.8043811321258545,0.7002773284912109,0.5576086044311523,0.44768625497817993,0.44510337710380554,0.3636570870876312,0.6238109469413757,0.5701857805252075,0.6052201986312866,0.41312992572784424,0.5824050307273865,0.5587383508682251,0.2661227881908417,0.31226056814193726,0.4921134114265442,0.49662935733795166,0.37479859590530396,0.6803075671195984,0.5341642498970032,0.5765395760536194,0.743546724319458,0.7287368774414062,0.39606499671936035,0.18233418464660645,0.6041584014892578,0.30333781242370605,0.37237346172332764,0.5752695798873901,0.8391296863555908,0.6150224208831787,0.28438907861709595,0.7701812982559204,0.7426276206970215,0.09684678912162781,0.615520715713501,0.4277099668979645,0.46241819858551025,0.2608851492404938,0.6824910640716553,0.6884442567825317,0.658184289932251,0.2517595589160919,0.6098213195800781,0.0492892861366272,0.630687415599823,0.422727108001709,0.7039088010787964,0.6514522433280945,0.650350034236908,0.5764554738998413,0.5604691505432129,0.9393895864486694,0.2820180058479309,0.21364593505859375,0.5970214009284973,0.8372718095779419,0.25985008478164673,0.5472444295883179,0.6154775619506836,0.3825545907020569,0.38344138860702515,0.8258426189422607,0.5498255491256714,0.7604370713233948,0.6741310358047485,0.15881696343421936,0.5104146003723145,0.785739004611969,0.37292301654815674,0.5310894846916199,0.4303165078163147,0.5120306015014648,0.6820852756500244,-0.024620145559310913,0.6499764919281006,0.810113251209259,0.5375228524208069,0.289468377828598,0.666301965713501,0.6418346166610718,0.7884628176689148,0.606431245803833,0.4851805567741394,0.5727970600128174,0.4963819682598114,0.6698355078697205,0.35490018129348755,0.6455047726631165,0.634933590888977,0.4609033167362213,0.5125104188919067,0.32150518894195557,0.5394599437713623,0.20452678203582764,0.195919007062912,0.5017677545547485,0.6437512040138245,0.21449515223503113,0.38995516300201416,0.6817825436592102,0.43989768624305725,0.6940333843231201,0.7467784285545349,0.5603364109992981,0.38230088353157043,0.49985501170158386,0.11875152587890625,0.4685632586479187,0.6683234572410583,0.6092761158943176,0.3910459876060486,0.37617743015289307,0.3359041213989258,0.31532612442970276,0.008440792560577393,0.541300892829895,0.7578936815261841,0.8442732095718384,-0.06536564230918884,0.5779920816421509,0.38567519187927246,0.5246701836585999,0.35245662927627563,0.34513482451438904,0.5329943895339966,0.6263887286186218,0.1841917634010315,0.4109438955783844,0.478619247674942,0.6121422052383423,0.5632756948471069,0.7793999910354614,0.5821637511253357,0.6018137335777283,0.3456219732761383,0.5143644213676453,0.5401491522789001,0.4728526771068573],\"type\":\"scatter3d\",\"marker\":{\"size\":1}}],                        {\"template\":{\"data\":{\"histogram2dcontour\":[{\"type\":\"histogram2dcontour\",\"colorbar\":{\"outlinewidth\":0,\"ticks\":\"\"},\"colorscale\":[[0.0,\"#0d0887\"],[0.1111111111111111,\"#46039f\"],[0.2222222222222222,\"#7201a8\"],[0.3333333333333333,\"#9c179e\"],[0.4444444444444444,\"#bd3786\"],[0.5555555555555556,\"#d8576b\"],[0.6666666666666666,\"#ed7953\"],[0.7777777777777778,\"#fb9f3a\"],[0.8888888888888888,\"#fdca26\"],[1.0,\"#f0f921\"]]}],\"choropleth\":[{\"type\":\"choropleth\",\"colorbar\":{\"outlinewidth\":0,\"ticks\":\"\"}}],\"histogram2d\":[{\"type\":\"histogram2d\",\"colorbar\":{\"outlinewidth\":0,\"ticks\":\"\"},\"colorscale\":[[0.0,\"#0d0887\"],[0.1111111111111111,\"#46039f\"],[0.2222222222222222,\"#7201a8\"],[0.3333333333333333,\"#9c179e\"],[0.4444444444444444,\"#bd3786\"],[0.5555555555555556,\"#d8576b\"],[0.6666666666666666,\"#ed7953\"],[0.7777777777777778,\"#fb9f3a\"],[0.8888888888888888,\"#fdca26\"],[1.0,\"#f0f921\"]]}],\"heatmap\":[{\"type\":\"heatmap\",\"colorbar\":{\"outlinewidth\":0,\"ticks\":\"\"},\"colorscale\":[[0.0,\"#0d0887\"],[0.1111111111111111,\"#46039f\"],[0.2222222222222222,\"#7201a8\"],[0.3333333333333333,\"#9c179e\"],[0.4444444444444444,\"#bd3786\"],[0.5555555555555556,\"#d8576b\"],[0.6666666666666666,\"#ed7953\"],[0.7777777777777778,\"#fb9f3a\"],[0.8888888888888888,\"#fdca26\"],[1.0,\"#f0f921\"]]}],\"heatmapgl\":[{\"type\":\"heatmapgl\",\"colorbar\":{\"outlinewidth\":0,\"ticks\":\"\"},\"colorscale\":[[0.0,\"#0d0887\"],[0.1111111111111111,\"#46039f\"],[0.2222222222222222,\"#7201a8\"],[0.3333333333333333,\"#9c179e\"],[0.4444444444444444,\"#bd3786\"],[0.5555555555555556,\"#d8576b\"],[0.6666666666666666,\"#ed7953\"],[0.7777777777777778,\"#fb9f3a\"],[0.8888888888888888,\"#fdca26\"],[1.0,\"#f0f921\"]]}],\"contourcarpet\":[{\"type\":\"contourcarpet\",\"colorbar\":{\"outlinewidth\":0,\"ticks\":\"\"}}],\"contour\":[{\"type\":\"contour\",\"colorbar\":{\"outlinewidth\":0,\"ticks\":\"\"},\"colorscale\":[[0.0,\"#0d0887\"],[0.1111111111111111,\"#46039f\"],[0.2222222222222222,\"#7201a8\"],[0.3333333333333333,\"#9c179e\"],[0.4444444444444444,\"#bd3786\"],[0.5555555555555556,\"#d8576b\"],[0.6666666666666666,\"#ed7953\"],[0.7777777777777778,\"#fb9f3a\"],[0.8888888888888888,\"#fdca26\"],[1.0,\"#f0f921\"]]}],\"surface\":[{\"type\":\"surface\",\"colorbar\":{\"outlinewidth\":0,\"ticks\":\"\"},\"colorscale\":[[0.0,\"#0d0887\"],[0.1111111111111111,\"#46039f\"],[0.2222222222222222,\"#7201a8\"],[0.3333333333333333,\"#9c179e\"],[0.4444444444444444,\"#bd3786\"],[0.5555555555555556,\"#d8576b\"],[0.6666666666666666,\"#ed7953\"],[0.7777777777777778,\"#fb9f3a\"],[0.8888888888888888,\"#fdca26\"],[1.0,\"#f0f921\"]]}],\"mesh3d\":[{\"type\":\"mesh3d\",\"colorbar\":{\"outlinewidth\":0,\"ticks\":\"\"}}],\"scatter\":[{\"fillpattern\":{\"fillmode\":\"overlay\",\"size\":10,\"solidity\":0.2},\"type\":\"scatter\"}],\"parcoords\":[{\"type\":\"parcoords\",\"line\":{\"colorbar\":{\"outlinewidth\":0,\"ticks\":\"\"}}}],\"scatterpolargl\":[{\"type\":\"scatterpolargl\",\"marker\":{\"colorbar\":{\"outlinewidth\":0,\"ticks\":\"\"}}}],\"bar\":[{\"error_x\":{\"color\":\"#2a3f5f\"},\"error_y\":{\"color\":\"#2a3f5f\"},\"marker\":{\"line\":{\"color\":\"#E5ECF6\",\"width\":0.5},\"pattern\":{\"fillmode\":\"overlay\",\"size\":10,\"solidity\":0.2}},\"type\":\"bar\"}],\"scattergeo\":[{\"type\":\"scattergeo\",\"marker\":{\"colorbar\":{\"outlinewidth\":0,\"ticks\":\"\"}}}],\"scatterpolar\":[{\"type\":\"scatterpolar\",\"marker\":{\"colorbar\":{\"outlinewidth\":0,\"ticks\":\"\"}}}],\"histogram\":[{\"marker\":{\"pattern\":{\"fillmode\":\"overlay\",\"size\":10,\"solidity\":0.2}},\"type\":\"histogram\"}],\"scattergl\":[{\"type\":\"scattergl\",\"marker\":{\"colorbar\":{\"outlinewidth\":0,\"ticks\":\"\"}}}],\"scatter3d\":[{\"type\":\"scatter3d\",\"line\":{\"colorbar\":{\"outlinewidth\":0,\"ticks\":\"\"}},\"marker\":{\"colorbar\":{\"outlinewidth\":0,\"ticks\":\"\"}}}],\"scattermapbox\":[{\"type\":\"scattermapbox\",\"marker\":{\"colorbar\":{\"outlinewidth\":0,\"ticks\":\"\"}}}],\"scatterternary\":[{\"type\":\"scatterternary\",\"marker\":{\"colorbar\":{\"outlinewidth\":0,\"ticks\":\"\"}}}],\"scattercarpet\":[{\"type\":\"scattercarpet\",\"marker\":{\"colorbar\":{\"outlinewidth\":0,\"ticks\":\"\"}}}],\"carpet\":[{\"aaxis\":{\"endlinecolor\":\"#2a3f5f\",\"gridcolor\":\"white\",\"linecolor\":\"white\",\"minorgridcolor\":\"white\",\"startlinecolor\":\"#2a3f5f\"},\"baxis\":{\"endlinecolor\":\"#2a3f5f\",\"gridcolor\":\"white\",\"linecolor\":\"white\",\"minorgridcolor\":\"white\",\"startlinecolor\":\"#2a3f5f\"},\"type\":\"carpet\"}],\"table\":[{\"cells\":{\"fill\":{\"color\":\"#EBF0F8\"},\"line\":{\"color\":\"white\"}},\"header\":{\"fill\":{\"color\":\"#C8D4E3\"},\"line\":{\"color\":\"white\"}},\"type\":\"table\"}],\"barpolar\":[{\"marker\":{\"line\":{\"color\":\"#E5ECF6\",\"width\":0.5},\"pattern\":{\"fillmode\":\"overlay\",\"size\":10,\"solidity\":0.2}},\"type\":\"barpolar\"}],\"pie\":[{\"automargin\":true,\"type\":\"pie\"}]},\"layout\":{\"autotypenumbers\":\"strict\",\"colorway\":[\"#636efa\",\"#EF553B\",\"#00cc96\",\"#ab63fa\",\"#FFA15A\",\"#19d3f3\",\"#FF6692\",\"#B6E880\",\"#FF97FF\",\"#FECB52\"],\"font\":{\"color\":\"#2a3f5f\"},\"hovermode\":\"closest\",\"hoverlabel\":{\"align\":\"left\"},\"paper_bgcolor\":\"white\",\"plot_bgcolor\":\"#E5ECF6\",\"polar\":{\"bgcolor\":\"#E5ECF6\",\"angularaxis\":{\"gridcolor\":\"white\",\"linecolor\":\"white\",\"ticks\":\"\"},\"radialaxis\":{\"gridcolor\":\"white\",\"linecolor\":\"white\",\"ticks\":\"\"}},\"ternary\":{\"bgcolor\":\"#E5ECF6\",\"aaxis\":{\"gridcolor\":\"white\",\"linecolor\":\"white\",\"ticks\":\"\"},\"baxis\":{\"gridcolor\":\"white\",\"linecolor\":\"white\",\"ticks\":\"\"},\"caxis\":{\"gridcolor\":\"white\",\"linecolor\":\"white\",\"ticks\":\"\"}},\"coloraxis\":{\"colorbar\":{\"outlinewidth\":0,\"ticks\":\"\"}},\"colorscale\":{\"sequential\":[[0.0,\"#0d0887\"],[0.1111111111111111,\"#46039f\"],[0.2222222222222222,\"#7201a8\"],[0.3333333333333333,\"#9c179e\"],[0.4444444444444444,\"#bd3786\"],[0.5555555555555556,\"#d8576b\"],[0.6666666666666666,\"#ed7953\"],[0.7777777777777778,\"#fb9f3a\"],[0.8888888888888888,\"#fdca26\"],[1.0,\"#f0f921\"]],\"sequentialminus\":[[0.0,\"#0d0887\"],[0.1111111111111111,\"#46039f\"],[0.2222222222222222,\"#7201a8\"],[0.3333333333333333,\"#9c179e\"],[0.4444444444444444,\"#bd3786\"],[0.5555555555555556,\"#d8576b\"],[0.6666666666666666,\"#ed7953\"],[0.7777777777777778,\"#fb9f3a\"],[0.8888888888888888,\"#fdca26\"],[1.0,\"#f0f921\"]],\"diverging\":[[0,\"#8e0152\"],[0.1,\"#c51b7d\"],[0.2,\"#de77ae\"],[0.3,\"#f1b6da\"],[0.4,\"#fde0ef\"],[0.5,\"#f7f7f7\"],[0.6,\"#e6f5d0\"],[0.7,\"#b8e186\"],[0.8,\"#7fbc41\"],[0.9,\"#4d9221\"],[1,\"#276419\"]]},\"xaxis\":{\"gridcolor\":\"white\",\"linecolor\":\"white\",\"ticks\":\"\",\"title\":{\"standoff\":15},\"zerolinecolor\":\"white\",\"automargin\":true,\"zerolinewidth\":2},\"yaxis\":{\"gridcolor\":\"white\",\"linecolor\":\"white\",\"ticks\":\"\",\"title\":{\"standoff\":15},\"zerolinecolor\":\"white\",\"automargin\":true,\"zerolinewidth\":2},\"scene\":{\"xaxis\":{\"backgroundcolor\":\"#E5ECF6\",\"gridcolor\":\"white\",\"linecolor\":\"white\",\"showbackground\":true,\"ticks\":\"\",\"zerolinecolor\":\"white\",\"gridwidth\":2},\"yaxis\":{\"backgroundcolor\":\"#E5ECF6\",\"gridcolor\":\"white\",\"linecolor\":\"white\",\"showbackground\":true,\"ticks\":\"\",\"zerolinecolor\":\"white\",\"gridwidth\":2},\"zaxis\":{\"backgroundcolor\":\"#E5ECF6\",\"gridcolor\":\"white\",\"linecolor\":\"white\",\"showbackground\":true,\"ticks\":\"\",\"zerolinecolor\":\"white\",\"gridwidth\":2}},\"shapedefaults\":{\"line\":{\"color\":\"#2a3f5f\"}},\"annotationdefaults\":{\"arrowcolor\":\"#2a3f5f\",\"arrowhead\":0,\"arrowwidth\":1},\"geo\":{\"bgcolor\":\"white\",\"landcolor\":\"#E5ECF6\",\"subunitcolor\":\"white\",\"showland\":true,\"showlakes\":true,\"lakecolor\":\"white\"},\"title\":{\"x\":0.05},\"mapbox\":{\"style\":\"light\"}}},\"scene\":{\"xaxis\":{\"range\":[-2,2],\"autorange\":false,\"zeroline\":false},\"yaxis\":{\"range\":[-2,2],\"autorange\":false,\"zeroline\":false},\"zaxis\":{\"range\":[-2,2],\"autorange\":false,\"zeroline\":false},\"aspectmode\":\"cube\"}},                        {\"responsive\": true}                    ).then(function(){\n",
              "                            \n",
              "var gd = document.getElementById('8305fa5c-a8ad-4f1e-918d-3deb4421a7d6');\n",
              "var x = new MutationObserver(function (mutations, observer) {{\n",
              "        var display = window.getComputedStyle(gd).display;\n",
              "        if (!display || display === 'none') {{\n",
              "            console.log([gd, 'removed!']);\n",
              "            Plotly.purge(gd);\n",
              "            observer.disconnect();\n",
              "        }}\n",
              "}});\n",
              "\n",
              "// Listen for the removal of the full notebook cells\n",
              "var notebookContainer = gd.closest('#notebook-container');\n",
              "if (notebookContainer) {{\n",
              "    x.observe(notebookContainer, {childList: true});\n",
              "}}\n",
              "\n",
              "// Listen for the clearing of the current output cell\n",
              "var outputEl = gd.closest('.output');\n",
              "if (outputEl) {{\n",
              "    x.observe(outputEl, {childList: true});\n",
              "}}\n",
              "\n",
              "                        })                };                });            </script>        </div>"
            ]
          },
          "metadata": {},
          "output_type": "display_data"
        }
      ],
      "source": [
        "from reni_neus.model_components.ddf_sampler import VMFDDFSamplerConfig, VMFDDFSampler\n",
        "sampler = VMFDDFSamplerConfig(concentration=20).setup(device='cuda:0')\n",
        "samples = sampler(num_positions=1, num_directions=500)\n",
        "positions = samples.origins.cpu().detach().numpy() # [N, 3]\n",
        "position = positions[0]\n",
        "directions = samples.directions.cpu().detach().numpy() # [N, 3]\n",
        "\n",
        "import plotly.graph_objects as go\n",
        "import numpy as np\n",
        "\n",
        "# plot directions as scatter plot\n",
        "fig = go.Figure()\n",
        "\n",
        "# plot posisiton as a line vector with origin at (position and end at origin)\n",
        "fig.add_trace(go.Scatter3d(x=[position[0], 0], y=[position[1], 0], z=[position[2], 0], mode='lines', line=dict(width=5)))\n",
        "\n",
        "# Add position points\n",
        "fig.add_trace(go.Scatter3d(x=directions[:, 0], y=directions[:, 1], z=directions[:, 2], mode='markers'))\n",
        "# make the points smaller\n",
        "fig.update_traces(marker=dict(size=1))\n",
        "\n",
        "# set square and all axes equal\n",
        "# set square and all axes equal\n",
        "fig.update_layout(\n",
        "    scene=dict(\n",
        "        aspectmode='cube',\n",
        "        xaxis=dict(range=[-2, 2], autorange=False, zeroline=False),\n",
        "        yaxis=dict(range=[-2, 2], autorange=False, zeroline=False),\n",
        "        zaxis=dict(range=[-2, 2], autorange=False, zeroline=False),\n",
        "    )\n",
        ")\n",
        "\n",
        "fig.show()\n",
        "    "
      ]
    },
    {
      "cell_type": "code",
      "execution_count": null,
      "metadata": {},
      "outputs": [],
      "source": []
    }
  ],
  "metadata": {
    "kernelspec": {
      "display_name": "Python 3",
      "language": "python",
      "name": "python3"
    },
    "language_info": {
      "codemirror_mode": {
        "name": "ipython",
        "version": 3
      },
      "file_extension": ".py",
      "mimetype": "text/x-python",
      "name": "python",
      "nbconvert_exporter": "python",
      "pygments_lexer": "ipython3",
      "version": "3.10.6"
    },
    "orig_nbformat": 4
  },
  "nbformat": 4,
  "nbformat_minor": 2
}
